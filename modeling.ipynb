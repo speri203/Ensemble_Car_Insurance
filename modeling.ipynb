{
 "cells": [
  {
   "cell_type": "code",
   "execution_count": 1,
   "metadata": {},
   "outputs": [],
   "source": [
    "import numpy as np\n",
    "import pandas as pd\n",
    "import seaborn as sns\n",
    "import sklearn.ensemble as ens\n",
    "from sklearn.model_selection import train_test_split"
   ]
  },
  {
   "cell_type": "code",
   "execution_count": 2,
   "metadata": {},
   "outputs": [],
   "source": [
    "train = pd.read_csv(\"Datasets/train_cleaned_data.csv\")\n",
    "test = pd.read_csv('Datasets/test_cleaned_data.csv')"
   ]
  },
  {
   "cell_type": "code",
   "execution_count": 3,
   "metadata": {},
   "outputs": [
    {
     "data": {
      "text/plain": [
       "Unnamed: 0                int64\n",
       "id                        int64\n",
       "Gender                    int64\n",
       "Age                       int64\n",
       "Driving_License           int64\n",
       "Region_Code             float64\n",
       "Previously_Insured        int64\n",
       "Vehicle_Age               int64\n",
       "Vehicle_Damage            int64\n",
       "Annual_Premium          float64\n",
       "Policy_Sales_Channel    float64\n",
       "Vintage                   int64\n",
       "Response                  int64\n",
       "dtype: object"
      ]
     },
     "execution_count": 3,
     "metadata": {},
     "output_type": "execute_result"
    }
   ],
   "source": [
    "train.dtypes"
   ]
  },
  {
   "cell_type": "code",
   "execution_count": 4,
   "metadata": {},
   "outputs": [
    {
     "data": {
      "text/plain": [
       "Unnamed: 0              int64\n",
       "id                      int64\n",
       "Gender                  int64\n",
       "Age                     int64\n",
       "Driving_License         int64\n",
       "Region_Code             int64\n",
       "Previously_Insured      int64\n",
       "Vehicle_Age             int64\n",
       "Vehicle_Damage          int64\n",
       "Annual_Premium          int64\n",
       "Policy_Sales_Channel    int64\n",
       "Vintage                 int64\n",
       "Response                int64\n",
       "dtype: object"
      ]
     },
     "execution_count": 4,
     "metadata": {},
     "output_type": "execute_result"
    }
   ],
   "source": [
    "## Converting float64 dtypes to int64 so the data can be compatable with the models\n",
    "train['Policy_Sales_Channel'] = train['Policy_Sales_Channel'].astype('int64')\n",
    "train['Annual_Premium'] = train['Annual_Premium'].astype('int64')\n",
    "train['Region_Code'] = train['Region_Code'].astype('int64')\n",
    "train.dtypes"
   ]
  },
  {
   "cell_type": "code",
   "execution_count": 5,
   "metadata": {},
   "outputs": [],
   "source": [
    "## Extracting responses from the training dataset\n",
    "responses = train['Response']\n",
    "\n",
    "## Will be dropping id and responses from the training dataset\n",
    "train.drop(['Response', 'id', 'Unnamed: 0'], axis=1, inplace=True)"
   ]
  },
  {
   "cell_type": "code",
   "execution_count": 6,
   "metadata": {},
   "outputs": [],
   "source": [
    "## Splitting up the data using train_test_split with a shuffle added\n",
    "x_train, y_train, x_test, y_test = train_test_split(train, responses, test_size=0.1, random_state=42)"
   ]
  },
  {
   "cell_type": "code",
   "execution_count": 7,
   "metadata": {
    "tags": []
   },
   "outputs": [
    {
     "name": "stdout",
     "output_type": "stream",
     "text": [
      "x_train length: 342998\n",
      "x_test length: 342998\n",
      "y_train length: 38111\n",
      "y_test length: 38111\n"
     ]
    }
   ],
   "source": [
    "print(\"x_train length: {}\\nx_test length: {}\\ny_train length: {}\\ny_test length: {}\".format(len(x_train), len(x_test), len(y_train), len(y_test)))"
   ]
  },
  {
   "cell_type": "code",
   "execution_count": 25,
   "metadata": {
    "tags": []
   },
   "outputs": [
    {
     "name": "stdout",
     "output_type": "stream",
     "text": [
      "Iter       Train Loss   Remaining Time \n",
      "         1           0.7126            2.31m\n",
      "         2           0.6884            2.24m\n",
      "         3           0.6688            2.25m\n",
      "         4           0.6526            2.21m\n",
      "         5           0.6390            2.18m\n",
      "         6           0.6273            2.15m\n",
      "         7           0.6172            2.13m\n",
      "         8           0.6086            2.13m\n",
      "         9           0.6012            2.11m\n",
      "        10           0.5945            2.10m\n",
      "        20           0.5582            2.03m\n",
      "        30           0.5457            1.98m\n",
      "        40           0.5403            1.92m\n",
      "        50           0.5376            1.88m\n",
      "        60           0.5356            1.84m\n",
      "        70           0.5342            1.78m\n",
      "        80           0.5331            1.73m\n",
      "        90           0.5322            1.68m\n",
      "       100           0.5315            1.63m\n",
      "       200           0.5279            1.09m\n",
      "       300           0.5260           32.55s\n",
      "       400           0.5245            0.00s\n"
     ]
    },
    {
     "data": {
      "text/plain": [
       "GradientBoostingClassifier(n_estimators=400, random_state=2, verbose=1)"
      ]
     },
     "execution_count": 25,
     "metadata": {},
     "output_type": "execute_result"
    }
   ],
   "source": [
    "from sklearn.ensemble import GradientBoostingClassifier\n",
    "\n",
    "clf = GradientBoostingClassifier(random_state=2, verbose=1, n_estimators=400)\n",
    "clf.fit(x_train, x_test)"
   ]
  },
  {
   "cell_type": "code",
   "execution_count": 26,
   "metadata": {
    "tags": []
   },
   "outputs": [
    {
     "name": "stdout",
     "output_type": "stream",
     "text": [
      "[0 0 0 0 0 0 0 0 0 0 0 0 0 0 0 0 0 0 0 0 0 0 0 0 0 0 0 0 0 0 0 0 0 0 0 0 0\n",
      " 0 0 0 0 0 0 0 0 0 0 0 0 0 0 0 0 0 0 0 0 0 0 0 0 0 0 0 0 0 0 0 0 0 0 0 0 0\n",
      " 0 0 0 0 0 0 0 0 0 0 0 0 0 0 0 0 0 0 0 0 0 0 0 0 0 0 0 0 0 0 0 0 0 0 0 0 0\n",
      " 0 0 0 0 0 0 0 0 0 0 0 0 0 0 0 0 0 0 0 0 0 0 0 0 0 0 0 0 0 0 0 0 0 0 0 0 0\n",
      " 0 0 0 0 0 0 0 0 0 0 0 0 0 0 0 0 0 0 0 0 0 0 0 0 0 0 0 0 0 0 0 0 0 0 0 0 0\n",
      " 0 0 0 0 0 0 0 0 0 0 0 0 0 0 0]\n",
      "[0 0 0 0 0 0 0 0 0 1 0 0 0 0 0 0 0 0 0 1 0 0 0 0 0 0 0 0 0 0 0 0 0 1 0 1 0\n",
      " 0 0 1 0 1 0 1 0 0 0 0 0 0 0 0 0 0 0 0 0 0 0 0 0 0 0 1 0 0 0 0 0 1 0 0 0 0\n",
      " 0 1 0 0 0 1 0 1 0 0 0 0 0 0 0 0 0 0 0 0 1 0 0 0 0 0 0 0 0 0 0 0 0 0 0 0 1\n",
      " 0 0 0 1 0 0 1 0 0 0 0 1 0 0 0 0 0 0 0 0 0 0 0 0 0 1 0 0 0 0 0 0 0 0 0 1 0\n",
      " 0 1 0 0 0 0 0 0 0 0 0 0 0 0 0 0 1 0 0 1 0 0 0 1 0 1 0 0 0 0 0 0 0 0 0 0 0\n",
      " 0 0 0 1 0 0 1 0 1 0 0 0 0 0 0]\n"
     ]
    }
   ],
   "source": [
    "prediction = clf.predict(y_train[:200])\n",
    "actual = y_test[:200]\n",
    "print(\"{}\\n{}\".format(prediction, np.array(actual)))"
   ]
  },
  {
   "cell_type": "code",
   "execution_count": 27,
   "metadata": {
    "tags": []
   },
   "outputs": [
    {
     "name": "stdout",
     "output_type": "stream",
     "text": [
      "Score: 0.8747343286715121\n"
     ]
    },
    {
     "data": {
      "text/plain": [
       "0.7130274666529549"
      ]
     },
     "execution_count": 27,
     "metadata": {},
     "output_type": "execute_result"
    }
   ],
   "source": [
    "from sklearn.metrics import roc_auc_score\n",
    "predictions = clf.predict(y_train)\n",
    "print(\"Score: {}\".format(clf.score(y_train, y_test)))\n",
    "roc_auc_score(predictions, np.array(y_test))"
   ]
  },
  {
   "cell_type": "code",
   "execution_count": 28,
   "metadata": {},
   "outputs": [
    {
     "data": {
      "text/plain": [
       "AdaBoostClassifier(n_estimators=400)"
      ]
     },
     "execution_count": 28,
     "metadata": {},
     "output_type": "execute_result"
    }
   ],
   "source": [
    "from sklearn.tree import DecisionTreeClassifier #DecisionTreeClassifier reduced accuracy, so wont use\n",
    "clf_adaboost = AdaBoostClassifier(n_estimators=400, random_state=2)\n",
    "clf_adaboost.fit(x_train, x_test)"
   ]
  },
  {
   "cell_type": "code",
   "execution_count": 29,
   "metadata": {
    "tags": []
   },
   "outputs": [
    {
     "name": "stdout",
     "output_type": "stream",
     "text": [
      "Score: 0.8744719372359686\n"
     ]
    },
    {
     "data": {
      "text/plain": [
       "0.6754409981372438"
      ]
     },
     "execution_count": 29,
     "metadata": {},
     "output_type": "execute_result"
    }
   ],
   "source": [
    "predictions = clf_adaboost.predict(y_train)\n",
    "print(\"Score: {}\".format(clf_adaboost.score(y_train, y_test)))\n",
    "roc_auc_score(predictions, np.array(y_test))"
   ]
  },
  {
   "cell_type": "code",
   "execution_count": 31,
   "metadata": {
    "tags": []
   },
   "outputs": [
    {
     "name": "stderr",
     "output_type": "stream",
     "text": [
      "[Parallel(n_jobs=1)]: Using backend SequentialBackend with 1 concurrent workers.\n",
      "[Parallel(n_jobs=1)]: Done 400 out of 400 | elapsed:  3.3min finished\n"
     ]
    },
    {
     "data": {
      "text/plain": [
       "RandomForestClassifier(n_estimators=400, random_state=2, verbose=True)"
      ]
     },
     "execution_count": 31,
     "metadata": {},
     "output_type": "execute_result"
    }
   ],
   "source": [
    "from sklearn.ensemble import RandomForestClassifier\n",
    "cls_randomforest = RandomForestClassifier(n_estimators=400, criterion='gini', random_state=2, verbose=True)\n",
    "cls_randomforest.fit(x_train, x_test)"
   ]
  },
  {
   "cell_type": "code",
   "execution_count": 33,
   "metadata": {
    "tags": []
   },
   "outputs": [
    {
     "name": "stderr",
     "output_type": "stream",
     "text": [
      "[Parallel(n_jobs=1)]: Using backend SequentialBackend with 1 concurrent workers.\n",
      "[Parallel(n_jobs=1)]: Done 400 out of 400 | elapsed:    4.7s finished\n",
      "[Parallel(n_jobs=1)]: Using backend SequentialBackend with 1 concurrent workers.\n",
      "Score: 0.8641074755319986\n",
      "[Parallel(n_jobs=1)]: Done 400 out of 400 | elapsed:    3.1s finished\n"
     ]
    },
    {
     "data": {
      "text/plain": [
       "0.6259202635157612"
      ]
     },
     "execution_count": 33,
     "metadata": {},
     "output_type": "execute_result"
    }
   ],
   "source": [
    "predictions = cls_randomforest.predict(y_train)\n",
    "print(\"Score: {}\".format(cls_randomforest.score(y_train, y_test)))\n",
    "roc_auc_score(predictions, np.array(y_test))"
   ]
  },
  {
   "cell_type": "code",
   "execution_count": 37,
   "metadata": {
    "tags": []
   },
   "outputs": [
    {
     "name": "stderr",
     "output_type": "stream",
     "text": [
      "[Parallel(n_jobs=4)]: Using backend LokyBackend with 4 concurrent workers.\n",
      "[Parallel(n_jobs=4)]: Done   2 out of   4 | elapsed:  2.6min remaining:  2.6min\n",
      "[Parallel(n_jobs=4)]: Done   4 out of   4 | elapsed:  2.6min finished\n"
     ]
    },
    {
     "data": {
      "text/plain": [
       "BaggingClassifier(n_estimators=400, n_jobs=4, random_state=2, verbose=1)"
      ]
     },
     "execution_count": 37,
     "metadata": {},
     "output_type": "execute_result"
    }
   ],
   "source": [
    "from sklearn.ensemble import BaggingClassifier\n",
    "cls_bagging = BaggingClassifier(n_estimators=400, n_jobs=4, random_state=2, verbose=1)\n",
    "cls_bagging.fit(x_train, x_test)"
   ]
  },
  {
   "cell_type": "code",
   "execution_count": 38,
   "metadata": {
    "tags": []
   },
   "outputs": [
    {
     "name": "stderr",
     "output_type": "stream",
     "text": [
      "[Parallel(n_jobs=4)]: Using backend LokyBackend with 4 concurrent workers.\n",
      "[Parallel(n_jobs=4)]: Done   2 out of   4 | elapsed:    4.1s remaining:    4.1s\n",
      "[Parallel(n_jobs=4)]: Done   4 out of   4 | elapsed:    5.2s finished\n",
      "[Parallel(n_jobs=4)]: Using backend LokyBackend with 4 concurrent workers.\n",
      "[Parallel(n_jobs=4)]: Done   2 out of   4 | elapsed:    5.8s remaining:    5.8s\n",
      "Score: 0.8619821049040959\n",
      "[Parallel(n_jobs=4)]: Done   4 out of   4 | elapsed:    6.3s finished\n"
     ]
    },
    {
     "data": {
      "text/plain": [
       "0.6209097947203638"
      ]
     },
     "execution_count": 38,
     "metadata": {},
     "output_type": "execute_result"
    }
   ],
   "source": [
    "predictions = cls_bagging.predict(y_train)\n",
    "print(\"Score: {}\".format(cls_bagging.score(y_train, y_test)))\n",
    "roc_auc_score(predictions, np.array(y_test))"
   ]
  },
  {
   "cell_type": "code",
   "execution_count": 41,
   "metadata": {
    "tags": []
   },
   "outputs": [
    {
     "name": "stderr",
     "output_type": "stream",
     "text": [
      "[Parallel(n_jobs=1)]: Using backend SequentialBackend with 1 concurrent workers.\n",
      "[Parallel(n_jobs=1)]: Done 400 out of 400 | elapsed:  2.3min finished\n"
     ]
    },
    {
     "data": {
      "text/plain": [
       "ExtraTreesClassifier(n_estimators=400, random_state=2, verbose=True)"
      ]
     },
     "execution_count": 41,
     "metadata": {},
     "output_type": "execute_result"
    }
   ],
   "source": [
    "from sklearn.ensemble import ExtraTreesClassifier\n",
    "cls_extra = ExtraTreesClassifier(n_estimators=400, criterion='gini', random_state=2, verbose=True)\n",
    "cls_extra.fit(x_train, x_test)"
   ]
  },
  {
   "cell_type": "code",
   "execution_count": 42,
   "metadata": {
    "tags": []
   },
   "outputs": [
    {
     "name": "stderr",
     "output_type": "stream",
     "text": [
      "[Parallel(n_jobs=1)]: Using backend SequentialBackend with 1 concurrent workers.\n",
      "[Parallel(n_jobs=1)]: Done 400 out of 400 | elapsed:   11.7s finished\n",
      "[Parallel(n_jobs=1)]: Using backend SequentialBackend with 1 concurrent workers.\n",
      "Score: 0.8598042559890845\n",
      "[Parallel(n_jobs=1)]: Done 400 out of 400 | elapsed:    4.3s finished\n"
     ]
    },
    {
     "data": {
      "text/plain": [
       "0.6238235648978123"
      ]
     },
     "execution_count": 42,
     "metadata": {},
     "output_type": "execute_result"
    }
   ],
   "source": [
    "predictions = cls_extra.predict(y_train)\n",
    "print(\"Score: {}\".format(cls_extra.score(y_train, y_test)))\n",
    "roc_auc_score(predictions, np.array(y_test))"
   ]
  },
  {
   "cell_type": "code",
   "execution_count": 24,
   "metadata": {},
   "outputs": [
    {
     "name": "stdout",
     "output_type": "stream",
     "text": [
      "Learning rate set to 0.134007\n",
      "0:\tlearn: 0.4849927\ttest: 0.4856354\tbest: 0.4856354 (0)\ttotal: 94.9ms\tremaining: 1m 34s\n",
      "1:\tlearn: 0.3870166\ttest: 0.3880742\tbest: 0.3880742 (1)\ttotal: 182ms\tremaining: 1m 31s\n",
      "2:\tlearn: 0.3396596\ttest: 0.3409384\tbest: 0.3409384 (2)\ttotal: 271ms\tremaining: 1m 30s\n",
      "3:\tlearn: 0.3146431\ttest: 0.3160981\tbest: 0.3160981 (3)\ttotal: 355ms\tremaining: 1m 28s\n",
      "4:\tlearn: 0.3004845\ttest: 0.3021597\tbest: 0.3021597 (4)\ttotal: 427ms\tremaining: 1m 24s\n",
      "5:\tlearn: 0.2914089\ttest: 0.2932280\tbest: 0.2932280 (5)\ttotal: 502ms\tremaining: 1m 23s\n",
      "6:\tlearn: 0.2860220\ttest: 0.2880633\tbest: 0.2880633 (6)\ttotal: 571ms\tremaining: 1m 20s\n",
      "7:\tlearn: 0.2822834\ttest: 0.2845279\tbest: 0.2845279 (7)\ttotal: 645ms\tremaining: 1m 20s\n",
      "8:\tlearn: 0.2786803\ttest: 0.2810333\tbest: 0.2810333 (8)\ttotal: 727ms\tremaining: 1m 20s\n",
      "9:\tlearn: 0.2756743\ttest: 0.2781573\tbest: 0.2781573 (9)\ttotal: 822ms\tremaining: 1m 21s\n",
      "10:\tlearn: 0.2735502\ttest: 0.2761082\tbest: 0.2761082 (10)\ttotal: 898ms\tremaining: 1m 20s\n",
      "11:\tlearn: 0.2719336\ttest: 0.2746091\tbest: 0.2746091 (11)\ttotal: 959ms\tremaining: 1m 18s\n",
      "12:\tlearn: 0.2706501\ttest: 0.2733882\tbest: 0.2733882 (12)\ttotal: 1.04s\tremaining: 1m 18s\n",
      "13:\tlearn: 0.2698240\ttest: 0.2726413\tbest: 0.2726413 (13)\ttotal: 1.12s\tremaining: 1m 19s\n",
      "14:\tlearn: 0.2688194\ttest: 0.2716187\tbest: 0.2716187 (14)\ttotal: 1.2s\tremaining: 1m 18s\n",
      "15:\tlearn: 0.2682637\ttest: 0.2710781\tbest: 0.2710781 (15)\ttotal: 1.29s\tremaining: 1m 19s\n",
      "16:\tlearn: 0.2677878\ttest: 0.2706509\tbest: 0.2706509 (16)\ttotal: 1.37s\tremaining: 1m 19s\n",
      "17:\tlearn: 0.2674603\ttest: 0.2703908\tbest: 0.2703908 (17)\ttotal: 1.44s\tremaining: 1m 18s\n",
      "18:\tlearn: 0.2669712\ttest: 0.2698966\tbest: 0.2698966 (18)\ttotal: 1.51s\tremaining: 1m 17s\n",
      "19:\tlearn: 0.2666203\ttest: 0.2695898\tbest: 0.2695898 (19)\ttotal: 1.59s\tremaining: 1m 17s\n",
      "20:\tlearn: 0.2663311\ttest: 0.2693441\tbest: 0.2693441 (20)\ttotal: 1.67s\tremaining: 1m 17s\n",
      "21:\tlearn: 0.2661589\ttest: 0.2692174\tbest: 0.2692174 (21)\ttotal: 1.74s\tremaining: 1m 17s\n",
      "22:\tlearn: 0.2659110\ttest: 0.2690054\tbest: 0.2690054 (22)\ttotal: 1.83s\tremaining: 1m 17s\n",
      "23:\tlearn: 0.2657534\ttest: 0.2688518\tbest: 0.2688518 (23)\ttotal: 1.9s\tremaining: 1m 17s\n",
      "24:\tlearn: 0.2655510\ttest: 0.2686781\tbest: 0.2686781 (24)\ttotal: 1.98s\tremaining: 1m 17s\n",
      "25:\tlearn: 0.2654566\ttest: 0.2686377\tbest: 0.2686377 (25)\ttotal: 2.05s\tremaining: 1m 16s\n",
      "26:\tlearn: 0.2653022\ttest: 0.2684880\tbest: 0.2684880 (26)\ttotal: 2.12s\tremaining: 1m 16s\n",
      "27:\tlearn: 0.2651976\ttest: 0.2684009\tbest: 0.2684009 (27)\ttotal: 2.19s\tremaining: 1m 15s\n",
      "28:\tlearn: 0.2650809\ttest: 0.2683175\tbest: 0.2683175 (28)\ttotal: 2.25s\tremaining: 1m 15s\n",
      "29:\tlearn: 0.2649418\ttest: 0.2681836\tbest: 0.2681836 (29)\ttotal: 2.32s\tremaining: 1m 15s\n",
      "30:\tlearn: 0.2648681\ttest: 0.2681203\tbest: 0.2681203 (30)\ttotal: 2.39s\tremaining: 1m 14s\n",
      "31:\tlearn: 0.2648169\ttest: 0.2680799\tbest: 0.2680799 (31)\ttotal: 2.46s\tremaining: 1m 14s\n",
      "32:\tlearn: 0.2647213\ttest: 0.2679784\tbest: 0.2679784 (32)\ttotal: 2.54s\tremaining: 1m 14s\n",
      "33:\tlearn: 0.2646311\ttest: 0.2678853\tbest: 0.2678853 (33)\ttotal: 2.63s\tremaining: 1m 14s\n",
      "34:\tlearn: 0.2645011\ttest: 0.2677706\tbest: 0.2677706 (34)\ttotal: 2.69s\tremaining: 1m 14s\n",
      "35:\tlearn: 0.2644142\ttest: 0.2676750\tbest: 0.2676750 (35)\ttotal: 2.76s\tremaining: 1m 13s\n",
      "36:\tlearn: 0.2643644\ttest: 0.2676342\tbest: 0.2676342 (36)\ttotal: 2.83s\tremaining: 1m 13s\n",
      "37:\tlearn: 0.2643053\ttest: 0.2675892\tbest: 0.2675892 (37)\ttotal: 2.9s\tremaining: 1m 13s\n",
      "38:\tlearn: 0.2642576\ttest: 0.2675557\tbest: 0.2675557 (38)\ttotal: 2.99s\tremaining: 1m 13s\n",
      "39:\tlearn: 0.2642173\ttest: 0.2675042\tbest: 0.2675042 (39)\ttotal: 3.06s\tremaining: 1m 13s\n",
      "40:\tlearn: 0.2641649\ttest: 0.2674630\tbest: 0.2674630 (40)\ttotal: 3.14s\tremaining: 1m 13s\n",
      "41:\tlearn: 0.2640794\ttest: 0.2674114\tbest: 0.2674114 (41)\ttotal: 3.23s\tremaining: 1m 13s\n",
      "42:\tlearn: 0.2640371\ttest: 0.2673942\tbest: 0.2673942 (42)\ttotal: 3.31s\tremaining: 1m 13s\n",
      "43:\tlearn: 0.2640073\ttest: 0.2673921\tbest: 0.2673921 (43)\ttotal: 3.37s\tremaining: 1m 13s\n",
      "44:\tlearn: 0.2639629\ttest: 0.2673894\tbest: 0.2673894 (44)\ttotal: 3.46s\tremaining: 1m 13s\n",
      "45:\tlearn: 0.2639587\ttest: 0.2673909\tbest: 0.2673894 (44)\ttotal: 3.49s\tremaining: 1m 12s\n",
      "46:\tlearn: 0.2639261\ttest: 0.2673725\tbest: 0.2673725 (46)\ttotal: 3.58s\tremaining: 1m 12s\n",
      "47:\tlearn: 0.2638983\ttest: 0.2673477\tbest: 0.2673477 (47)\ttotal: 3.65s\tremaining: 1m 12s\n",
      "48:\tlearn: 0.2638450\ttest: 0.2673045\tbest: 0.2673045 (48)\ttotal: 3.72s\tremaining: 1m 12s\n",
      "49:\tlearn: 0.2638102\ttest: 0.2672853\tbest: 0.2672853 (49)\ttotal: 3.79s\tremaining: 1m 12s\n",
      "50:\tlearn: 0.2637559\ttest: 0.2672572\tbest: 0.2672572 (50)\ttotal: 3.87s\tremaining: 1m 11s\n",
      "51:\tlearn: 0.2637315\ttest: 0.2672560\tbest: 0.2672560 (51)\ttotal: 3.93s\tremaining: 1m 11s\n",
      "52:\tlearn: 0.2637110\ttest: 0.2672523\tbest: 0.2672523 (52)\ttotal: 3.98s\tremaining: 1m 11s\n",
      "53:\tlearn: 0.2637051\ttest: 0.2672478\tbest: 0.2672478 (53)\ttotal: 4.04s\tremaining: 1m 10s\n",
      "54:\tlearn: 0.2636866\ttest: 0.2672529\tbest: 0.2672478 (53)\ttotal: 4.11s\tremaining: 1m 10s\n",
      "55:\tlearn: 0.2636829\ttest: 0.2672540\tbest: 0.2672478 (53)\ttotal: 4.15s\tremaining: 1m 9s\n",
      "56:\tlearn: 0.2636795\ttest: 0.2672582\tbest: 0.2672478 (53)\ttotal: 4.2s\tremaining: 1m 9s\n",
      "57:\tlearn: 0.2636331\ttest: 0.2672186\tbest: 0.2672186 (57)\ttotal: 4.27s\tremaining: 1m 9s\n",
      "58:\tlearn: 0.2636117\ttest: 0.2672107\tbest: 0.2672107 (58)\ttotal: 4.35s\tremaining: 1m 9s\n",
      "59:\tlearn: 0.2635666\ttest: 0.2671662\tbest: 0.2671662 (59)\ttotal: 4.45s\tremaining: 1m 9s\n",
      "60:\tlearn: 0.2635373\ttest: 0.2671785\tbest: 0.2671662 (59)\ttotal: 4.53s\tremaining: 1m 9s\n",
      "61:\tlearn: 0.2635235\ttest: 0.2671676\tbest: 0.2671662 (59)\ttotal: 4.61s\tremaining: 1m 9s\n",
      "62:\tlearn: 0.2634975\ttest: 0.2671471\tbest: 0.2671471 (62)\ttotal: 4.68s\tremaining: 1m 9s\n",
      "63:\tlearn: 0.2634671\ttest: 0.2671331\tbest: 0.2671331 (63)\ttotal: 4.74s\tremaining: 1m 9s\n",
      "64:\tlearn: 0.2634423\ttest: 0.2671223\tbest: 0.2671223 (64)\ttotal: 4.81s\tremaining: 1m 9s\n",
      "65:\tlearn: 0.2633993\ttest: 0.2670748\tbest: 0.2670748 (65)\ttotal: 4.9s\tremaining: 1m 9s\n",
      "66:\tlearn: 0.2633660\ttest: 0.2670410\tbest: 0.2670410 (66)\ttotal: 4.98s\tremaining: 1m 9s\n",
      "67:\tlearn: 0.2633486\ttest: 0.2670435\tbest: 0.2670410 (66)\ttotal: 5.07s\tremaining: 1m 9s\n",
      "68:\tlearn: 0.2633300\ttest: 0.2670415\tbest: 0.2670410 (66)\ttotal: 5.14s\tremaining: 1m 9s\n",
      "69:\tlearn: 0.2633006\ttest: 0.2670354\tbest: 0.2670354 (69)\ttotal: 5.23s\tremaining: 1m 9s\n",
      "70:\tlearn: 0.2632635\ttest: 0.2670199\tbest: 0.2670199 (70)\ttotal: 5.3s\tremaining: 1m 9s\n",
      "71:\tlearn: 0.2632514\ttest: 0.2670185\tbest: 0.2670185 (71)\ttotal: 5.38s\tremaining: 1m 9s\n",
      "72:\tlearn: 0.2632429\ttest: 0.2670185\tbest: 0.2670185 (71)\ttotal: 5.45s\tremaining: 1m 9s\n",
      "73:\tlearn: 0.2632248\ttest: 0.2670071\tbest: 0.2670071 (73)\ttotal: 5.52s\tremaining: 1m 9s\n",
      "74:\tlearn: 0.2632082\ttest: 0.2669952\tbest: 0.2669952 (74)\ttotal: 5.59s\tremaining: 1m 8s\n",
      "75:\tlearn: 0.2631798\ttest: 0.2669884\tbest: 0.2669884 (75)\ttotal: 5.66s\tremaining: 1m 8s\n",
      "76:\tlearn: 0.2631630\ttest: 0.2669597\tbest: 0.2669597 (76)\ttotal: 5.73s\tremaining: 1m 8s\n",
      "77:\tlearn: 0.2631532\ttest: 0.2669488\tbest: 0.2669488 (77)\ttotal: 5.81s\tremaining: 1m 8s\n",
      "78:\tlearn: 0.2631240\ttest: 0.2669254\tbest: 0.2669254 (78)\ttotal: 5.89s\tremaining: 1m 8s\n",
      "79:\tlearn: 0.2630975\ttest: 0.2669302\tbest: 0.2669254 (78)\ttotal: 5.94s\tremaining: 1m 8s\n",
      "80:\tlearn: 0.2630915\ttest: 0.2669262\tbest: 0.2669254 (78)\ttotal: 6.01s\tremaining: 1m 8s\n",
      "81:\tlearn: 0.2630730\ttest: 0.2669209\tbest: 0.2669209 (81)\ttotal: 6.08s\tremaining: 1m 8s\n",
      "82:\tlearn: 0.2630667\ttest: 0.2669184\tbest: 0.2669184 (82)\ttotal: 6.13s\tremaining: 1m 7s\n",
      "83:\tlearn: 0.2630014\ttest: 0.2668928\tbest: 0.2668928 (83)\ttotal: 6.19s\tremaining: 1m 7s\n",
      "84:\tlearn: 0.2629852\ttest: 0.2668732\tbest: 0.2668732 (84)\ttotal: 6.25s\tremaining: 1m 7s\n",
      "85:\tlearn: 0.2629627\ttest: 0.2668629\tbest: 0.2668629 (85)\ttotal: 6.31s\tremaining: 1m 7s\n",
      "86:\tlearn: 0.2629321\ttest: 0.2668500\tbest: 0.2668500 (86)\ttotal: 6.37s\tremaining: 1m 6s\n",
      "87:\tlearn: 0.2629225\ttest: 0.2668475\tbest: 0.2668475 (87)\ttotal: 6.45s\tremaining: 1m 6s\n",
      "88:\tlearn: 0.2629095\ttest: 0.2668456\tbest: 0.2668456 (88)\ttotal: 6.52s\tremaining: 1m 6s\n",
      "89:\tlearn: 0.2628923\ttest: 0.2668368\tbest: 0.2668368 (89)\ttotal: 6.59s\tremaining: 1m 6s\n",
      "90:\tlearn: 0.2628866\ttest: 0.2668373\tbest: 0.2668368 (89)\ttotal: 6.66s\tremaining: 1m 6s\n",
      "91:\tlearn: 0.2628513\ttest: 0.2668147\tbest: 0.2668147 (91)\ttotal: 6.74s\tremaining: 1m 6s\n",
      "92:\tlearn: 0.2628244\ttest: 0.2667945\tbest: 0.2667945 (92)\ttotal: 6.83s\tremaining: 1m 6s\n",
      "93:\tlearn: 0.2627935\ttest: 0.2667707\tbest: 0.2667707 (93)\ttotal: 6.91s\tremaining: 1m 6s\n"
     ]
    },
    {
     "name": "stdout",
     "output_type": "stream",
     "text": [
      "94:\tlearn: 0.2627779\ttest: 0.2667613\tbest: 0.2667613 (94)\ttotal: 7.01s\tremaining: 1m 6s\n",
      "95:\tlearn: 0.2627686\ttest: 0.2667613\tbest: 0.2667613 (94)\ttotal: 7.07s\tremaining: 1m 6s\n",
      "96:\tlearn: 0.2627533\ttest: 0.2667597\tbest: 0.2667597 (96)\ttotal: 7.14s\tremaining: 1m 6s\n",
      "97:\tlearn: 0.2627324\ttest: 0.2667536\tbest: 0.2667536 (97)\ttotal: 7.21s\tremaining: 1m 6s\n",
      "98:\tlearn: 0.2627249\ttest: 0.2667528\tbest: 0.2667528 (98)\ttotal: 7.28s\tremaining: 1m 6s\n",
      "99:\tlearn: 0.2627139\ttest: 0.2667719\tbest: 0.2667528 (98)\ttotal: 7.36s\tremaining: 1m 6s\n",
      "100:\tlearn: 0.2627006\ttest: 0.2667714\tbest: 0.2667528 (98)\ttotal: 7.45s\tremaining: 1m 6s\n",
      "101:\tlearn: 0.2626850\ttest: 0.2667772\tbest: 0.2667528 (98)\ttotal: 7.54s\tremaining: 1m 6s\n",
      "102:\tlearn: 0.2626642\ttest: 0.2667680\tbest: 0.2667528 (98)\ttotal: 7.65s\tremaining: 1m 6s\n",
      "103:\tlearn: 0.2626444\ttest: 0.2667637\tbest: 0.2667528 (98)\ttotal: 7.76s\tremaining: 1m 6s\n",
      "104:\tlearn: 0.2626074\ttest: 0.2667564\tbest: 0.2667528 (98)\ttotal: 7.88s\tremaining: 1m 7s\n",
      "105:\tlearn: 0.2625874\ttest: 0.2667729\tbest: 0.2667528 (98)\ttotal: 7.98s\tremaining: 1m 7s\n",
      "106:\tlearn: 0.2625739\ttest: 0.2667950\tbest: 0.2667528 (98)\ttotal: 8.06s\tremaining: 1m 7s\n",
      "107:\tlearn: 0.2625469\ttest: 0.2668093\tbest: 0.2667528 (98)\ttotal: 8.15s\tremaining: 1m 7s\n",
      "108:\tlearn: 0.2625218\ttest: 0.2668153\tbest: 0.2667528 (98)\ttotal: 8.25s\tremaining: 1m 7s\n",
      "109:\tlearn: 0.2624943\ttest: 0.2668115\tbest: 0.2667528 (98)\ttotal: 8.38s\tremaining: 1m 7s\n",
      "110:\tlearn: 0.2624734\ttest: 0.2668337\tbest: 0.2667528 (98)\ttotal: 8.46s\tremaining: 1m 7s\n",
      "111:\tlearn: 0.2624530\ttest: 0.2668379\tbest: 0.2667528 (98)\ttotal: 8.56s\tremaining: 1m 7s\n",
      "112:\tlearn: 0.2624430\ttest: 0.2668391\tbest: 0.2667528 (98)\ttotal: 8.64s\tremaining: 1m 7s\n",
      "113:\tlearn: 0.2624388\ttest: 0.2668396\tbest: 0.2667528 (98)\ttotal: 8.71s\tremaining: 1m 7s\n",
      "114:\tlearn: 0.2624213\ttest: 0.2668476\tbest: 0.2667528 (98)\ttotal: 8.8s\tremaining: 1m 7s\n",
      "115:\tlearn: 0.2624141\ttest: 0.2668446\tbest: 0.2667528 (98)\ttotal: 8.88s\tremaining: 1m 7s\n",
      "116:\tlearn: 0.2624015\ttest: 0.2668505\tbest: 0.2667528 (98)\ttotal: 8.96s\tremaining: 1m 7s\n",
      "117:\tlearn: 0.2623857\ttest: 0.2668655\tbest: 0.2667528 (98)\ttotal: 9.05s\tremaining: 1m 7s\n",
      "118:\tlearn: 0.2623517\ttest: 0.2668653\tbest: 0.2667528 (98)\ttotal: 9.13s\tremaining: 1m 7s\n",
      "119:\tlearn: 0.2623302\ttest: 0.2668642\tbest: 0.2667528 (98)\ttotal: 9.22s\tremaining: 1m 7s\n",
      "120:\tlearn: 0.2623175\ttest: 0.2668681\tbest: 0.2667528 (98)\ttotal: 9.3s\tremaining: 1m 7s\n",
      "121:\tlearn: 0.2623133\ttest: 0.2668671\tbest: 0.2667528 (98)\ttotal: 9.37s\tremaining: 1m 7s\n",
      "122:\tlearn: 0.2623060\ttest: 0.2668670\tbest: 0.2667528 (98)\ttotal: 9.45s\tremaining: 1m 7s\n",
      "123:\tlearn: 0.2622876\ttest: 0.2668737\tbest: 0.2667528 (98)\ttotal: 9.53s\tremaining: 1m 7s\n",
      "124:\tlearn: 0.2622820\ttest: 0.2668775\tbest: 0.2667528 (98)\ttotal: 9.58s\tremaining: 1m 7s\n",
      "125:\tlearn: 0.2622396\ttest: 0.2668657\tbest: 0.2667528 (98)\ttotal: 9.67s\tremaining: 1m 7s\n",
      "126:\tlearn: 0.2622166\ttest: 0.2668597\tbest: 0.2667528 (98)\ttotal: 9.74s\tremaining: 1m 6s\n",
      "127:\tlearn: 0.2622030\ttest: 0.2668507\tbest: 0.2667528 (98)\ttotal: 9.81s\tremaining: 1m 6s\n",
      "128:\tlearn: 0.2621846\ttest: 0.2668508\tbest: 0.2667528 (98)\ttotal: 9.9s\tremaining: 1m 6s\n",
      "129:\tlearn: 0.2621712\ttest: 0.2668546\tbest: 0.2667528 (98)\ttotal: 9.96s\tremaining: 1m 6s\n",
      "130:\tlearn: 0.2621662\ttest: 0.2668544\tbest: 0.2667528 (98)\ttotal: 10s\tremaining: 1m 6s\n",
      "131:\tlearn: 0.2621597\ttest: 0.2668434\tbest: 0.2667528 (98)\ttotal: 10.1s\tremaining: 1m 6s\n",
      "132:\tlearn: 0.2621584\ttest: 0.2668428\tbest: 0.2667528 (98)\ttotal: 10.2s\tremaining: 1m 6s\n",
      "133:\tlearn: 0.2621496\ttest: 0.2668406\tbest: 0.2667528 (98)\ttotal: 10.2s\tremaining: 1m 6s\n",
      "134:\tlearn: 0.2621357\ttest: 0.2668428\tbest: 0.2667528 (98)\ttotal: 10.3s\tremaining: 1m 6s\n",
      "135:\tlearn: 0.2621060\ttest: 0.2668646\tbest: 0.2667528 (98)\ttotal: 10.4s\tremaining: 1m 5s\n",
      "136:\tlearn: 0.2620882\ttest: 0.2668563\tbest: 0.2667528 (98)\ttotal: 10.4s\tremaining: 1m 5s\n",
      "137:\tlearn: 0.2620657\ttest: 0.2668565\tbest: 0.2667528 (98)\ttotal: 10.5s\tremaining: 1m 5s\n",
      "138:\tlearn: 0.2620611\ttest: 0.2668634\tbest: 0.2667528 (98)\ttotal: 10.6s\tremaining: 1m 5s\n",
      "139:\tlearn: 0.2620354\ttest: 0.2668692\tbest: 0.2667528 (98)\ttotal: 10.7s\tremaining: 1m 5s\n",
      "140:\tlearn: 0.2620095\ttest: 0.2668539\tbest: 0.2667528 (98)\ttotal: 10.8s\tremaining: 1m 5s\n",
      "141:\tlearn: 0.2619957\ttest: 0.2668591\tbest: 0.2667528 (98)\ttotal: 10.9s\tremaining: 1m 5s\n",
      "142:\tlearn: 0.2619803\ttest: 0.2668643\tbest: 0.2667528 (98)\ttotal: 10.9s\tremaining: 1m 5s\n",
      "143:\tlearn: 0.2619618\ttest: 0.2668489\tbest: 0.2667528 (98)\ttotal: 11s\tremaining: 1m 5s\n",
      "144:\tlearn: 0.2619509\ttest: 0.2668442\tbest: 0.2667528 (98)\ttotal: 11.1s\tremaining: 1m 5s\n",
      "145:\tlearn: 0.2619304\ttest: 0.2668371\tbest: 0.2667528 (98)\ttotal: 11.1s\tremaining: 1m 5s\n",
      "146:\tlearn: 0.2619177\ttest: 0.2668378\tbest: 0.2667528 (98)\ttotal: 11.2s\tremaining: 1m 5s\n",
      "147:\tlearn: 0.2619116\ttest: 0.2668367\tbest: 0.2667528 (98)\ttotal: 11.3s\tremaining: 1m 5s\n",
      "148:\tlearn: 0.2618943\ttest: 0.2668463\tbest: 0.2667528 (98)\ttotal: 11.4s\tremaining: 1m 4s\n",
      "149:\tlearn: 0.2618842\ttest: 0.2668426\tbest: 0.2667528 (98)\ttotal: 11.5s\tremaining: 1m 4s\n",
      "150:\tlearn: 0.2618742\ttest: 0.2668392\tbest: 0.2667528 (98)\ttotal: 11.5s\tremaining: 1m 4s\n",
      "151:\tlearn: 0.2618460\ttest: 0.2668351\tbest: 0.2667528 (98)\ttotal: 11.6s\tremaining: 1m 4s\n",
      "152:\tlearn: 0.2618294\ttest: 0.2668432\tbest: 0.2667528 (98)\ttotal: 11.7s\tremaining: 1m 4s\n",
      "153:\tlearn: 0.2618096\ttest: 0.2668503\tbest: 0.2667528 (98)\ttotal: 11.7s\tremaining: 1m 4s\n",
      "154:\tlearn: 0.2618026\ttest: 0.2668506\tbest: 0.2667528 (98)\ttotal: 11.8s\tremaining: 1m 4s\n",
      "155:\tlearn: 0.2617854\ttest: 0.2668552\tbest: 0.2667528 (98)\ttotal: 11.9s\tremaining: 1m 4s\n",
      "156:\tlearn: 0.2617703\ttest: 0.2668516\tbest: 0.2667528 (98)\ttotal: 12s\tremaining: 1m 4s\n",
      "157:\tlearn: 0.2617532\ttest: 0.2668713\tbest: 0.2667528 (98)\ttotal: 12.1s\tremaining: 1m 4s\n",
      "158:\tlearn: 0.2617334\ttest: 0.2668683\tbest: 0.2667528 (98)\ttotal: 12.2s\tremaining: 1m 4s\n",
      "159:\tlearn: 0.2617248\ttest: 0.2668570\tbest: 0.2667528 (98)\ttotal: 12.3s\tremaining: 1m 4s\n",
      "160:\tlearn: 0.2617167\ttest: 0.2668634\tbest: 0.2667528 (98)\ttotal: 12.4s\tremaining: 1m 4s\n",
      "161:\tlearn: 0.2617122\ttest: 0.2668621\tbest: 0.2667528 (98)\ttotal: 12.5s\tremaining: 1m 4s\n",
      "162:\tlearn: 0.2617056\ttest: 0.2668628\tbest: 0.2667528 (98)\ttotal: 12.6s\tremaining: 1m 4s\n",
      "163:\tlearn: 0.2616940\ttest: 0.2668582\tbest: 0.2667528 (98)\ttotal: 12.6s\tremaining: 1m 4s\n",
      "164:\tlearn: 0.2616837\ttest: 0.2668634\tbest: 0.2667528 (98)\ttotal: 12.7s\tremaining: 1m 4s\n",
      "165:\tlearn: 0.2616750\ttest: 0.2668605\tbest: 0.2667528 (98)\ttotal: 12.8s\tremaining: 1m 4s\n",
      "166:\tlearn: 0.2616629\ttest: 0.2668598\tbest: 0.2667528 (98)\ttotal: 12.9s\tremaining: 1m 4s\n",
      "167:\tlearn: 0.2616484\ttest: 0.2668593\tbest: 0.2667528 (98)\ttotal: 13s\tremaining: 1m 4s\n",
      "168:\tlearn: 0.2616303\ttest: 0.2668703\tbest: 0.2667528 (98)\ttotal: 13.1s\tremaining: 1m 4s\n",
      "169:\tlearn: 0.2615944\ttest: 0.2668635\tbest: 0.2667528 (98)\ttotal: 13.2s\tremaining: 1m 4s\n",
      "170:\tlearn: 0.2615877\ttest: 0.2668602\tbest: 0.2667528 (98)\ttotal: 13.2s\tremaining: 1m 4s\n",
      "171:\tlearn: 0.2615736\ttest: 0.2668633\tbest: 0.2667528 (98)\ttotal: 13.3s\tremaining: 1m 4s\n",
      "172:\tlearn: 0.2615696\ttest: 0.2668645\tbest: 0.2667528 (98)\ttotal: 13.4s\tremaining: 1m 4s\n",
      "173:\tlearn: 0.2615505\ttest: 0.2668890\tbest: 0.2667528 (98)\ttotal: 13.5s\tremaining: 1m 4s\n",
      "174:\tlearn: 0.2615403\ttest: 0.2668875\tbest: 0.2667528 (98)\ttotal: 13.6s\tremaining: 1m 4s\n",
      "175:\tlearn: 0.2615093\ttest: 0.2668815\tbest: 0.2667528 (98)\ttotal: 13.7s\tremaining: 1m 3s\n",
      "176:\tlearn: 0.2615005\ttest: 0.2668876\tbest: 0.2667528 (98)\ttotal: 13.7s\tremaining: 1m 3s\n",
      "177:\tlearn: 0.2614868\ttest: 0.2668801\tbest: 0.2667528 (98)\ttotal: 13.8s\tremaining: 1m 3s\n",
      "178:\tlearn: 0.2614656\ttest: 0.2668590\tbest: 0.2667528 (98)\ttotal: 13.9s\tremaining: 1m 3s\n",
      "179:\tlearn: 0.2614595\ttest: 0.2668576\tbest: 0.2667528 (98)\ttotal: 14s\tremaining: 1m 3s\n",
      "180:\tlearn: 0.2614355\ttest: 0.2668450\tbest: 0.2667528 (98)\ttotal: 14.1s\tremaining: 1m 3s\n",
      "181:\tlearn: 0.2614175\ttest: 0.2668381\tbest: 0.2667528 (98)\ttotal: 14.2s\tremaining: 1m 3s\n",
      "182:\tlearn: 0.2613913\ttest: 0.2668436\tbest: 0.2667528 (98)\ttotal: 14.3s\tremaining: 1m 3s\n",
      "183:\tlearn: 0.2613731\ttest: 0.2668377\tbest: 0.2667528 (98)\ttotal: 14.4s\tremaining: 1m 3s\n",
      "184:\tlearn: 0.2613642\ttest: 0.2668382\tbest: 0.2667528 (98)\ttotal: 14.5s\tremaining: 1m 3s\n",
      "185:\tlearn: 0.2613490\ttest: 0.2668444\tbest: 0.2667528 (98)\ttotal: 14.5s\tremaining: 1m 3s\n",
      "186:\tlearn: 0.2613395\ttest: 0.2668496\tbest: 0.2667528 (98)\ttotal: 14.6s\tremaining: 1m 3s\n"
     ]
    },
    {
     "name": "stdout",
     "output_type": "stream",
     "text": [
      "187:\tlearn: 0.2613299\ttest: 0.2668468\tbest: 0.2667528 (98)\ttotal: 14.7s\tremaining: 1m 3s\n",
      "188:\tlearn: 0.2613251\ttest: 0.2668456\tbest: 0.2667528 (98)\ttotal: 14.8s\tremaining: 1m 3s\n",
      "189:\tlearn: 0.2613028\ttest: 0.2668324\tbest: 0.2667528 (98)\ttotal: 14.9s\tremaining: 1m 3s\n",
      "190:\tlearn: 0.2613006\ttest: 0.2668305\tbest: 0.2667528 (98)\ttotal: 15s\tremaining: 1m 3s\n",
      "191:\tlearn: 0.2612859\ttest: 0.2668323\tbest: 0.2667528 (98)\ttotal: 15s\tremaining: 1m 3s\n",
      "192:\tlearn: 0.2612628\ttest: 0.2668389\tbest: 0.2667528 (98)\ttotal: 15.1s\tremaining: 1m 3s\n",
      "193:\tlearn: 0.2612568\ttest: 0.2668379\tbest: 0.2667528 (98)\ttotal: 15.2s\tremaining: 1m 3s\n",
      "194:\tlearn: 0.2612467\ttest: 0.2668528\tbest: 0.2667528 (98)\ttotal: 15.3s\tremaining: 1m 2s\n",
      "195:\tlearn: 0.2612285\ttest: 0.2668573\tbest: 0.2667528 (98)\ttotal: 15.3s\tremaining: 1m 2s\n",
      "196:\tlearn: 0.2612237\ttest: 0.2668563\tbest: 0.2667528 (98)\ttotal: 15.4s\tremaining: 1m 2s\n",
      "197:\tlearn: 0.2612089\ttest: 0.2668526\tbest: 0.2667528 (98)\ttotal: 15.5s\tremaining: 1m 2s\n",
      "198:\tlearn: 0.2611988\ttest: 0.2668477\tbest: 0.2667528 (98)\ttotal: 15.5s\tremaining: 1m 2s\n",
      "199:\tlearn: 0.2611936\ttest: 0.2668471\tbest: 0.2667528 (98)\ttotal: 15.6s\tremaining: 1m 2s\n",
      "200:\tlearn: 0.2611870\ttest: 0.2668489\tbest: 0.2667528 (98)\ttotal: 15.7s\tremaining: 1m 2s\n",
      "201:\tlearn: 0.2611693\ttest: 0.2668674\tbest: 0.2667528 (98)\ttotal: 15.7s\tremaining: 1m 2s\n",
      "202:\tlearn: 0.2611686\ttest: 0.2668678\tbest: 0.2667528 (98)\ttotal: 15.8s\tremaining: 1m 1s\n",
      "203:\tlearn: 0.2611611\ttest: 0.2668710\tbest: 0.2667528 (98)\ttotal: 15.9s\tremaining: 1m 1s\n",
      "204:\tlearn: 0.2611432\ttest: 0.2668739\tbest: 0.2667528 (98)\ttotal: 15.9s\tremaining: 1m 1s\n",
      "205:\tlearn: 0.2611403\ttest: 0.2668759\tbest: 0.2667528 (98)\ttotal: 16s\tremaining: 1m 1s\n",
      "206:\tlearn: 0.2611205\ttest: 0.2668780\tbest: 0.2667528 (98)\ttotal: 16.1s\tremaining: 1m 1s\n",
      "207:\tlearn: 0.2611032\ttest: 0.2668782\tbest: 0.2667528 (98)\ttotal: 16.1s\tremaining: 1m 1s\n",
      "208:\tlearn: 0.2610985\ttest: 0.2668762\tbest: 0.2667528 (98)\ttotal: 16.2s\tremaining: 1m 1s\n",
      "209:\tlearn: 0.2610702\ttest: 0.2668553\tbest: 0.2667528 (98)\ttotal: 16.3s\tremaining: 1m 1s\n",
      "210:\tlearn: 0.2610595\ttest: 0.2668553\tbest: 0.2667528 (98)\ttotal: 16.4s\tremaining: 1m 1s\n",
      "211:\tlearn: 0.2610522\ttest: 0.2668568\tbest: 0.2667528 (98)\ttotal: 16.4s\tremaining: 1m 1s\n",
      "212:\tlearn: 0.2610368\ttest: 0.2668582\tbest: 0.2667528 (98)\ttotal: 16.5s\tremaining: 1m 1s\n",
      "213:\tlearn: 0.2610283\ttest: 0.2668572\tbest: 0.2667528 (98)\ttotal: 16.6s\tremaining: 1m\n",
      "214:\tlearn: 0.2610111\ttest: 0.2668552\tbest: 0.2667528 (98)\ttotal: 16.7s\tremaining: 1m\n",
      "215:\tlearn: 0.2609978\ttest: 0.2668565\tbest: 0.2667528 (98)\ttotal: 16.8s\tremaining: 1m\n",
      "216:\tlearn: 0.2609677\ttest: 0.2668589\tbest: 0.2667528 (98)\ttotal: 16.9s\tremaining: 1m\n",
      "217:\tlearn: 0.2609585\ttest: 0.2668577\tbest: 0.2667528 (98)\ttotal: 16.9s\tremaining: 1m\n",
      "218:\tlearn: 0.2609491\ttest: 0.2668584\tbest: 0.2667528 (98)\ttotal: 17s\tremaining: 1m\n",
      "219:\tlearn: 0.2609335\ttest: 0.2668587\tbest: 0.2667528 (98)\ttotal: 17.1s\tremaining: 1m\n",
      "220:\tlearn: 0.2609222\ttest: 0.2668486\tbest: 0.2667528 (98)\ttotal: 17.2s\tremaining: 1m\n",
      "221:\tlearn: 0.2609169\ttest: 0.2668484\tbest: 0.2667528 (98)\ttotal: 17.2s\tremaining: 1m\n",
      "222:\tlearn: 0.2609087\ttest: 0.2668498\tbest: 0.2667528 (98)\ttotal: 17.3s\tremaining: 1m\n",
      "223:\tlearn: 0.2608980\ttest: 0.2668512\tbest: 0.2667528 (98)\ttotal: 17.4s\tremaining: 1m\n",
      "224:\tlearn: 0.2608835\ttest: 0.2668513\tbest: 0.2667528 (98)\ttotal: 17.4s\tremaining: 1m\n",
      "225:\tlearn: 0.2608675\ttest: 0.2668478\tbest: 0.2667528 (98)\ttotal: 17.5s\tremaining: 1m\n",
      "226:\tlearn: 0.2608440\ttest: 0.2668633\tbest: 0.2667528 (98)\ttotal: 17.6s\tremaining: 59.9s\n",
      "227:\tlearn: 0.2608259\ttest: 0.2668598\tbest: 0.2667528 (98)\ttotal: 17.7s\tremaining: 59.9s\n",
      "228:\tlearn: 0.2608157\ttest: 0.2668642\tbest: 0.2667528 (98)\ttotal: 17.7s\tremaining: 59.7s\n",
      "229:\tlearn: 0.2608015\ttest: 0.2668605\tbest: 0.2667528 (98)\ttotal: 17.8s\tremaining: 59.7s\n",
      "230:\tlearn: 0.2607938\ttest: 0.2668649\tbest: 0.2667528 (98)\ttotal: 17.9s\tremaining: 59.6s\n",
      "231:\tlearn: 0.2607930\ttest: 0.2668650\tbest: 0.2667528 (98)\ttotal: 18s\tremaining: 59.5s\n",
      "232:\tlearn: 0.2607832\ttest: 0.2668636\tbest: 0.2667528 (98)\ttotal: 18.1s\tremaining: 59.5s\n",
      "233:\tlearn: 0.2607819\ttest: 0.2668634\tbest: 0.2667528 (98)\ttotal: 18.1s\tremaining: 59.3s\n",
      "234:\tlearn: 0.2607787\ttest: 0.2668641\tbest: 0.2667528 (98)\ttotal: 18.2s\tremaining: 59.3s\n",
      "235:\tlearn: 0.2607642\ttest: 0.2668714\tbest: 0.2667528 (98)\ttotal: 18.3s\tremaining: 59.2s\n",
      "236:\tlearn: 0.2607551\ttest: 0.2668686\tbest: 0.2667528 (98)\ttotal: 18.4s\tremaining: 59.2s\n",
      "237:\tlearn: 0.2607490\ttest: 0.2668632\tbest: 0.2667528 (98)\ttotal: 18.5s\tremaining: 59.1s\n",
      "238:\tlearn: 0.2607403\ttest: 0.2668548\tbest: 0.2667528 (98)\ttotal: 18.5s\tremaining: 59s\n",
      "239:\tlearn: 0.2607171\ttest: 0.2668440\tbest: 0.2667528 (98)\ttotal: 18.6s\tremaining: 59s\n",
      "240:\tlearn: 0.2606888\ttest: 0.2668391\tbest: 0.2667528 (98)\ttotal: 18.7s\tremaining: 59s\n",
      "241:\tlearn: 0.2606732\ttest: 0.2668345\tbest: 0.2667528 (98)\ttotal: 18.8s\tremaining: 59s\n",
      "242:\tlearn: 0.2606661\ttest: 0.2668529\tbest: 0.2667528 (98)\ttotal: 18.9s\tremaining: 59s\n",
      "243:\tlearn: 0.2606642\ttest: 0.2668541\tbest: 0.2667528 (98)\ttotal: 19s\tremaining: 58.8s\n",
      "244:\tlearn: 0.2606564\ttest: 0.2668512\tbest: 0.2667528 (98)\ttotal: 19.1s\tremaining: 58.8s\n",
      "245:\tlearn: 0.2606433\ttest: 0.2668467\tbest: 0.2667528 (98)\ttotal: 19.2s\tremaining: 58.7s\n",
      "246:\tlearn: 0.2606244\ttest: 0.2668394\tbest: 0.2667528 (98)\ttotal: 19.3s\tremaining: 58.7s\n",
      "247:\tlearn: 0.2606228\ttest: 0.2668367\tbest: 0.2667528 (98)\ttotal: 19.3s\tremaining: 58.7s\n",
      "248:\tlearn: 0.2606130\ttest: 0.2668332\tbest: 0.2667528 (98)\ttotal: 19.4s\tremaining: 58.6s\n",
      "249:\tlearn: 0.2606048\ttest: 0.2668358\tbest: 0.2667528 (98)\ttotal: 19.5s\tremaining: 58.5s\n",
      "250:\tlearn: 0.2605896\ttest: 0.2668348\tbest: 0.2667528 (98)\ttotal: 19.6s\tremaining: 58.4s\n",
      "251:\tlearn: 0.2605726\ttest: 0.2668560\tbest: 0.2667528 (98)\ttotal: 19.6s\tremaining: 58.3s\n",
      "252:\tlearn: 0.2605568\ttest: 0.2668642\tbest: 0.2667528 (98)\ttotal: 19.7s\tremaining: 58.2s\n",
      "253:\tlearn: 0.2605494\ttest: 0.2668671\tbest: 0.2667528 (98)\ttotal: 19.8s\tremaining: 58.1s\n",
      "254:\tlearn: 0.2605411\ttest: 0.2668686\tbest: 0.2667528 (98)\ttotal: 19.9s\tremaining: 58.1s\n",
      "255:\tlearn: 0.2605370\ttest: 0.2668691\tbest: 0.2667528 (98)\ttotal: 20s\tremaining: 58s\n",
      "256:\tlearn: 0.2605176\ttest: 0.2668743\tbest: 0.2667528 (98)\ttotal: 20.1s\tremaining: 58.1s\n",
      "257:\tlearn: 0.2605042\ttest: 0.2668709\tbest: 0.2667528 (98)\ttotal: 20.2s\tremaining: 58.1s\n",
      "258:\tlearn: 0.2604951\ttest: 0.2668678\tbest: 0.2667528 (98)\ttotal: 20.3s\tremaining: 58s\n",
      "259:\tlearn: 0.2604856\ttest: 0.2668662\tbest: 0.2667528 (98)\ttotal: 20.4s\tremaining: 58s\n",
      "260:\tlearn: 0.2604851\ttest: 0.2668645\tbest: 0.2667528 (98)\ttotal: 20.4s\tremaining: 57.9s\n",
      "261:\tlearn: 0.2604829\ttest: 0.2668620\tbest: 0.2667528 (98)\ttotal: 20.5s\tremaining: 57.8s\n",
      "262:\tlearn: 0.2604673\ttest: 0.2668543\tbest: 0.2667528 (98)\ttotal: 20.6s\tremaining: 57.7s\n",
      "263:\tlearn: 0.2604513\ttest: 0.2668491\tbest: 0.2667528 (98)\ttotal: 20.7s\tremaining: 57.6s\n",
      "264:\tlearn: 0.2604485\ttest: 0.2668464\tbest: 0.2667528 (98)\ttotal: 20.8s\tremaining: 57.6s\n",
      "265:\tlearn: 0.2604322\ttest: 0.2668509\tbest: 0.2667528 (98)\ttotal: 20.9s\tremaining: 57.6s\n",
      "266:\tlearn: 0.2604228\ttest: 0.2668478\tbest: 0.2667528 (98)\ttotal: 21s\tremaining: 57.6s\n",
      "267:\tlearn: 0.2604133\ttest: 0.2668475\tbest: 0.2667528 (98)\ttotal: 21.1s\tremaining: 57.6s\n",
      "268:\tlearn: 0.2604030\ttest: 0.2668436\tbest: 0.2667528 (98)\ttotal: 21.2s\tremaining: 57.6s\n",
      "269:\tlearn: 0.2603896\ttest: 0.2668406\tbest: 0.2667528 (98)\ttotal: 21.3s\tremaining: 57.5s\n",
      "270:\tlearn: 0.2603787\ttest: 0.2668554\tbest: 0.2667528 (98)\ttotal: 21.4s\tremaining: 57.5s\n",
      "271:\tlearn: 0.2603692\ttest: 0.2668537\tbest: 0.2667528 (98)\ttotal: 21.5s\tremaining: 57.4s\n",
      "272:\tlearn: 0.2603517\ttest: 0.2668555\tbest: 0.2667528 (98)\ttotal: 21.6s\tremaining: 57.4s\n",
      "273:\tlearn: 0.2603482\ttest: 0.2668552\tbest: 0.2667528 (98)\ttotal: 21.6s\tremaining: 57.3s\n",
      "274:\tlearn: 0.2603331\ttest: 0.2668564\tbest: 0.2667528 (98)\ttotal: 21.7s\tremaining: 57.3s\n",
      "275:\tlearn: 0.2603182\ttest: 0.2668655\tbest: 0.2667528 (98)\ttotal: 21.8s\tremaining: 57.2s\n",
      "276:\tlearn: 0.2603065\ttest: 0.2668654\tbest: 0.2667528 (98)\ttotal: 21.9s\tremaining: 57.2s\n",
      "277:\tlearn: 0.2602983\ttest: 0.2668623\tbest: 0.2667528 (98)\ttotal: 22s\tremaining: 57.1s\n",
      "278:\tlearn: 0.2602896\ttest: 0.2668640\tbest: 0.2667528 (98)\ttotal: 22.1s\tremaining: 57s\n",
      "279:\tlearn: 0.2602774\ttest: 0.2668695\tbest: 0.2667528 (98)\ttotal: 22.1s\tremaining: 56.9s\n",
      "280:\tlearn: 0.2602590\ttest: 0.2668522\tbest: 0.2667528 (98)\ttotal: 22.2s\tremaining: 56.9s\n",
      "281:\tlearn: 0.2602549\ttest: 0.2668529\tbest: 0.2667528 (98)\ttotal: 22.3s\tremaining: 56.8s\n"
     ]
    },
    {
     "name": "stdout",
     "output_type": "stream",
     "text": [
      "282:\tlearn: 0.2602402\ttest: 0.2668441\tbest: 0.2667528 (98)\ttotal: 22.4s\tremaining: 56.7s\n",
      "283:\tlearn: 0.2602291\ttest: 0.2668507\tbest: 0.2667528 (98)\ttotal: 22.5s\tremaining: 56.6s\n",
      "284:\tlearn: 0.2602252\ttest: 0.2668513\tbest: 0.2667528 (98)\ttotal: 22.5s\tremaining: 56.5s\n",
      "285:\tlearn: 0.2602238\ttest: 0.2668533\tbest: 0.2667528 (98)\ttotal: 22.6s\tremaining: 56.4s\n",
      "286:\tlearn: 0.2602102\ttest: 0.2668554\tbest: 0.2667528 (98)\ttotal: 22.7s\tremaining: 56.3s\n",
      "287:\tlearn: 0.2601918\ttest: 0.2668583\tbest: 0.2667528 (98)\ttotal: 22.8s\tremaining: 56.3s\n",
      "288:\tlearn: 0.2601872\ttest: 0.2668629\tbest: 0.2667528 (98)\ttotal: 22.8s\tremaining: 56.2s\n",
      "289:\tlearn: 0.2601810\ttest: 0.2668642\tbest: 0.2667528 (98)\ttotal: 22.9s\tremaining: 56.1s\n",
      "290:\tlearn: 0.2601720\ttest: 0.2668667\tbest: 0.2667528 (98)\ttotal: 23s\tremaining: 56s\n",
      "291:\tlearn: 0.2601702\ttest: 0.2668663\tbest: 0.2667528 (98)\ttotal: 23s\tremaining: 55.9s\n",
      "292:\tlearn: 0.2601490\ttest: 0.2668659\tbest: 0.2667528 (98)\ttotal: 23.1s\tremaining: 55.8s\n",
      "293:\tlearn: 0.2601417\ttest: 0.2668667\tbest: 0.2667528 (98)\ttotal: 23.2s\tremaining: 55.7s\n",
      "294:\tlearn: 0.2601347\ttest: 0.2668668\tbest: 0.2667528 (98)\ttotal: 23.3s\tremaining: 55.6s\n",
      "295:\tlearn: 0.2601275\ttest: 0.2668675\tbest: 0.2667528 (98)\ttotal: 23.4s\tremaining: 55.6s\n",
      "296:\tlearn: 0.2601194\ttest: 0.2668710\tbest: 0.2667528 (98)\ttotal: 23.4s\tremaining: 55.5s\n",
      "297:\tlearn: 0.2601112\ttest: 0.2668747\tbest: 0.2667528 (98)\ttotal: 23.5s\tremaining: 55.4s\n",
      "298:\tlearn: 0.2601037\ttest: 0.2668783\tbest: 0.2667528 (98)\ttotal: 23.6s\tremaining: 55.3s\n",
      "299:\tlearn: 0.2600902\ttest: 0.2668734\tbest: 0.2667528 (98)\ttotal: 23.7s\tremaining: 55.2s\n",
      "300:\tlearn: 0.2600827\ttest: 0.2668666\tbest: 0.2667528 (98)\ttotal: 23.7s\tremaining: 55.1s\n",
      "301:\tlearn: 0.2600664\ttest: 0.2668607\tbest: 0.2667528 (98)\ttotal: 23.8s\tremaining: 55s\n",
      "302:\tlearn: 0.2600558\ttest: 0.2668550\tbest: 0.2667528 (98)\ttotal: 23.9s\tremaining: 54.9s\n",
      "303:\tlearn: 0.2600481\ttest: 0.2668585\tbest: 0.2667528 (98)\ttotal: 23.9s\tremaining: 54.8s\n",
      "304:\tlearn: 0.2600433\ttest: 0.2668585\tbest: 0.2667528 (98)\ttotal: 24s\tremaining: 54.8s\n",
      "305:\tlearn: 0.2600258\ttest: 0.2668515\tbest: 0.2667528 (98)\ttotal: 24.1s\tremaining: 54.7s\n",
      "306:\tlearn: 0.2600191\ttest: 0.2668495\tbest: 0.2667528 (98)\ttotal: 24.2s\tremaining: 54.6s\n",
      "307:\tlearn: 0.2600033\ttest: 0.2668500\tbest: 0.2667528 (98)\ttotal: 24.3s\tremaining: 54.5s\n",
      "308:\tlearn: 0.2599988\ttest: 0.2668478\tbest: 0.2667528 (98)\ttotal: 24.3s\tremaining: 54.4s\n",
      "309:\tlearn: 0.2599845\ttest: 0.2668629\tbest: 0.2667528 (98)\ttotal: 24.4s\tremaining: 54.3s\n",
      "310:\tlearn: 0.2599814\ttest: 0.2668644\tbest: 0.2667528 (98)\ttotal: 24.5s\tremaining: 54.2s\n",
      "311:\tlearn: 0.2599657\ttest: 0.2668696\tbest: 0.2667528 (98)\ttotal: 24.5s\tremaining: 54.1s\n",
      "312:\tlearn: 0.2599572\ttest: 0.2668712\tbest: 0.2667528 (98)\ttotal: 24.6s\tremaining: 54s\n",
      "313:\tlearn: 0.2599560\ttest: 0.2668730\tbest: 0.2667528 (98)\ttotal: 24.7s\tremaining: 53.9s\n",
      "314:\tlearn: 0.2599471\ttest: 0.2668761\tbest: 0.2667528 (98)\ttotal: 24.8s\tremaining: 53.8s\n",
      "315:\tlearn: 0.2599417\ttest: 0.2668757\tbest: 0.2667528 (98)\ttotal: 24.8s\tremaining: 53.7s\n",
      "316:\tlearn: 0.2599264\ttest: 0.2668800\tbest: 0.2667528 (98)\ttotal: 24.9s\tremaining: 53.7s\n",
      "317:\tlearn: 0.2599194\ttest: 0.2668808\tbest: 0.2667528 (98)\ttotal: 25s\tremaining: 53.6s\n",
      "318:\tlearn: 0.2599118\ttest: 0.2668870\tbest: 0.2667528 (98)\ttotal: 25s\tremaining: 53.4s\n",
      "319:\tlearn: 0.2599024\ttest: 0.2668951\tbest: 0.2667528 (98)\ttotal: 25.1s\tremaining: 53.3s\n",
      "320:\tlearn: 0.2599008\ttest: 0.2668933\tbest: 0.2667528 (98)\ttotal: 25.2s\tremaining: 53.2s\n",
      "321:\tlearn: 0.2598877\ttest: 0.2668895\tbest: 0.2667528 (98)\ttotal: 25.2s\tremaining: 53.2s\n",
      "322:\tlearn: 0.2598791\ttest: 0.2668940\tbest: 0.2667528 (98)\ttotal: 25.3s\tremaining: 53.1s\n",
      "323:\tlearn: 0.2598680\ttest: 0.2669012\tbest: 0.2667528 (98)\ttotal: 25.4s\tremaining: 53s\n",
      "324:\tlearn: 0.2598598\ttest: 0.2668997\tbest: 0.2667528 (98)\ttotal: 25.5s\tremaining: 52.9s\n",
      "325:\tlearn: 0.2598558\ttest: 0.2668975\tbest: 0.2667528 (98)\ttotal: 25.5s\tremaining: 52.8s\n",
      "326:\tlearn: 0.2598526\ttest: 0.2668960\tbest: 0.2667528 (98)\ttotal: 25.6s\tremaining: 52.7s\n",
      "327:\tlearn: 0.2598504\ttest: 0.2668950\tbest: 0.2667528 (98)\ttotal: 25.7s\tremaining: 52.6s\n",
      "328:\tlearn: 0.2598402\ttest: 0.2668899\tbest: 0.2667528 (98)\ttotal: 25.7s\tremaining: 52.4s\n",
      "329:\tlearn: 0.2598286\ttest: 0.2668857\tbest: 0.2667528 (98)\ttotal: 25.8s\tremaining: 52.4s\n",
      "330:\tlearn: 0.2598250\ttest: 0.2668848\tbest: 0.2667528 (98)\ttotal: 25.9s\tremaining: 52.3s\n",
      "331:\tlearn: 0.2598117\ttest: 0.2668839\tbest: 0.2667528 (98)\ttotal: 25.9s\tremaining: 52.2s\n",
      "332:\tlearn: 0.2597963\ttest: 0.2668887\tbest: 0.2667528 (98)\ttotal: 26s\tremaining: 52.1s\n",
      "333:\tlearn: 0.2597752\ttest: 0.2668887\tbest: 0.2667528 (98)\ttotal: 26.1s\tremaining: 52s\n",
      "334:\tlearn: 0.2597580\ttest: 0.2668852\tbest: 0.2667528 (98)\ttotal: 26.2s\tremaining: 52s\n",
      "335:\tlearn: 0.2597571\ttest: 0.2668867\tbest: 0.2667528 (98)\ttotal: 26.2s\tremaining: 51.9s\n",
      "336:\tlearn: 0.2597503\ttest: 0.2668897\tbest: 0.2667528 (98)\ttotal: 26.3s\tremaining: 51.8s\n",
      "337:\tlearn: 0.2597432\ttest: 0.2668899\tbest: 0.2667528 (98)\ttotal: 26.4s\tremaining: 51.7s\n",
      "338:\tlearn: 0.2597284\ttest: 0.2668939\tbest: 0.2667528 (98)\ttotal: 26.5s\tremaining: 51.6s\n",
      "339:\tlearn: 0.2597081\ttest: 0.2668934\tbest: 0.2667528 (98)\ttotal: 26.6s\tremaining: 51.6s\n",
      "340:\tlearn: 0.2596902\ttest: 0.2668787\tbest: 0.2667528 (98)\ttotal: 26.6s\tremaining: 51.5s\n",
      "341:\tlearn: 0.2596768\ttest: 0.2668769\tbest: 0.2667528 (98)\ttotal: 26.7s\tremaining: 51.4s\n",
      "342:\tlearn: 0.2596725\ttest: 0.2668770\tbest: 0.2667528 (98)\ttotal: 26.8s\tremaining: 51.3s\n",
      "343:\tlearn: 0.2596605\ttest: 0.2668830\tbest: 0.2667528 (98)\ttotal: 26.9s\tremaining: 51.2s\n",
      "344:\tlearn: 0.2596447\ttest: 0.2668847\tbest: 0.2667528 (98)\ttotal: 27s\tremaining: 51.2s\n",
      "345:\tlearn: 0.2596332\ttest: 0.2668862\tbest: 0.2667528 (98)\ttotal: 27s\tremaining: 51.1s\n",
      "346:\tlearn: 0.2596173\ttest: 0.2668894\tbest: 0.2667528 (98)\ttotal: 27.1s\tremaining: 51s\n",
      "347:\tlearn: 0.2596078\ttest: 0.2669101\tbest: 0.2667528 (98)\ttotal: 27.2s\tremaining: 50.9s\n",
      "348:\tlearn: 0.2595977\ttest: 0.2669074\tbest: 0.2667528 (98)\ttotal: 27.3s\tremaining: 50.9s\n",
      "349:\tlearn: 0.2595817\ttest: 0.2669023\tbest: 0.2667528 (98)\ttotal: 27.3s\tremaining: 50.8s\n",
      "350:\tlearn: 0.2595766\ttest: 0.2669019\tbest: 0.2667528 (98)\ttotal: 27.4s\tremaining: 50.6s\n",
      "351:\tlearn: 0.2595543\ttest: 0.2669171\tbest: 0.2667528 (98)\ttotal: 27.5s\tremaining: 50.6s\n",
      "352:\tlearn: 0.2595473\ttest: 0.2669175\tbest: 0.2667528 (98)\ttotal: 27.5s\tremaining: 50.5s\n",
      "353:\tlearn: 0.2595341\ttest: 0.2669164\tbest: 0.2667528 (98)\ttotal: 27.6s\tremaining: 50.4s\n",
      "354:\tlearn: 0.2595241\ttest: 0.2669170\tbest: 0.2667528 (98)\ttotal: 27.7s\tremaining: 50.3s\n",
      "355:\tlearn: 0.2595165\ttest: 0.2669167\tbest: 0.2667528 (98)\ttotal: 27.8s\tremaining: 50.2s\n",
      "356:\tlearn: 0.2594936\ttest: 0.2669023\tbest: 0.2667528 (98)\ttotal: 27.8s\tremaining: 50.1s\n",
      "357:\tlearn: 0.2594822\ttest: 0.2669015\tbest: 0.2667528 (98)\ttotal: 27.9s\tremaining: 50s\n",
      "358:\tlearn: 0.2594744\ttest: 0.2668966\tbest: 0.2667528 (98)\ttotal: 28s\tremaining: 49.9s\n",
      "359:\tlearn: 0.2594618\ttest: 0.2668925\tbest: 0.2667528 (98)\ttotal: 28s\tremaining: 49.8s\n",
      "360:\tlearn: 0.2594481\ttest: 0.2668820\tbest: 0.2667528 (98)\ttotal: 28.1s\tremaining: 49.8s\n",
      "361:\tlearn: 0.2594383\ttest: 0.2668879\tbest: 0.2667528 (98)\ttotal: 28.2s\tremaining: 49.7s\n",
      "362:\tlearn: 0.2594278\ttest: 0.2668874\tbest: 0.2667528 (98)\ttotal: 28.3s\tremaining: 49.6s\n",
      "363:\tlearn: 0.2594124\ttest: 0.2668859\tbest: 0.2667528 (98)\ttotal: 28.3s\tremaining: 49.5s\n",
      "364:\tlearn: 0.2594041\ttest: 0.2668959\tbest: 0.2667528 (98)\ttotal: 28.4s\tremaining: 49.4s\n",
      "365:\tlearn: 0.2593956\ttest: 0.2668931\tbest: 0.2667528 (98)\ttotal: 28.5s\tremaining: 49.4s\n",
      "366:\tlearn: 0.2593887\ttest: 0.2668913\tbest: 0.2667528 (98)\ttotal: 28.6s\tremaining: 49.3s\n",
      "367:\tlearn: 0.2593815\ttest: 0.2668940\tbest: 0.2667528 (98)\ttotal: 28.6s\tremaining: 49.2s\n",
      "368:\tlearn: 0.2593743\ttest: 0.2668949\tbest: 0.2667528 (98)\ttotal: 28.7s\tremaining: 49.1s\n",
      "369:\tlearn: 0.2593546\ttest: 0.2668983\tbest: 0.2667528 (98)\ttotal: 28.8s\tremaining: 49s\n",
      "370:\tlearn: 0.2593507\ttest: 0.2668978\tbest: 0.2667528 (98)\ttotal: 28.9s\tremaining: 49s\n",
      "371:\tlearn: 0.2593366\ttest: 0.2668927\tbest: 0.2667528 (98)\ttotal: 29s\tremaining: 48.9s\n",
      "372:\tlearn: 0.2593202\ttest: 0.2668971\tbest: 0.2667528 (98)\ttotal: 29s\tremaining: 48.8s\n",
      "373:\tlearn: 0.2593116\ttest: 0.2668971\tbest: 0.2667528 (98)\ttotal: 29.1s\tremaining: 48.7s\n",
      "374:\tlearn: 0.2593064\ttest: 0.2668982\tbest: 0.2667528 (98)\ttotal: 29.2s\tremaining: 48.6s\n",
      "375:\tlearn: 0.2592983\ttest: 0.2668933\tbest: 0.2667528 (98)\ttotal: 29.2s\tremaining: 48.5s\n"
     ]
    },
    {
     "name": "stdout",
     "output_type": "stream",
     "text": [
      "376:\tlearn: 0.2592868\ttest: 0.2668975\tbest: 0.2667528 (98)\ttotal: 29.3s\tremaining: 48.5s\n",
      "377:\tlearn: 0.2592749\ttest: 0.2668988\tbest: 0.2667528 (98)\ttotal: 29.4s\tremaining: 48.4s\n",
      "378:\tlearn: 0.2592601\ttest: 0.2668879\tbest: 0.2667528 (98)\ttotal: 29.5s\tremaining: 48.3s\n",
      "379:\tlearn: 0.2592543\ttest: 0.2668864\tbest: 0.2667528 (98)\ttotal: 29.6s\tremaining: 48.2s\n",
      "380:\tlearn: 0.2592370\ttest: 0.2668971\tbest: 0.2667528 (98)\ttotal: 29.6s\tremaining: 48.1s\n",
      "381:\tlearn: 0.2592124\ttest: 0.2668804\tbest: 0.2667528 (98)\ttotal: 29.7s\tremaining: 48s\n",
      "382:\tlearn: 0.2592043\ttest: 0.2668829\tbest: 0.2667528 (98)\ttotal: 29.7s\tremaining: 47.9s\n",
      "383:\tlearn: 0.2592017\ttest: 0.2668817\tbest: 0.2667528 (98)\ttotal: 29.8s\tremaining: 47.8s\n",
      "384:\tlearn: 0.2591983\ttest: 0.2668825\tbest: 0.2667528 (98)\ttotal: 29.9s\tremaining: 47.8s\n",
      "385:\tlearn: 0.2591918\ttest: 0.2668825\tbest: 0.2667528 (98)\ttotal: 30s\tremaining: 47.7s\n",
      "386:\tlearn: 0.2591869\ttest: 0.2668826\tbest: 0.2667528 (98)\ttotal: 30.1s\tremaining: 47.6s\n",
      "387:\tlearn: 0.2591747\ttest: 0.2668769\tbest: 0.2667528 (98)\ttotal: 30.1s\tremaining: 47.5s\n",
      "388:\tlearn: 0.2591594\ttest: 0.2668747\tbest: 0.2667528 (98)\ttotal: 30.2s\tremaining: 47.5s\n",
      "389:\tlearn: 0.2591504\ttest: 0.2668729\tbest: 0.2667528 (98)\ttotal: 30.3s\tremaining: 47.4s\n",
      "390:\tlearn: 0.2591394\ttest: 0.2668627\tbest: 0.2667528 (98)\ttotal: 30.4s\tremaining: 47.3s\n",
      "391:\tlearn: 0.2591317\ttest: 0.2668649\tbest: 0.2667528 (98)\ttotal: 30.5s\tremaining: 47.3s\n",
      "392:\tlearn: 0.2591259\ttest: 0.2668699\tbest: 0.2667528 (98)\ttotal: 30.6s\tremaining: 47.2s\n",
      "393:\tlearn: 0.2591231\ttest: 0.2668735\tbest: 0.2667528 (98)\ttotal: 30.6s\tremaining: 47.1s\n",
      "394:\tlearn: 0.2591141\ttest: 0.2668719\tbest: 0.2667528 (98)\ttotal: 30.7s\tremaining: 47.1s\n",
      "395:\tlearn: 0.2591027\ttest: 0.2668736\tbest: 0.2667528 (98)\ttotal: 30.8s\tremaining: 47s\n",
      "396:\tlearn: 0.2590976\ttest: 0.2668793\tbest: 0.2667528 (98)\ttotal: 30.9s\tremaining: 46.9s\n",
      "397:\tlearn: 0.2590905\ttest: 0.2668806\tbest: 0.2667528 (98)\ttotal: 31s\tremaining: 46.9s\n",
      "398:\tlearn: 0.2590830\ttest: 0.2668853\tbest: 0.2667528 (98)\ttotal: 31s\tremaining: 46.8s\n",
      "399:\tlearn: 0.2590727\ttest: 0.2668864\tbest: 0.2667528 (98)\ttotal: 31.1s\tremaining: 46.7s\n",
      "400:\tlearn: 0.2590583\ttest: 0.2668865\tbest: 0.2667528 (98)\ttotal: 31.2s\tremaining: 46.6s\n",
      "401:\tlearn: 0.2590490\ttest: 0.2668874\tbest: 0.2667528 (98)\ttotal: 31.3s\tremaining: 46.6s\n",
      "402:\tlearn: 0.2590421\ttest: 0.2668940\tbest: 0.2667528 (98)\ttotal: 31.4s\tremaining: 46.6s\n",
      "403:\tlearn: 0.2590365\ttest: 0.2668884\tbest: 0.2667528 (98)\ttotal: 31.5s\tremaining: 46.5s\n",
      "404:\tlearn: 0.2590306\ttest: 0.2668902\tbest: 0.2667528 (98)\ttotal: 31.6s\tremaining: 46.5s\n",
      "405:\tlearn: 0.2590175\ttest: 0.2668844\tbest: 0.2667528 (98)\ttotal: 31.7s\tremaining: 46.4s\n",
      "406:\tlearn: 0.2590066\ttest: 0.2668832\tbest: 0.2667528 (98)\ttotal: 31.8s\tremaining: 46.3s\n",
      "407:\tlearn: 0.2589999\ttest: 0.2668815\tbest: 0.2667528 (98)\ttotal: 31.9s\tremaining: 46.2s\n",
      "408:\tlearn: 0.2589987\ttest: 0.2668831\tbest: 0.2667528 (98)\ttotal: 31.9s\tremaining: 46.1s\n",
      "409:\tlearn: 0.2589876\ttest: 0.2668820\tbest: 0.2667528 (98)\ttotal: 32s\tremaining: 46s\n",
      "410:\tlearn: 0.2589811\ttest: 0.2668821\tbest: 0.2667528 (98)\ttotal: 32.1s\tremaining: 46s\n",
      "411:\tlearn: 0.2589770\ttest: 0.2668787\tbest: 0.2667528 (98)\ttotal: 32.2s\tremaining: 45.9s\n",
      "412:\tlearn: 0.2589653\ttest: 0.2668806\tbest: 0.2667528 (98)\ttotal: 32.2s\tremaining: 45.8s\n",
      "413:\tlearn: 0.2589525\ttest: 0.2668874\tbest: 0.2667528 (98)\ttotal: 32.3s\tremaining: 45.8s\n",
      "414:\tlearn: 0.2589402\ttest: 0.2668795\tbest: 0.2667528 (98)\ttotal: 32.4s\tremaining: 45.7s\n",
      "415:\tlearn: 0.2589307\ttest: 0.2668723\tbest: 0.2667528 (98)\ttotal: 32.5s\tremaining: 45.6s\n",
      "416:\tlearn: 0.2589130\ttest: 0.2668735\tbest: 0.2667528 (98)\ttotal: 32.6s\tremaining: 45.6s\n",
      "417:\tlearn: 0.2589037\ttest: 0.2668747\tbest: 0.2667528 (98)\ttotal: 32.7s\tremaining: 45.5s\n",
      "418:\tlearn: 0.2589005\ttest: 0.2668781\tbest: 0.2667528 (98)\ttotal: 32.8s\tremaining: 45.4s\n",
      "419:\tlearn: 0.2588948\ttest: 0.2668757\tbest: 0.2667528 (98)\ttotal: 32.8s\tremaining: 45.3s\n",
      "420:\tlearn: 0.2588836\ttest: 0.2668835\tbest: 0.2667528 (98)\ttotal: 32.9s\tremaining: 45.3s\n",
      "421:\tlearn: 0.2588802\ttest: 0.2668824\tbest: 0.2667528 (98)\ttotal: 33s\tremaining: 45.2s\n",
      "422:\tlearn: 0.2588678\ttest: 0.2668756\tbest: 0.2667528 (98)\ttotal: 33.1s\tremaining: 45.1s\n",
      "423:\tlearn: 0.2588568\ttest: 0.2668723\tbest: 0.2667528 (98)\ttotal: 33.1s\tremaining: 45s\n",
      "424:\tlearn: 0.2588388\ttest: 0.2668762\tbest: 0.2667528 (98)\ttotal: 33.2s\tremaining: 45s\n",
      "425:\tlearn: 0.2588328\ttest: 0.2668770\tbest: 0.2667528 (98)\ttotal: 33.3s\tremaining: 44.9s\n",
      "426:\tlearn: 0.2588254\ttest: 0.2668770\tbest: 0.2667528 (98)\ttotal: 33.4s\tremaining: 44.8s\n",
      "427:\tlearn: 0.2588167\ttest: 0.2668780\tbest: 0.2667528 (98)\ttotal: 33.5s\tremaining: 44.7s\n",
      "428:\tlearn: 0.2588054\ttest: 0.2668765\tbest: 0.2667528 (98)\ttotal: 33.5s\tremaining: 44.7s\n",
      "429:\tlearn: 0.2587932\ttest: 0.2668840\tbest: 0.2667528 (98)\ttotal: 33.6s\tremaining: 44.6s\n",
      "430:\tlearn: 0.2587788\ttest: 0.2668883\tbest: 0.2667528 (98)\ttotal: 33.7s\tremaining: 44.5s\n",
      "431:\tlearn: 0.2587691\ttest: 0.2668905\tbest: 0.2667528 (98)\ttotal: 33.8s\tremaining: 44.4s\n",
      "432:\tlearn: 0.2587576\ttest: 0.2668807\tbest: 0.2667528 (98)\ttotal: 33.8s\tremaining: 44.3s\n",
      "433:\tlearn: 0.2587423\ttest: 0.2668753\tbest: 0.2667528 (98)\ttotal: 33.9s\tremaining: 44.2s\n",
      "434:\tlearn: 0.2587298\ttest: 0.2668722\tbest: 0.2667528 (98)\ttotal: 34s\tremaining: 44.2s\n",
      "435:\tlearn: 0.2587197\ttest: 0.2668770\tbest: 0.2667528 (98)\ttotal: 34.1s\tremaining: 44.1s\n",
      "436:\tlearn: 0.2587060\ttest: 0.2668728\tbest: 0.2667528 (98)\ttotal: 34.2s\tremaining: 44s\n",
      "437:\tlearn: 0.2587027\ttest: 0.2668686\tbest: 0.2667528 (98)\ttotal: 34.3s\tremaining: 44s\n",
      "438:\tlearn: 0.2586929\ttest: 0.2668667\tbest: 0.2667528 (98)\ttotal: 34.4s\tremaining: 43.9s\n",
      "439:\tlearn: 0.2586716\ttest: 0.2668641\tbest: 0.2667528 (98)\ttotal: 34.5s\tremaining: 43.9s\n",
      "440:\tlearn: 0.2586596\ttest: 0.2668598\tbest: 0.2667528 (98)\ttotal: 34.5s\tremaining: 43.8s\n",
      "441:\tlearn: 0.2586564\ttest: 0.2668555\tbest: 0.2667528 (98)\ttotal: 34.6s\tremaining: 43.7s\n",
      "442:\tlearn: 0.2586458\ttest: 0.2668661\tbest: 0.2667528 (98)\ttotal: 34.7s\tremaining: 43.7s\n",
      "443:\tlearn: 0.2586341\ttest: 0.2668680\tbest: 0.2667528 (98)\ttotal: 34.8s\tremaining: 43.6s\n",
      "444:\tlearn: 0.2586152\ttest: 0.2668850\tbest: 0.2667528 (98)\ttotal: 34.9s\tremaining: 43.5s\n",
      "445:\tlearn: 0.2586022\ttest: 0.2668845\tbest: 0.2667528 (98)\ttotal: 35s\tremaining: 43.5s\n",
      "446:\tlearn: 0.2585868\ttest: 0.2668919\tbest: 0.2667528 (98)\ttotal: 35.1s\tremaining: 43.4s\n",
      "447:\tlearn: 0.2585798\ttest: 0.2668959\tbest: 0.2667528 (98)\ttotal: 35.2s\tremaining: 43.4s\n",
      "448:\tlearn: 0.2585592\ttest: 0.2669221\tbest: 0.2667528 (98)\ttotal: 35.3s\tremaining: 43.3s\n",
      "449:\tlearn: 0.2585390\ttest: 0.2669255\tbest: 0.2667528 (98)\ttotal: 35.4s\tremaining: 43.3s\n",
      "450:\tlearn: 0.2585365\ttest: 0.2669260\tbest: 0.2667528 (98)\ttotal: 35.5s\tremaining: 43.2s\n",
      "451:\tlearn: 0.2585193\ttest: 0.2669361\tbest: 0.2667528 (98)\ttotal: 35.6s\tremaining: 43.1s\n",
      "452:\tlearn: 0.2585156\ttest: 0.2669449\tbest: 0.2667528 (98)\ttotal: 35.7s\tremaining: 43s\n",
      "453:\tlearn: 0.2585060\ttest: 0.2669426\tbest: 0.2667528 (98)\ttotal: 35.7s\tremaining: 43s\n",
      "454:\tlearn: 0.2584992\ttest: 0.2669421\tbest: 0.2667528 (98)\ttotal: 35.8s\tremaining: 42.9s\n",
      "455:\tlearn: 0.2584885\ttest: 0.2669476\tbest: 0.2667528 (98)\ttotal: 35.9s\tremaining: 42.8s\n",
      "456:\tlearn: 0.2584773\ttest: 0.2669493\tbest: 0.2667528 (98)\ttotal: 36s\tremaining: 42.8s\n",
      "457:\tlearn: 0.2584714\ttest: 0.2669476\tbest: 0.2667528 (98)\ttotal: 36.1s\tremaining: 42.7s\n",
      "458:\tlearn: 0.2584607\ttest: 0.2669492\tbest: 0.2667528 (98)\ttotal: 36.2s\tremaining: 42.6s\n",
      "459:\tlearn: 0.2584405\ttest: 0.2669410\tbest: 0.2667528 (98)\ttotal: 36.2s\tremaining: 42.5s\n",
      "460:\tlearn: 0.2584281\ttest: 0.2669379\tbest: 0.2667528 (98)\ttotal: 36.3s\tremaining: 42.4s\n",
      "461:\tlearn: 0.2584218\ttest: 0.2669414\tbest: 0.2667528 (98)\ttotal: 36.4s\tremaining: 42.4s\n",
      "462:\tlearn: 0.2584178\ttest: 0.2669399\tbest: 0.2667528 (98)\ttotal: 36.4s\tremaining: 42.3s\n",
      "463:\tlearn: 0.2584120\ttest: 0.2669398\tbest: 0.2667528 (98)\ttotal: 36.5s\tremaining: 42.2s\n",
      "464:\tlearn: 0.2584028\ttest: 0.2669364\tbest: 0.2667528 (98)\ttotal: 36.6s\tremaining: 42.1s\n",
      "465:\tlearn: 0.2583941\ttest: 0.2669337\tbest: 0.2667528 (98)\ttotal: 36.7s\tremaining: 42.1s\n",
      "466:\tlearn: 0.2583899\ttest: 0.2669322\tbest: 0.2667528 (98)\ttotal: 36.8s\tremaining: 42s\n",
      "467:\tlearn: 0.2583761\ttest: 0.2669441\tbest: 0.2667528 (98)\ttotal: 36.9s\tremaining: 41.9s\n",
      "468:\tlearn: 0.2583638\ttest: 0.2669358\tbest: 0.2667528 (98)\ttotal: 37s\tremaining: 41.9s\n"
     ]
    },
    {
     "name": "stdout",
     "output_type": "stream",
     "text": [
      "469:\tlearn: 0.2583557\ttest: 0.2669323\tbest: 0.2667528 (98)\ttotal: 37.1s\tremaining: 41.8s\n",
      "470:\tlearn: 0.2583537\ttest: 0.2669325\tbest: 0.2667528 (98)\ttotal: 37.2s\tremaining: 41.8s\n",
      "471:\tlearn: 0.2583402\ttest: 0.2669339\tbest: 0.2667528 (98)\ttotal: 37.3s\tremaining: 41.7s\n",
      "472:\tlearn: 0.2583196\ttest: 0.2669405\tbest: 0.2667528 (98)\ttotal: 37.4s\tremaining: 41.7s\n",
      "473:\tlearn: 0.2582986\ttest: 0.2669492\tbest: 0.2667528 (98)\ttotal: 37.5s\tremaining: 41.6s\n",
      "474:\tlearn: 0.2582881\ttest: 0.2669501\tbest: 0.2667528 (98)\ttotal: 37.6s\tremaining: 41.6s\n",
      "475:\tlearn: 0.2582802\ttest: 0.2669499\tbest: 0.2667528 (98)\ttotal: 37.7s\tremaining: 41.5s\n",
      "476:\tlearn: 0.2582719\ttest: 0.2669553\tbest: 0.2667528 (98)\ttotal: 37.8s\tremaining: 41.5s\n",
      "477:\tlearn: 0.2582700\ttest: 0.2669589\tbest: 0.2667528 (98)\ttotal: 37.9s\tremaining: 41.4s\n",
      "478:\tlearn: 0.2582470\ttest: 0.2669538\tbest: 0.2667528 (98)\ttotal: 38s\tremaining: 41.3s\n",
      "479:\tlearn: 0.2582462\ttest: 0.2669543\tbest: 0.2667528 (98)\ttotal: 38s\tremaining: 41.2s\n",
      "480:\tlearn: 0.2582314\ttest: 0.2669594\tbest: 0.2667528 (98)\ttotal: 38.1s\tremaining: 41.1s\n",
      "481:\tlearn: 0.2582221\ttest: 0.2669633\tbest: 0.2667528 (98)\ttotal: 38.2s\tremaining: 41.1s\n",
      "482:\tlearn: 0.2582133\ttest: 0.2669612\tbest: 0.2667528 (98)\ttotal: 38.3s\tremaining: 41s\n",
      "483:\tlearn: 0.2582043\ttest: 0.2669608\tbest: 0.2667528 (98)\ttotal: 38.4s\tremaining: 40.9s\n",
      "484:\tlearn: 0.2582003\ttest: 0.2669648\tbest: 0.2667528 (98)\ttotal: 38.5s\tremaining: 40.9s\n",
      "485:\tlearn: 0.2581973\ttest: 0.2669620\tbest: 0.2667528 (98)\ttotal: 38.6s\tremaining: 40.8s\n",
      "486:\tlearn: 0.2581883\ttest: 0.2669618\tbest: 0.2667528 (98)\ttotal: 38.6s\tremaining: 40.7s\n",
      "487:\tlearn: 0.2581833\ttest: 0.2669576\tbest: 0.2667528 (98)\ttotal: 38.7s\tremaining: 40.6s\n",
      "488:\tlearn: 0.2581744\ttest: 0.2669612\tbest: 0.2667528 (98)\ttotal: 38.8s\tremaining: 40.5s\n",
      "489:\tlearn: 0.2581655\ttest: 0.2669589\tbest: 0.2667528 (98)\ttotal: 38.9s\tremaining: 40.4s\n",
      "490:\tlearn: 0.2581571\ttest: 0.2669583\tbest: 0.2667528 (98)\ttotal: 38.9s\tremaining: 40.3s\n",
      "491:\tlearn: 0.2581426\ttest: 0.2669559\tbest: 0.2667528 (98)\ttotal: 39s\tremaining: 40.3s\n",
      "492:\tlearn: 0.2581362\ttest: 0.2669586\tbest: 0.2667528 (98)\ttotal: 39.1s\tremaining: 40.2s\n",
      "493:\tlearn: 0.2581297\ttest: 0.2669515\tbest: 0.2667528 (98)\ttotal: 39.1s\tremaining: 40.1s\n",
      "494:\tlearn: 0.2581239\ttest: 0.2669551\tbest: 0.2667528 (98)\ttotal: 39.2s\tremaining: 40s\n",
      "495:\tlearn: 0.2581156\ttest: 0.2669578\tbest: 0.2667528 (98)\ttotal: 39.3s\tremaining: 39.9s\n",
      "496:\tlearn: 0.2581144\ttest: 0.2669611\tbest: 0.2667528 (98)\ttotal: 39.3s\tremaining: 39.8s\n",
      "497:\tlearn: 0.2581028\ttest: 0.2669580\tbest: 0.2667528 (98)\ttotal: 39.4s\tremaining: 39.7s\n",
      "498:\tlearn: 0.2580936\ttest: 0.2669619\tbest: 0.2667528 (98)\ttotal: 39.5s\tremaining: 39.7s\n",
      "499:\tlearn: 0.2580911\ttest: 0.2669612\tbest: 0.2667528 (98)\ttotal: 39.6s\tremaining: 39.6s\n",
      "500:\tlearn: 0.2580833\ttest: 0.2669620\tbest: 0.2667528 (98)\ttotal: 39.6s\tremaining: 39.5s\n",
      "501:\tlearn: 0.2580751\ttest: 0.2669635\tbest: 0.2667528 (98)\ttotal: 39.7s\tremaining: 39.4s\n",
      "502:\tlearn: 0.2580604\ttest: 0.2669663\tbest: 0.2667528 (98)\ttotal: 39.8s\tremaining: 39.4s\n",
      "503:\tlearn: 0.2580535\ttest: 0.2669628\tbest: 0.2667528 (98)\ttotal: 39.9s\tremaining: 39.3s\n",
      "504:\tlearn: 0.2580456\ttest: 0.2669678\tbest: 0.2667528 (98)\ttotal: 40s\tremaining: 39.3s\n",
      "505:\tlearn: 0.2580344\ttest: 0.2669689\tbest: 0.2667528 (98)\ttotal: 40.1s\tremaining: 39.2s\n",
      "506:\tlearn: 0.2580255\ttest: 0.2669665\tbest: 0.2667528 (98)\ttotal: 40.2s\tremaining: 39.1s\n",
      "507:\tlearn: 0.2580199\ttest: 0.2669643\tbest: 0.2667528 (98)\ttotal: 40.3s\tremaining: 39s\n",
      "508:\tlearn: 0.2580110\ttest: 0.2669680\tbest: 0.2667528 (98)\ttotal: 40.4s\tremaining: 38.9s\n",
      "509:\tlearn: 0.2579877\ttest: 0.2669742\tbest: 0.2667528 (98)\ttotal: 40.4s\tremaining: 38.8s\n",
      "510:\tlearn: 0.2579840\ttest: 0.2669737\tbest: 0.2667528 (98)\ttotal: 40.5s\tremaining: 38.8s\n",
      "511:\tlearn: 0.2579730\ttest: 0.2669725\tbest: 0.2667528 (98)\ttotal: 40.6s\tremaining: 38.7s\n",
      "512:\tlearn: 0.2579559\ttest: 0.2669738\tbest: 0.2667528 (98)\ttotal: 40.7s\tremaining: 38.6s\n",
      "513:\tlearn: 0.2579458\ttest: 0.2669797\tbest: 0.2667528 (98)\ttotal: 40.8s\tremaining: 38.5s\n",
      "514:\tlearn: 0.2579248\ttest: 0.2669737\tbest: 0.2667528 (98)\ttotal: 40.8s\tremaining: 38.4s\n",
      "515:\tlearn: 0.2579061\ttest: 0.2669856\tbest: 0.2667528 (98)\ttotal: 40.9s\tremaining: 38.4s\n",
      "516:\tlearn: 0.2578991\ttest: 0.2669961\tbest: 0.2667528 (98)\ttotal: 41s\tremaining: 38.3s\n",
      "517:\tlearn: 0.2578898\ttest: 0.2670071\tbest: 0.2667528 (98)\ttotal: 41s\tremaining: 38.2s\n",
      "518:\tlearn: 0.2578813\ttest: 0.2670237\tbest: 0.2667528 (98)\ttotal: 41.1s\tremaining: 38.1s\n",
      "519:\tlearn: 0.2578737\ttest: 0.2670193\tbest: 0.2667528 (98)\ttotal: 41.2s\tremaining: 38s\n",
      "520:\tlearn: 0.2578593\ttest: 0.2670295\tbest: 0.2667528 (98)\ttotal: 41.3s\tremaining: 37.9s\n",
      "521:\tlearn: 0.2578510\ttest: 0.2670270\tbest: 0.2667528 (98)\ttotal: 41.3s\tremaining: 37.8s\n",
      "522:\tlearn: 0.2578466\ttest: 0.2670327\tbest: 0.2667528 (98)\ttotal: 41.4s\tremaining: 37.7s\n",
      "523:\tlearn: 0.2578396\ttest: 0.2670369\tbest: 0.2667528 (98)\ttotal: 41.5s\tremaining: 37.7s\n",
      "524:\tlearn: 0.2578227\ttest: 0.2670425\tbest: 0.2667528 (98)\ttotal: 41.5s\tremaining: 37.6s\n",
      "525:\tlearn: 0.2578118\ttest: 0.2670434\tbest: 0.2667528 (98)\ttotal: 41.6s\tremaining: 37.5s\n",
      "526:\tlearn: 0.2578087\ttest: 0.2670480\tbest: 0.2667528 (98)\ttotal: 41.7s\tremaining: 37.4s\n",
      "527:\tlearn: 0.2578056\ttest: 0.2670484\tbest: 0.2667528 (98)\ttotal: 41.8s\tremaining: 37.4s\n",
      "528:\tlearn: 0.2577954\ttest: 0.2670486\tbest: 0.2667528 (98)\ttotal: 41.9s\tremaining: 37.3s\n",
      "529:\tlearn: 0.2577912\ttest: 0.2670513\tbest: 0.2667528 (98)\ttotal: 41.9s\tremaining: 37.2s\n",
      "530:\tlearn: 0.2577844\ttest: 0.2670508\tbest: 0.2667528 (98)\ttotal: 42s\tremaining: 37.1s\n",
      "531:\tlearn: 0.2577747\ttest: 0.2670431\tbest: 0.2667528 (98)\ttotal: 42.1s\tremaining: 37s\n",
      "532:\tlearn: 0.2577652\ttest: 0.2670480\tbest: 0.2667528 (98)\ttotal: 42.2s\tremaining: 37s\n",
      "533:\tlearn: 0.2577539\ttest: 0.2670387\tbest: 0.2667528 (98)\ttotal: 42.3s\tremaining: 36.9s\n",
      "534:\tlearn: 0.2577458\ttest: 0.2670383\tbest: 0.2667528 (98)\ttotal: 42.3s\tremaining: 36.8s\n",
      "535:\tlearn: 0.2577385\ttest: 0.2670396\tbest: 0.2667528 (98)\ttotal: 42.4s\tremaining: 36.7s\n",
      "536:\tlearn: 0.2577314\ttest: 0.2670397\tbest: 0.2667528 (98)\ttotal: 42.5s\tremaining: 36.6s\n",
      "537:\tlearn: 0.2577206\ttest: 0.2670326\tbest: 0.2667528 (98)\ttotal: 42.6s\tremaining: 36.6s\n",
      "538:\tlearn: 0.2577051\ttest: 0.2670330\tbest: 0.2667528 (98)\ttotal: 42.6s\tremaining: 36.5s\n",
      "539:\tlearn: 0.2576902\ttest: 0.2670262\tbest: 0.2667528 (98)\ttotal: 42.7s\tremaining: 36.4s\n",
      "540:\tlearn: 0.2576867\ttest: 0.2670256\tbest: 0.2667528 (98)\ttotal: 42.8s\tremaining: 36.3s\n",
      "541:\tlearn: 0.2576840\ttest: 0.2670239\tbest: 0.2667528 (98)\ttotal: 42.9s\tremaining: 36.2s\n",
      "542:\tlearn: 0.2576795\ttest: 0.2670337\tbest: 0.2667528 (98)\ttotal: 42.9s\tremaining: 36.1s\n",
      "543:\tlearn: 0.2576721\ttest: 0.2670332\tbest: 0.2667528 (98)\ttotal: 43s\tremaining: 36s\n",
      "544:\tlearn: 0.2576621\ttest: 0.2670256\tbest: 0.2667528 (98)\ttotal: 43.1s\tremaining: 36s\n",
      "545:\tlearn: 0.2576485\ttest: 0.2670296\tbest: 0.2667528 (98)\ttotal: 43.2s\tremaining: 35.9s\n",
      "546:\tlearn: 0.2576392\ttest: 0.2670318\tbest: 0.2667528 (98)\ttotal: 43.3s\tremaining: 35.8s\n",
      "547:\tlearn: 0.2576305\ttest: 0.2670320\tbest: 0.2667528 (98)\ttotal: 43.3s\tremaining: 35.7s\n",
      "548:\tlearn: 0.2576205\ttest: 0.2670304\tbest: 0.2667528 (98)\ttotal: 43.4s\tremaining: 35.7s\n",
      "549:\tlearn: 0.2576174\ttest: 0.2670303\tbest: 0.2667528 (98)\ttotal: 43.5s\tremaining: 35.6s\n",
      "550:\tlearn: 0.2576109\ttest: 0.2670356\tbest: 0.2667528 (98)\ttotal: 43.6s\tremaining: 35.5s\n",
      "551:\tlearn: 0.2575985\ttest: 0.2670449\tbest: 0.2667528 (98)\ttotal: 43.7s\tremaining: 35.4s\n",
      "552:\tlearn: 0.2575904\ttest: 0.2670524\tbest: 0.2667528 (98)\ttotal: 43.8s\tremaining: 35.4s\n",
      "553:\tlearn: 0.2575814\ttest: 0.2670401\tbest: 0.2667528 (98)\ttotal: 43.8s\tremaining: 35.3s\n",
      "554:\tlearn: 0.2575733\ttest: 0.2670656\tbest: 0.2667528 (98)\ttotal: 43.9s\tremaining: 35.2s\n",
      "555:\tlearn: 0.2575634\ttest: 0.2670646\tbest: 0.2667528 (98)\ttotal: 44s\tremaining: 35.1s\n",
      "556:\tlearn: 0.2575484\ttest: 0.2670616\tbest: 0.2667528 (98)\ttotal: 44.1s\tremaining: 35.1s\n",
      "557:\tlearn: 0.2575385\ttest: 0.2670665\tbest: 0.2667528 (98)\ttotal: 44.2s\tremaining: 35s\n",
      "558:\tlearn: 0.2575306\ttest: 0.2670723\tbest: 0.2667528 (98)\ttotal: 44.3s\tremaining: 34.9s\n",
      "559:\tlearn: 0.2575189\ttest: 0.2670709\tbest: 0.2667528 (98)\ttotal: 44.3s\tremaining: 34.8s\n",
      "560:\tlearn: 0.2575110\ttest: 0.2670764\tbest: 0.2667528 (98)\ttotal: 44.4s\tremaining: 34.8s\n",
      "561:\tlearn: 0.2575016\ttest: 0.2670729\tbest: 0.2667528 (98)\ttotal: 44.5s\tremaining: 34.7s\n"
     ]
    },
    {
     "name": "stdout",
     "output_type": "stream",
     "text": [
      "562:\tlearn: 0.2574867\ttest: 0.2670740\tbest: 0.2667528 (98)\ttotal: 44.6s\tremaining: 34.6s\n",
      "563:\tlearn: 0.2574803\ttest: 0.2670764\tbest: 0.2667528 (98)\ttotal: 44.7s\tremaining: 34.5s\n",
      "564:\tlearn: 0.2574734\ttest: 0.2670747\tbest: 0.2667528 (98)\ttotal: 44.8s\tremaining: 34.5s\n",
      "565:\tlearn: 0.2574624\ttest: 0.2670775\tbest: 0.2667528 (98)\ttotal: 44.8s\tremaining: 34.4s\n",
      "566:\tlearn: 0.2574512\ttest: 0.2670821\tbest: 0.2667528 (98)\ttotal: 45s\tremaining: 34.3s\n",
      "567:\tlearn: 0.2574366\ttest: 0.2670850\tbest: 0.2667528 (98)\ttotal: 45.1s\tremaining: 34.3s\n",
      "568:\tlearn: 0.2574308\ttest: 0.2670820\tbest: 0.2667528 (98)\ttotal: 45.2s\tremaining: 34.2s\n",
      "569:\tlearn: 0.2574267\ttest: 0.2670821\tbest: 0.2667528 (98)\ttotal: 45.3s\tremaining: 34.2s\n",
      "570:\tlearn: 0.2574208\ttest: 0.2670803\tbest: 0.2667528 (98)\ttotal: 45.4s\tremaining: 34.1s\n",
      "571:\tlearn: 0.2574113\ttest: 0.2670817\tbest: 0.2667528 (98)\ttotal: 45.5s\tremaining: 34.1s\n",
      "572:\tlearn: 0.2574059\ttest: 0.2670807\tbest: 0.2667528 (98)\ttotal: 45.7s\tremaining: 34s\n",
      "573:\tlearn: 0.2573938\ttest: 0.2670855\tbest: 0.2667528 (98)\ttotal: 45.8s\tremaining: 34s\n",
      "574:\tlearn: 0.2573875\ttest: 0.2670881\tbest: 0.2667528 (98)\ttotal: 45.8s\tremaining: 33.9s\n",
      "575:\tlearn: 0.2573857\ttest: 0.2670880\tbest: 0.2667528 (98)\ttotal: 45.9s\tremaining: 33.8s\n",
      "576:\tlearn: 0.2573787\ttest: 0.2670906\tbest: 0.2667528 (98)\ttotal: 46s\tremaining: 33.8s\n",
      "577:\tlearn: 0.2573722\ttest: 0.2670905\tbest: 0.2667528 (98)\ttotal: 46.1s\tremaining: 33.7s\n",
      "578:\tlearn: 0.2573700\ttest: 0.2670934\tbest: 0.2667528 (98)\ttotal: 46.2s\tremaining: 33.6s\n",
      "579:\tlearn: 0.2573671\ttest: 0.2670939\tbest: 0.2667528 (98)\ttotal: 46.3s\tremaining: 33.5s\n",
      "580:\tlearn: 0.2573633\ttest: 0.2670981\tbest: 0.2667528 (98)\ttotal: 46.4s\tremaining: 33.4s\n",
      "581:\tlearn: 0.2573557\ttest: 0.2670964\tbest: 0.2667528 (98)\ttotal: 46.5s\tremaining: 33.4s\n",
      "582:\tlearn: 0.2573541\ttest: 0.2670951\tbest: 0.2667528 (98)\ttotal: 46.6s\tremaining: 33.3s\n",
      "583:\tlearn: 0.2573511\ttest: 0.2670892\tbest: 0.2667528 (98)\ttotal: 46.6s\tremaining: 33.2s\n",
      "584:\tlearn: 0.2573284\ttest: 0.2670900\tbest: 0.2667528 (98)\ttotal: 46.7s\tremaining: 33.1s\n",
      "585:\tlearn: 0.2573130\ttest: 0.2670996\tbest: 0.2667528 (98)\ttotal: 46.8s\tremaining: 33s\n",
      "586:\tlearn: 0.2573076\ttest: 0.2670957\tbest: 0.2667528 (98)\ttotal: 46.9s\tremaining: 33s\n",
      "587:\tlearn: 0.2572997\ttest: 0.2671044\tbest: 0.2667528 (98)\ttotal: 46.9s\tremaining: 32.9s\n",
      "588:\tlearn: 0.2572915\ttest: 0.2670999\tbest: 0.2667528 (98)\ttotal: 47s\tremaining: 32.8s\n",
      "589:\tlearn: 0.2572804\ttest: 0.2670947\tbest: 0.2667528 (98)\ttotal: 47.1s\tremaining: 32.7s\n",
      "590:\tlearn: 0.2572694\ttest: 0.2670879\tbest: 0.2667528 (98)\ttotal: 47.2s\tremaining: 32.7s\n",
      "591:\tlearn: 0.2572604\ttest: 0.2670920\tbest: 0.2667528 (98)\ttotal: 47.3s\tremaining: 32.6s\n",
      "592:\tlearn: 0.2572513\ttest: 0.2671000\tbest: 0.2667528 (98)\ttotal: 47.4s\tremaining: 32.5s\n",
      "593:\tlearn: 0.2572418\ttest: 0.2670995\tbest: 0.2667528 (98)\ttotal: 47.4s\tremaining: 32.4s\n",
      "594:\tlearn: 0.2572330\ttest: 0.2670930\tbest: 0.2667528 (98)\ttotal: 47.5s\tremaining: 32.4s\n",
      "595:\tlearn: 0.2572256\ttest: 0.2670847\tbest: 0.2667528 (98)\ttotal: 47.6s\tremaining: 32.3s\n",
      "596:\tlearn: 0.2572195\ttest: 0.2670862\tbest: 0.2667528 (98)\ttotal: 47.7s\tremaining: 32.2s\n",
      "597:\tlearn: 0.2572028\ttest: 0.2670968\tbest: 0.2667528 (98)\ttotal: 47.7s\tremaining: 32.1s\n",
      "598:\tlearn: 0.2571950\ttest: 0.2670978\tbest: 0.2667528 (98)\ttotal: 47.8s\tremaining: 32s\n",
      "599:\tlearn: 0.2571765\ttest: 0.2671094\tbest: 0.2667528 (98)\ttotal: 47.9s\tremaining: 31.9s\n",
      "600:\tlearn: 0.2571679\ttest: 0.2671017\tbest: 0.2667528 (98)\ttotal: 48s\tremaining: 31.9s\n",
      "601:\tlearn: 0.2571517\ttest: 0.2671017\tbest: 0.2667528 (98)\ttotal: 48.1s\tremaining: 31.8s\n",
      "602:\tlearn: 0.2571447\ttest: 0.2671093\tbest: 0.2667528 (98)\ttotal: 48.2s\tremaining: 31.7s\n",
      "603:\tlearn: 0.2571381\ttest: 0.2671110\tbest: 0.2667528 (98)\ttotal: 48.3s\tremaining: 31.6s\n",
      "604:\tlearn: 0.2571212\ttest: 0.2671312\tbest: 0.2667528 (98)\ttotal: 48.4s\tremaining: 31.6s\n",
      "605:\tlearn: 0.2571140\ttest: 0.2671285\tbest: 0.2667528 (98)\ttotal: 48.5s\tremaining: 31.5s\n",
      "606:\tlearn: 0.2571100\ttest: 0.2671327\tbest: 0.2667528 (98)\ttotal: 48.5s\tremaining: 31.4s\n",
      "607:\tlearn: 0.2571070\ttest: 0.2671330\tbest: 0.2667528 (98)\ttotal: 48.6s\tremaining: 31.3s\n",
      "608:\tlearn: 0.2570978\ttest: 0.2671326\tbest: 0.2667528 (98)\ttotal: 48.7s\tremaining: 31.2s\n",
      "609:\tlearn: 0.2570860\ttest: 0.2671341\tbest: 0.2667528 (98)\ttotal: 48.7s\tremaining: 31.2s\n",
      "610:\tlearn: 0.2570683\ttest: 0.2671315\tbest: 0.2667528 (98)\ttotal: 48.8s\tremaining: 31.1s\n",
      "611:\tlearn: 0.2570544\ttest: 0.2671312\tbest: 0.2667528 (98)\ttotal: 48.9s\tremaining: 31s\n",
      "612:\tlearn: 0.2570460\ttest: 0.2671268\tbest: 0.2667528 (98)\ttotal: 49s\tremaining: 30.9s\n",
      "613:\tlearn: 0.2570421\ttest: 0.2671244\tbest: 0.2667528 (98)\ttotal: 49s\tremaining: 30.8s\n",
      "614:\tlearn: 0.2570376\ttest: 0.2671296\tbest: 0.2667528 (98)\ttotal: 49.1s\tremaining: 30.7s\n",
      "615:\tlearn: 0.2570212\ttest: 0.2671333\tbest: 0.2667528 (98)\ttotal: 49.2s\tremaining: 30.7s\n",
      "616:\tlearn: 0.2570108\ttest: 0.2671333\tbest: 0.2667528 (98)\ttotal: 49.3s\tremaining: 30.6s\n",
      "617:\tlearn: 0.2569990\ttest: 0.2671392\tbest: 0.2667528 (98)\ttotal: 49.4s\tremaining: 30.5s\n",
      "618:\tlearn: 0.2569901\ttest: 0.2671415\tbest: 0.2667528 (98)\ttotal: 49.4s\tremaining: 30.4s\n",
      "619:\tlearn: 0.2569755\ttest: 0.2671345\tbest: 0.2667528 (98)\ttotal: 49.5s\tremaining: 30.4s\n",
      "620:\tlearn: 0.2569669\ttest: 0.2671363\tbest: 0.2667528 (98)\ttotal: 49.6s\tremaining: 30.3s\n",
      "621:\tlearn: 0.2569654\ttest: 0.2671374\tbest: 0.2667528 (98)\ttotal: 49.7s\tremaining: 30.2s\n",
      "622:\tlearn: 0.2569520\ttest: 0.2671399\tbest: 0.2667528 (98)\ttotal: 49.8s\tremaining: 30.1s\n",
      "623:\tlearn: 0.2569374\ttest: 0.2671441\tbest: 0.2667528 (98)\ttotal: 49.9s\tremaining: 30s\n",
      "624:\tlearn: 0.2569221\ttest: 0.2671419\tbest: 0.2667528 (98)\ttotal: 49.9s\tremaining: 30s\n",
      "625:\tlearn: 0.2569061\ttest: 0.2671299\tbest: 0.2667528 (98)\ttotal: 50s\tremaining: 29.9s\n",
      "626:\tlearn: 0.2568997\ttest: 0.2671250\tbest: 0.2667528 (98)\ttotal: 50.1s\tremaining: 29.8s\n",
      "627:\tlearn: 0.2568844\ttest: 0.2671243\tbest: 0.2667528 (98)\ttotal: 50.2s\tremaining: 29.7s\n",
      "628:\tlearn: 0.2568748\ttest: 0.2671366\tbest: 0.2667528 (98)\ttotal: 50.3s\tremaining: 29.7s\n",
      "629:\tlearn: 0.2568604\ttest: 0.2671389\tbest: 0.2667528 (98)\ttotal: 50.4s\tremaining: 29.6s\n",
      "630:\tlearn: 0.2568476\ttest: 0.2671417\tbest: 0.2667528 (98)\ttotal: 50.4s\tremaining: 29.5s\n",
      "631:\tlearn: 0.2568358\ttest: 0.2671407\tbest: 0.2667528 (98)\ttotal: 50.5s\tremaining: 29.4s\n",
      "632:\tlearn: 0.2568291\ttest: 0.2671419\tbest: 0.2667528 (98)\ttotal: 50.6s\tremaining: 29.3s\n",
      "633:\tlearn: 0.2568179\ttest: 0.2671417\tbest: 0.2667528 (98)\ttotal: 50.7s\tremaining: 29.2s\n",
      "634:\tlearn: 0.2568093\ttest: 0.2671373\tbest: 0.2667528 (98)\ttotal: 50.8s\tremaining: 29.2s\n",
      "635:\tlearn: 0.2567857\ttest: 0.2671398\tbest: 0.2667528 (98)\ttotal: 50.8s\tremaining: 29.1s\n",
      "636:\tlearn: 0.2567684\ttest: 0.2671443\tbest: 0.2667528 (98)\ttotal: 50.9s\tremaining: 29s\n",
      "637:\tlearn: 0.2567617\ttest: 0.2671404\tbest: 0.2667528 (98)\ttotal: 51s\tremaining: 28.9s\n",
      "638:\tlearn: 0.2567523\ttest: 0.2671390\tbest: 0.2667528 (98)\ttotal: 51.1s\tremaining: 28.9s\n",
      "639:\tlearn: 0.2567465\ttest: 0.2671425\tbest: 0.2667528 (98)\ttotal: 51.1s\tremaining: 28.8s\n",
      "640:\tlearn: 0.2567357\ttest: 0.2671535\tbest: 0.2667528 (98)\ttotal: 51.2s\tremaining: 28.7s\n",
      "641:\tlearn: 0.2567213\ttest: 0.2671558\tbest: 0.2667528 (98)\ttotal: 51.3s\tremaining: 28.6s\n",
      "642:\tlearn: 0.2567182\ttest: 0.2671549\tbest: 0.2667528 (98)\ttotal: 51.4s\tremaining: 28.5s\n",
      "643:\tlearn: 0.2567125\ttest: 0.2671577\tbest: 0.2667528 (98)\ttotal: 51.4s\tremaining: 28.4s\n",
      "644:\tlearn: 0.2567091\ttest: 0.2671551\tbest: 0.2667528 (98)\ttotal: 51.5s\tremaining: 28.4s\n",
      "645:\tlearn: 0.2567022\ttest: 0.2671579\tbest: 0.2667528 (98)\ttotal: 51.6s\tremaining: 28.3s\n",
      "646:\tlearn: 0.2566943\ttest: 0.2671619\tbest: 0.2667528 (98)\ttotal: 51.7s\tremaining: 28.2s\n",
      "647:\tlearn: 0.2566826\ttest: 0.2671691\tbest: 0.2667528 (98)\ttotal: 51.8s\tremaining: 28.1s\n",
      "648:\tlearn: 0.2566748\ttest: 0.2671671\tbest: 0.2667528 (98)\ttotal: 51.8s\tremaining: 28s\n",
      "649:\tlearn: 0.2566651\ttest: 0.2671744\tbest: 0.2667528 (98)\ttotal: 51.9s\tremaining: 28s\n",
      "650:\tlearn: 0.2566632\ttest: 0.2671750\tbest: 0.2667528 (98)\ttotal: 52s\tremaining: 27.9s\n",
      "651:\tlearn: 0.2566524\ttest: 0.2671744\tbest: 0.2667528 (98)\ttotal: 52.1s\tremaining: 27.8s\n",
      "652:\tlearn: 0.2566350\ttest: 0.2671807\tbest: 0.2667528 (98)\ttotal: 52.1s\tremaining: 27.7s\n",
      "653:\tlearn: 0.2566215\ttest: 0.2671770\tbest: 0.2667528 (98)\ttotal: 52.2s\tremaining: 27.6s\n",
      "654:\tlearn: 0.2566123\ttest: 0.2671889\tbest: 0.2667528 (98)\ttotal: 52.3s\tremaining: 27.5s\n"
     ]
    },
    {
     "name": "stdout",
     "output_type": "stream",
     "text": [
      "655:\tlearn: 0.2566017\ttest: 0.2671929\tbest: 0.2667528 (98)\ttotal: 52.4s\tremaining: 27.5s\n",
      "656:\tlearn: 0.2565882\ttest: 0.2671773\tbest: 0.2667528 (98)\ttotal: 52.4s\tremaining: 27.4s\n",
      "657:\tlearn: 0.2565819\ttest: 0.2671787\tbest: 0.2667528 (98)\ttotal: 52.5s\tremaining: 27.3s\n",
      "658:\tlearn: 0.2565691\ttest: 0.2671921\tbest: 0.2667528 (98)\ttotal: 52.6s\tremaining: 27.2s\n",
      "659:\tlearn: 0.2565625\ttest: 0.2671911\tbest: 0.2667528 (98)\ttotal: 52.7s\tremaining: 27.1s\n",
      "660:\tlearn: 0.2565587\ttest: 0.2671925\tbest: 0.2667528 (98)\ttotal: 52.8s\tremaining: 27.1s\n",
      "661:\tlearn: 0.2565526\ttest: 0.2671881\tbest: 0.2667528 (98)\ttotal: 52.8s\tremaining: 27s\n",
      "662:\tlearn: 0.2565468\ttest: 0.2671852\tbest: 0.2667528 (98)\ttotal: 52.9s\tremaining: 26.9s\n",
      "663:\tlearn: 0.2565374\ttest: 0.2671865\tbest: 0.2667528 (98)\ttotal: 53s\tremaining: 26.8s\n",
      "664:\tlearn: 0.2565288\ttest: 0.2671832\tbest: 0.2667528 (98)\ttotal: 53.1s\tremaining: 26.8s\n",
      "665:\tlearn: 0.2565095\ttest: 0.2671870\tbest: 0.2667528 (98)\ttotal: 53.2s\tremaining: 26.7s\n",
      "666:\tlearn: 0.2565052\ttest: 0.2671840\tbest: 0.2667528 (98)\ttotal: 53.3s\tremaining: 26.6s\n",
      "667:\tlearn: 0.2564976\ttest: 0.2671876\tbest: 0.2667528 (98)\ttotal: 53.4s\tremaining: 26.5s\n",
      "668:\tlearn: 0.2564903\ttest: 0.2671893\tbest: 0.2667528 (98)\ttotal: 53.5s\tremaining: 26.5s\n",
      "669:\tlearn: 0.2564893\ttest: 0.2671892\tbest: 0.2667528 (98)\ttotal: 53.5s\tremaining: 26.4s\n",
      "670:\tlearn: 0.2564777\ttest: 0.2672022\tbest: 0.2667528 (98)\ttotal: 53.6s\tremaining: 26.3s\n",
      "671:\tlearn: 0.2564685\ttest: 0.2671971\tbest: 0.2667528 (98)\ttotal: 53.7s\tremaining: 26.2s\n",
      "672:\tlearn: 0.2564491\ttest: 0.2672111\tbest: 0.2667528 (98)\ttotal: 53.8s\tremaining: 26.2s\n",
      "673:\tlearn: 0.2564419\ttest: 0.2672144\tbest: 0.2667528 (98)\ttotal: 53.9s\tremaining: 26.1s\n",
      "674:\tlearn: 0.2564258\ttest: 0.2672104\tbest: 0.2667528 (98)\ttotal: 54s\tremaining: 26s\n",
      "675:\tlearn: 0.2564138\ttest: 0.2672176\tbest: 0.2667528 (98)\ttotal: 54.1s\tremaining: 25.9s\n",
      "676:\tlearn: 0.2564122\ttest: 0.2672186\tbest: 0.2667528 (98)\ttotal: 54.2s\tremaining: 25.9s\n",
      "677:\tlearn: 0.2564087\ttest: 0.2672169\tbest: 0.2667528 (98)\ttotal: 54.3s\tremaining: 25.8s\n",
      "678:\tlearn: 0.2563987\ttest: 0.2672245\tbest: 0.2667528 (98)\ttotal: 54.4s\tremaining: 25.7s\n",
      "679:\tlearn: 0.2563860\ttest: 0.2672428\tbest: 0.2667528 (98)\ttotal: 54.4s\tremaining: 25.6s\n",
      "680:\tlearn: 0.2563730\ttest: 0.2672527\tbest: 0.2667528 (98)\ttotal: 54.5s\tremaining: 25.5s\n",
      "681:\tlearn: 0.2563636\ttest: 0.2672547\tbest: 0.2667528 (98)\ttotal: 54.6s\tremaining: 25.5s\n",
      "682:\tlearn: 0.2563588\ttest: 0.2672555\tbest: 0.2667528 (98)\ttotal: 54.7s\tremaining: 25.4s\n",
      "683:\tlearn: 0.2563465\ttest: 0.2672594\tbest: 0.2667528 (98)\ttotal: 54.8s\tremaining: 25.3s\n",
      "684:\tlearn: 0.2563418\ttest: 0.2672698\tbest: 0.2667528 (98)\ttotal: 54.8s\tremaining: 25.2s\n",
      "685:\tlearn: 0.2563366\ttest: 0.2672671\tbest: 0.2667528 (98)\ttotal: 54.9s\tremaining: 25.1s\n",
      "686:\tlearn: 0.2563310\ttest: 0.2672667\tbest: 0.2667528 (98)\ttotal: 55s\tremaining: 25.1s\n",
      "687:\tlearn: 0.2563276\ttest: 0.2672635\tbest: 0.2667528 (98)\ttotal: 55.1s\tremaining: 25s\n",
      "688:\tlearn: 0.2563135\ttest: 0.2672574\tbest: 0.2667528 (98)\ttotal: 55.2s\tremaining: 24.9s\n",
      "689:\tlearn: 0.2562975\ttest: 0.2672522\tbest: 0.2667528 (98)\ttotal: 55.3s\tremaining: 24.8s\n",
      "690:\tlearn: 0.2562846\ttest: 0.2672537\tbest: 0.2667528 (98)\ttotal: 55.4s\tremaining: 24.8s\n",
      "691:\tlearn: 0.2562739\ttest: 0.2672669\tbest: 0.2667528 (98)\ttotal: 55.4s\tremaining: 24.7s\n",
      "692:\tlearn: 0.2562699\ttest: 0.2672660\tbest: 0.2667528 (98)\ttotal: 55.5s\tremaining: 24.6s\n",
      "693:\tlearn: 0.2562650\ttest: 0.2672714\tbest: 0.2667528 (98)\ttotal: 55.6s\tremaining: 24.5s\n",
      "694:\tlearn: 0.2562581\ttest: 0.2672667\tbest: 0.2667528 (98)\ttotal: 55.7s\tremaining: 24.4s\n",
      "695:\tlearn: 0.2562543\ttest: 0.2672655\tbest: 0.2667528 (98)\ttotal: 55.8s\tremaining: 24.4s\n",
      "696:\tlearn: 0.2562422\ttest: 0.2672600\tbest: 0.2667528 (98)\ttotal: 55.8s\tremaining: 24.3s\n",
      "697:\tlearn: 0.2562339\ttest: 0.2672605\tbest: 0.2667528 (98)\ttotal: 55.9s\tremaining: 24.2s\n",
      "698:\tlearn: 0.2562266\ttest: 0.2672637\tbest: 0.2667528 (98)\ttotal: 56s\tremaining: 24.1s\n",
      "699:\tlearn: 0.2562202\ttest: 0.2672634\tbest: 0.2667528 (98)\ttotal: 56.1s\tremaining: 24s\n",
      "700:\tlearn: 0.2562075\ttest: 0.2672693\tbest: 0.2667528 (98)\ttotal: 56.1s\tremaining: 23.9s\n",
      "701:\tlearn: 0.2561963\ttest: 0.2672707\tbest: 0.2667528 (98)\ttotal: 56.2s\tremaining: 23.9s\n",
      "702:\tlearn: 0.2561896\ttest: 0.2672629\tbest: 0.2667528 (98)\ttotal: 56.3s\tremaining: 23.8s\n",
      "703:\tlearn: 0.2561825\ttest: 0.2672590\tbest: 0.2667528 (98)\ttotal: 56.4s\tremaining: 23.7s\n",
      "704:\tlearn: 0.2561795\ttest: 0.2672606\tbest: 0.2667528 (98)\ttotal: 56.4s\tremaining: 23.6s\n",
      "705:\tlearn: 0.2561639\ttest: 0.2672581\tbest: 0.2667528 (98)\ttotal: 56.5s\tremaining: 23.5s\n",
      "706:\tlearn: 0.2561596\ttest: 0.2672573\tbest: 0.2667528 (98)\ttotal: 56.6s\tremaining: 23.4s\n",
      "707:\tlearn: 0.2561547\ttest: 0.2672547\tbest: 0.2667528 (98)\ttotal: 56.6s\tremaining: 23.4s\n",
      "708:\tlearn: 0.2561505\ttest: 0.2672525\tbest: 0.2667528 (98)\ttotal: 56.7s\tremaining: 23.3s\n",
      "709:\tlearn: 0.2561431\ttest: 0.2672532\tbest: 0.2667528 (98)\ttotal: 56.8s\tremaining: 23.2s\n",
      "710:\tlearn: 0.2561327\ttest: 0.2672400\tbest: 0.2667528 (98)\ttotal: 56.8s\tremaining: 23.1s\n",
      "711:\tlearn: 0.2561260\ttest: 0.2672370\tbest: 0.2667528 (98)\ttotal: 56.9s\tremaining: 23s\n",
      "712:\tlearn: 0.2561169\ttest: 0.2672375\tbest: 0.2667528 (98)\ttotal: 57s\tremaining: 23s\n",
      "713:\tlearn: 0.2561017\ttest: 0.2672315\tbest: 0.2667528 (98)\ttotal: 57.1s\tremaining: 22.9s\n",
      "714:\tlearn: 0.2560961\ttest: 0.2672361\tbest: 0.2667528 (98)\ttotal: 57.2s\tremaining: 22.8s\n",
      "715:\tlearn: 0.2560898\ttest: 0.2672427\tbest: 0.2667528 (98)\ttotal: 57.3s\tremaining: 22.7s\n",
      "716:\tlearn: 0.2560835\ttest: 0.2672456\tbest: 0.2667528 (98)\ttotal: 57.3s\tremaining: 22.6s\n",
      "717:\tlearn: 0.2560829\ttest: 0.2672453\tbest: 0.2667528 (98)\ttotal: 57.4s\tremaining: 22.5s\n",
      "718:\tlearn: 0.2560788\ttest: 0.2672453\tbest: 0.2667528 (98)\ttotal: 57.5s\tremaining: 22.5s\n",
      "719:\tlearn: 0.2560729\ttest: 0.2672456\tbest: 0.2667528 (98)\ttotal: 57.6s\tremaining: 22.4s\n",
      "720:\tlearn: 0.2560660\ttest: 0.2672456\tbest: 0.2667528 (98)\ttotal: 57.7s\tremaining: 22.3s\n",
      "721:\tlearn: 0.2560629\ttest: 0.2672503\tbest: 0.2667528 (98)\ttotal: 57.7s\tremaining: 22.2s\n",
      "722:\tlearn: 0.2560481\ttest: 0.2672533\tbest: 0.2667528 (98)\ttotal: 57.8s\tremaining: 22.2s\n",
      "723:\tlearn: 0.2560379\ttest: 0.2672528\tbest: 0.2667528 (98)\ttotal: 57.9s\tremaining: 22.1s\n",
      "724:\tlearn: 0.2560322\ttest: 0.2672543\tbest: 0.2667528 (98)\ttotal: 58s\tremaining: 22s\n",
      "725:\tlearn: 0.2560208\ttest: 0.2672495\tbest: 0.2667528 (98)\ttotal: 58.1s\tremaining: 21.9s\n",
      "726:\tlearn: 0.2560128\ttest: 0.2672457\tbest: 0.2667528 (98)\ttotal: 58.1s\tremaining: 21.8s\n",
      "727:\tlearn: 0.2560033\ttest: 0.2672442\tbest: 0.2667528 (98)\ttotal: 58.2s\tremaining: 21.8s\n",
      "728:\tlearn: 0.2559966\ttest: 0.2672460\tbest: 0.2667528 (98)\ttotal: 58.3s\tremaining: 21.7s\n",
      "729:\tlearn: 0.2559805\ttest: 0.2672505\tbest: 0.2667528 (98)\ttotal: 58.4s\tremaining: 21.6s\n",
      "730:\tlearn: 0.2559732\ttest: 0.2672547\tbest: 0.2667528 (98)\ttotal: 58.5s\tremaining: 21.5s\n",
      "731:\tlearn: 0.2559627\ttest: 0.2672569\tbest: 0.2667528 (98)\ttotal: 58.6s\tremaining: 21.4s\n",
      "732:\tlearn: 0.2559551\ttest: 0.2672622\tbest: 0.2667528 (98)\ttotal: 58.7s\tremaining: 21.4s\n",
      "733:\tlearn: 0.2559411\ttest: 0.2672664\tbest: 0.2667528 (98)\ttotal: 58.8s\tremaining: 21.3s\n",
      "734:\tlearn: 0.2559345\ttest: 0.2672665\tbest: 0.2667528 (98)\ttotal: 58.8s\tremaining: 21.2s\n",
      "735:\tlearn: 0.2559303\ttest: 0.2672692\tbest: 0.2667528 (98)\ttotal: 58.9s\tremaining: 21.1s\n",
      "736:\tlearn: 0.2559238\ttest: 0.2672701\tbest: 0.2667528 (98)\ttotal: 59s\tremaining: 21s\n",
      "737:\tlearn: 0.2559181\ttest: 0.2672615\tbest: 0.2667528 (98)\ttotal: 59.1s\tremaining: 21s\n",
      "738:\tlearn: 0.2559131\ttest: 0.2672648\tbest: 0.2667528 (98)\ttotal: 59.2s\tremaining: 20.9s\n",
      "739:\tlearn: 0.2559040\ttest: 0.2672690\tbest: 0.2667528 (98)\ttotal: 59.3s\tremaining: 20.8s\n",
      "740:\tlearn: 0.2558999\ttest: 0.2672697\tbest: 0.2667528 (98)\ttotal: 59.4s\tremaining: 20.8s\n",
      "741:\tlearn: 0.2558870\ttest: 0.2672665\tbest: 0.2667528 (98)\ttotal: 59.5s\tremaining: 20.7s\n",
      "742:\tlearn: 0.2558737\ttest: 0.2672604\tbest: 0.2667528 (98)\ttotal: 59.7s\tremaining: 20.6s\n",
      "743:\tlearn: 0.2558664\ttest: 0.2672678\tbest: 0.2667528 (98)\ttotal: 59.7s\tremaining: 20.6s\n",
      "744:\tlearn: 0.2558640\ttest: 0.2672665\tbest: 0.2667528 (98)\ttotal: 59.8s\tremaining: 20.5s\n",
      "745:\tlearn: 0.2558598\ttest: 0.2672693\tbest: 0.2667528 (98)\ttotal: 59.9s\tremaining: 20.4s\n",
      "746:\tlearn: 0.2558477\ttest: 0.2672806\tbest: 0.2667528 (98)\ttotal: 60s\tremaining: 20.3s\n",
      "747:\tlearn: 0.2558315\ttest: 0.2672816\tbest: 0.2667528 (98)\ttotal: 1m\tremaining: 20.2s\n"
     ]
    },
    {
     "name": "stdout",
     "output_type": "stream",
     "text": [
      "748:\tlearn: 0.2558159\ttest: 0.2672941\tbest: 0.2667528 (98)\ttotal: 1m\tremaining: 20.2s\n",
      "749:\tlearn: 0.2558107\ttest: 0.2672932\tbest: 0.2667528 (98)\ttotal: 1m\tremaining: 20.1s\n",
      "750:\tlearn: 0.2558020\ttest: 0.2672912\tbest: 0.2667528 (98)\ttotal: 1m\tremaining: 20s\n",
      "751:\tlearn: 0.2557999\ttest: 0.2672915\tbest: 0.2667528 (98)\ttotal: 1m\tremaining: 19.9s\n",
      "752:\tlearn: 0.2557834\ttest: 0.2672861\tbest: 0.2667528 (98)\ttotal: 1m\tremaining: 19.8s\n",
      "753:\tlearn: 0.2557735\ttest: 0.2672994\tbest: 0.2667528 (98)\ttotal: 1m\tremaining: 19.8s\n",
      "754:\tlearn: 0.2557700\ttest: 0.2672994\tbest: 0.2667528 (98)\ttotal: 1m\tremaining: 19.7s\n",
      "755:\tlearn: 0.2557596\ttest: 0.2673009\tbest: 0.2667528 (98)\ttotal: 1m\tremaining: 19.6s\n",
      "756:\tlearn: 0.2557518\ttest: 0.2673021\tbest: 0.2667528 (98)\ttotal: 1m\tremaining: 19.5s\n",
      "757:\tlearn: 0.2557451\ttest: 0.2673035\tbest: 0.2667528 (98)\ttotal: 1m\tremaining: 19.4s\n",
      "758:\tlearn: 0.2557353\ttest: 0.2672999\tbest: 0.2667528 (98)\ttotal: 1m\tremaining: 19.3s\n",
      "759:\tlearn: 0.2557312\ttest: 0.2673000\tbest: 0.2667528 (98)\ttotal: 1m\tremaining: 19.3s\n",
      "760:\tlearn: 0.2557261\ttest: 0.2673030\tbest: 0.2667528 (98)\ttotal: 1m 1s\tremaining: 19.2s\n",
      "761:\tlearn: 0.2557232\ttest: 0.2673023\tbest: 0.2667528 (98)\ttotal: 1m 1s\tremaining: 19.1s\n",
      "762:\tlearn: 0.2557164\ttest: 0.2672963\tbest: 0.2667528 (98)\ttotal: 1m 1s\tremaining: 19s\n",
      "763:\tlearn: 0.2557065\ttest: 0.2672995\tbest: 0.2667528 (98)\ttotal: 1m 1s\tremaining: 18.9s\n",
      "764:\tlearn: 0.2557014\ttest: 0.2673052\tbest: 0.2667528 (98)\ttotal: 1m 1s\tremaining: 18.8s\n",
      "765:\tlearn: 0.2556887\ttest: 0.2673097\tbest: 0.2667528 (98)\ttotal: 1m 1s\tremaining: 18.8s\n",
      "766:\tlearn: 0.2556778\ttest: 0.2673128\tbest: 0.2667528 (98)\ttotal: 1m 1s\tremaining: 18.7s\n",
      "767:\tlearn: 0.2556632\ttest: 0.2673136\tbest: 0.2667528 (98)\ttotal: 1m 1s\tremaining: 18.6s\n",
      "768:\tlearn: 0.2556509\ttest: 0.2673042\tbest: 0.2667528 (98)\ttotal: 1m 1s\tremaining: 18.5s\n",
      "769:\tlearn: 0.2556360\ttest: 0.2673014\tbest: 0.2667528 (98)\ttotal: 1m 1s\tremaining: 18.4s\n",
      "770:\tlearn: 0.2556297\ttest: 0.2672968\tbest: 0.2667528 (98)\ttotal: 1m 1s\tremaining: 18.4s\n",
      "771:\tlearn: 0.2556275\ttest: 0.2672955\tbest: 0.2667528 (98)\ttotal: 1m 1s\tremaining: 18.3s\n",
      "772:\tlearn: 0.2556204\ttest: 0.2672926\tbest: 0.2667528 (98)\ttotal: 1m 1s\tremaining: 18.2s\n",
      "773:\tlearn: 0.2556074\ttest: 0.2673068\tbest: 0.2667528 (98)\ttotal: 1m 2s\tremaining: 18.1s\n",
      "774:\tlearn: 0.2556028\ttest: 0.2673048\tbest: 0.2667528 (98)\ttotal: 1m 2s\tremaining: 18s\n",
      "775:\tlearn: 0.2555995\ttest: 0.2673062\tbest: 0.2667528 (98)\ttotal: 1m 2s\tremaining: 18s\n",
      "776:\tlearn: 0.2555981\ttest: 0.2673048\tbest: 0.2667528 (98)\ttotal: 1m 2s\tremaining: 17.9s\n",
      "777:\tlearn: 0.2555865\ttest: 0.2673001\tbest: 0.2667528 (98)\ttotal: 1m 2s\tremaining: 17.8s\n",
      "778:\tlearn: 0.2555751\ttest: 0.2673036\tbest: 0.2667528 (98)\ttotal: 1m 2s\tremaining: 17.7s\n",
      "779:\tlearn: 0.2555622\ttest: 0.2673128\tbest: 0.2667528 (98)\ttotal: 1m 2s\tremaining: 17.6s\n",
      "780:\tlearn: 0.2555446\ttest: 0.2673190\tbest: 0.2667528 (98)\ttotal: 1m 2s\tremaining: 17.5s\n",
      "781:\tlearn: 0.2555389\ttest: 0.2673217\tbest: 0.2667528 (98)\ttotal: 1m 2s\tremaining: 17.5s\n",
      "782:\tlearn: 0.2555327\ttest: 0.2673218\tbest: 0.2667528 (98)\ttotal: 1m 2s\tremaining: 17.4s\n",
      "783:\tlearn: 0.2555163\ttest: 0.2673125\tbest: 0.2667528 (98)\ttotal: 1m 2s\tremaining: 17.3s\n",
      "784:\tlearn: 0.2555027\ttest: 0.2673117\tbest: 0.2667528 (98)\ttotal: 1m 2s\tremaining: 17.2s\n",
      "785:\tlearn: 0.2555001\ttest: 0.2673083\tbest: 0.2667528 (98)\ttotal: 1m 2s\tremaining: 17.1s\n",
      "786:\tlearn: 0.2554931\ttest: 0.2673055\tbest: 0.2667528 (98)\ttotal: 1m 3s\tremaining: 17.1s\n",
      "787:\tlearn: 0.2554825\ttest: 0.2673133\tbest: 0.2667528 (98)\ttotal: 1m 3s\tremaining: 17s\n",
      "788:\tlearn: 0.2554705\ttest: 0.2673149\tbest: 0.2667528 (98)\ttotal: 1m 3s\tremaining: 16.9s\n",
      "789:\tlearn: 0.2554598\ttest: 0.2673222\tbest: 0.2667528 (98)\ttotal: 1m 3s\tremaining: 16.8s\n",
      "790:\tlearn: 0.2554525\ttest: 0.2673268\tbest: 0.2667528 (98)\ttotal: 1m 3s\tremaining: 16.7s\n",
      "791:\tlearn: 0.2554439\ttest: 0.2673305\tbest: 0.2667528 (98)\ttotal: 1m 3s\tremaining: 16.7s\n",
      "792:\tlearn: 0.2554369\ttest: 0.2673257\tbest: 0.2667528 (98)\ttotal: 1m 3s\tremaining: 16.6s\n",
      "793:\tlearn: 0.2554324\ttest: 0.2673234\tbest: 0.2667528 (98)\ttotal: 1m 3s\tremaining: 16.5s\n",
      "794:\tlearn: 0.2554279\ttest: 0.2673232\tbest: 0.2667528 (98)\ttotal: 1m 3s\tremaining: 16.4s\n",
      "795:\tlearn: 0.2554166\ttest: 0.2673362\tbest: 0.2667528 (98)\ttotal: 1m 3s\tremaining: 16.3s\n",
      "796:\tlearn: 0.2554150\ttest: 0.2673372\tbest: 0.2667528 (98)\ttotal: 1m 3s\tremaining: 16.3s\n",
      "797:\tlearn: 0.2554017\ttest: 0.2673447\tbest: 0.2667528 (98)\ttotal: 1m 3s\tremaining: 16.2s\n",
      "798:\tlearn: 0.2553968\ttest: 0.2673416\tbest: 0.2667528 (98)\ttotal: 1m 3s\tremaining: 16.1s\n",
      "799:\tlearn: 0.2553863\ttest: 0.2673458\tbest: 0.2667528 (98)\ttotal: 1m 4s\tremaining: 16s\n",
      "800:\tlearn: 0.2553735\ttest: 0.2673428\tbest: 0.2667528 (98)\ttotal: 1m 4s\tremaining: 15.9s\n",
      "801:\tlearn: 0.2553622\ttest: 0.2673359\tbest: 0.2667528 (98)\ttotal: 1m 4s\tremaining: 15.9s\n",
      "802:\tlearn: 0.2553496\ttest: 0.2673342\tbest: 0.2667528 (98)\ttotal: 1m 4s\tremaining: 15.8s\n",
      "803:\tlearn: 0.2553436\ttest: 0.2673373\tbest: 0.2667528 (98)\ttotal: 1m 4s\tremaining: 15.7s\n",
      "804:\tlearn: 0.2553288\ttest: 0.2673331\tbest: 0.2667528 (98)\ttotal: 1m 4s\tremaining: 15.6s\n",
      "805:\tlearn: 0.2553260\ttest: 0.2673323\tbest: 0.2667528 (98)\ttotal: 1m 4s\tremaining: 15.5s\n",
      "806:\tlearn: 0.2553159\ttest: 0.2673377\tbest: 0.2667528 (98)\ttotal: 1m 4s\tremaining: 15.4s\n",
      "807:\tlearn: 0.2553138\ttest: 0.2673358\tbest: 0.2667528 (98)\ttotal: 1m 4s\tremaining: 15.4s\n",
      "808:\tlearn: 0.2553080\ttest: 0.2673407\tbest: 0.2667528 (98)\ttotal: 1m 4s\tremaining: 15.3s\n",
      "809:\tlearn: 0.2553029\ttest: 0.2673467\tbest: 0.2667528 (98)\ttotal: 1m 4s\tremaining: 15.2s\n",
      "810:\tlearn: 0.2553002\ttest: 0.2673475\tbest: 0.2667528 (98)\ttotal: 1m 4s\tremaining: 15.1s\n",
      "811:\tlearn: 0.2552894\ttest: 0.2673511\tbest: 0.2667528 (98)\ttotal: 1m 5s\tremaining: 15.1s\n",
      "812:\tlearn: 0.2552741\ttest: 0.2673557\tbest: 0.2667528 (98)\ttotal: 1m 5s\tremaining: 15s\n",
      "813:\tlearn: 0.2552699\ttest: 0.2673592\tbest: 0.2667528 (98)\ttotal: 1m 5s\tremaining: 14.9s\n",
      "814:\tlearn: 0.2552665\ttest: 0.2673591\tbest: 0.2667528 (98)\ttotal: 1m 5s\tremaining: 14.8s\n",
      "815:\tlearn: 0.2552603\ttest: 0.2673643\tbest: 0.2667528 (98)\ttotal: 1m 5s\tremaining: 14.7s\n",
      "816:\tlearn: 0.2552551\ttest: 0.2673679\tbest: 0.2667528 (98)\ttotal: 1m 5s\tremaining: 14.6s\n",
      "817:\tlearn: 0.2552518\ttest: 0.2673671\tbest: 0.2667528 (98)\ttotal: 1m 5s\tremaining: 14.6s\n",
      "818:\tlearn: 0.2552465\ttest: 0.2673623\tbest: 0.2667528 (98)\ttotal: 1m 5s\tremaining: 14.5s\n",
      "819:\tlearn: 0.2552438\ttest: 0.2673626\tbest: 0.2667528 (98)\ttotal: 1m 5s\tremaining: 14.4s\n",
      "820:\tlearn: 0.2552314\ttest: 0.2673698\tbest: 0.2667528 (98)\ttotal: 1m 5s\tremaining: 14.3s\n",
      "821:\tlearn: 0.2552252\ttest: 0.2673726\tbest: 0.2667528 (98)\ttotal: 1m 5s\tremaining: 14.2s\n",
      "822:\tlearn: 0.2552184\ttest: 0.2673767\tbest: 0.2667528 (98)\ttotal: 1m 5s\tremaining: 14.2s\n",
      "823:\tlearn: 0.2552082\ttest: 0.2673801\tbest: 0.2667528 (98)\ttotal: 1m 5s\tremaining: 14.1s\n",
      "824:\tlearn: 0.2552013\ttest: 0.2673781\tbest: 0.2667528 (98)\ttotal: 1m 5s\tremaining: 14s\n",
      "825:\tlearn: 0.2551926\ttest: 0.2673889\tbest: 0.2667528 (98)\ttotal: 1m 6s\tremaining: 13.9s\n",
      "826:\tlearn: 0.2551781\ttest: 0.2673817\tbest: 0.2667528 (98)\ttotal: 1m 6s\tremaining: 13.8s\n",
      "827:\tlearn: 0.2551655\ttest: 0.2673871\tbest: 0.2667528 (98)\ttotal: 1m 6s\tremaining: 13.8s\n",
      "828:\tlearn: 0.2551634\ttest: 0.2673854\tbest: 0.2667528 (98)\ttotal: 1m 6s\tremaining: 13.7s\n",
      "829:\tlearn: 0.2551507\ttest: 0.2673910\tbest: 0.2667528 (98)\ttotal: 1m 6s\tremaining: 13.6s\n",
      "830:\tlearn: 0.2551466\ttest: 0.2673908\tbest: 0.2667528 (98)\ttotal: 1m 6s\tremaining: 13.5s\n",
      "831:\tlearn: 0.2551389\ttest: 0.2673994\tbest: 0.2667528 (98)\ttotal: 1m 6s\tremaining: 13.4s\n",
      "832:\tlearn: 0.2551336\ttest: 0.2673975\tbest: 0.2667528 (98)\ttotal: 1m 6s\tremaining: 13.3s\n",
      "833:\tlearn: 0.2551216\ttest: 0.2674088\tbest: 0.2667528 (98)\ttotal: 1m 6s\tremaining: 13.3s\n",
      "834:\tlearn: 0.2551158\ttest: 0.2674076\tbest: 0.2667528 (98)\ttotal: 1m 6s\tremaining: 13.2s\n",
      "835:\tlearn: 0.2551069\ttest: 0.2674053\tbest: 0.2667528 (98)\ttotal: 1m 6s\tremaining: 13.1s\n",
      "836:\tlearn: 0.2550988\ttest: 0.2674051\tbest: 0.2667528 (98)\ttotal: 1m 6s\tremaining: 13s\n",
      "837:\tlearn: 0.2550971\ttest: 0.2674029\tbest: 0.2667528 (98)\ttotal: 1m 6s\tremaining: 12.9s\n",
      "838:\tlearn: 0.2550905\ttest: 0.2674021\tbest: 0.2667528 (98)\ttotal: 1m 7s\tremaining: 12.9s\n",
      "839:\tlearn: 0.2550841\ttest: 0.2674060\tbest: 0.2667528 (98)\ttotal: 1m 7s\tremaining: 12.8s\n",
      "840:\tlearn: 0.2550733\ttest: 0.2674148\tbest: 0.2667528 (98)\ttotal: 1m 7s\tremaining: 12.7s\n"
     ]
    },
    {
     "name": "stdout",
     "output_type": "stream",
     "text": [
      "841:\tlearn: 0.2550680\ttest: 0.2674163\tbest: 0.2667528 (98)\ttotal: 1m 7s\tremaining: 12.6s\n",
      "842:\tlearn: 0.2550576\ttest: 0.2674091\tbest: 0.2667528 (98)\ttotal: 1m 7s\tremaining: 12.5s\n",
      "843:\tlearn: 0.2550568\ttest: 0.2674089\tbest: 0.2667528 (98)\ttotal: 1m 7s\tremaining: 12.5s\n",
      "844:\tlearn: 0.2550468\ttest: 0.2674103\tbest: 0.2667528 (98)\ttotal: 1m 7s\tremaining: 12.4s\n",
      "845:\tlearn: 0.2550437\ttest: 0.2674129\tbest: 0.2667528 (98)\ttotal: 1m 7s\tremaining: 12.3s\n",
      "846:\tlearn: 0.2550290\ttest: 0.2674365\tbest: 0.2667528 (98)\ttotal: 1m 7s\tremaining: 12.2s\n",
      "847:\tlearn: 0.2550198\ttest: 0.2674389\tbest: 0.2667528 (98)\ttotal: 1m 7s\tremaining: 12.1s\n",
      "848:\tlearn: 0.2550122\ttest: 0.2674405\tbest: 0.2667528 (98)\ttotal: 1m 7s\tremaining: 12.1s\n",
      "849:\tlearn: 0.2550018\ttest: 0.2674436\tbest: 0.2667528 (98)\ttotal: 1m 7s\tremaining: 12s\n",
      "850:\tlearn: 0.2549930\ttest: 0.2674423\tbest: 0.2667528 (98)\ttotal: 1m 8s\tremaining: 11.9s\n",
      "851:\tlearn: 0.2549821\ttest: 0.2674452\tbest: 0.2667528 (98)\ttotal: 1m 8s\tremaining: 11.8s\n",
      "852:\tlearn: 0.2549775\ttest: 0.2674461\tbest: 0.2667528 (98)\ttotal: 1m 8s\tremaining: 11.7s\n",
      "853:\tlearn: 0.2549747\ttest: 0.2674472\tbest: 0.2667528 (98)\ttotal: 1m 8s\tremaining: 11.7s\n",
      "854:\tlearn: 0.2549606\ttest: 0.2674372\tbest: 0.2667528 (98)\ttotal: 1m 8s\tremaining: 11.6s\n",
      "855:\tlearn: 0.2549508\ttest: 0.2674504\tbest: 0.2667528 (98)\ttotal: 1m 8s\tremaining: 11.5s\n",
      "856:\tlearn: 0.2549418\ttest: 0.2674430\tbest: 0.2667528 (98)\ttotal: 1m 8s\tremaining: 11.4s\n",
      "857:\tlearn: 0.2549408\ttest: 0.2674442\tbest: 0.2667528 (98)\ttotal: 1m 8s\tremaining: 11.3s\n",
      "858:\tlearn: 0.2549294\ttest: 0.2674417\tbest: 0.2667528 (98)\ttotal: 1m 8s\tremaining: 11.3s\n",
      "859:\tlearn: 0.2549171\ttest: 0.2674501\tbest: 0.2667528 (98)\ttotal: 1m 8s\tremaining: 11.2s\n",
      "860:\tlearn: 0.2549116\ttest: 0.2674540\tbest: 0.2667528 (98)\ttotal: 1m 8s\tremaining: 11.1s\n",
      "861:\tlearn: 0.2548998\ttest: 0.2674575\tbest: 0.2667528 (98)\ttotal: 1m 8s\tremaining: 11s\n",
      "862:\tlearn: 0.2548787\ttest: 0.2674544\tbest: 0.2667528 (98)\ttotal: 1m 8s\tremaining: 10.9s\n",
      "863:\tlearn: 0.2548648\ttest: 0.2674507\tbest: 0.2667528 (98)\ttotal: 1m 9s\tremaining: 10.9s\n",
      "864:\tlearn: 0.2548535\ttest: 0.2674518\tbest: 0.2667528 (98)\ttotal: 1m 9s\tremaining: 10.8s\n",
      "865:\tlearn: 0.2548377\ttest: 0.2674409\tbest: 0.2667528 (98)\ttotal: 1m 9s\tremaining: 10.7s\n",
      "866:\tlearn: 0.2548196\ttest: 0.2674368\tbest: 0.2667528 (98)\ttotal: 1m 9s\tremaining: 10.6s\n",
      "867:\tlearn: 0.2548152\ttest: 0.2674408\tbest: 0.2667528 (98)\ttotal: 1m 9s\tremaining: 10.6s\n",
      "868:\tlearn: 0.2548015\ttest: 0.2674458\tbest: 0.2667528 (98)\ttotal: 1m 9s\tremaining: 10.5s\n",
      "869:\tlearn: 0.2547904\ttest: 0.2674494\tbest: 0.2667528 (98)\ttotal: 1m 9s\tremaining: 10.4s\n",
      "870:\tlearn: 0.2547894\ttest: 0.2674474\tbest: 0.2667528 (98)\ttotal: 1m 9s\tremaining: 10.3s\n",
      "871:\tlearn: 0.2547811\ttest: 0.2674540\tbest: 0.2667528 (98)\ttotal: 1m 9s\tremaining: 10.2s\n",
      "872:\tlearn: 0.2547713\ttest: 0.2674582\tbest: 0.2667528 (98)\ttotal: 1m 9s\tremaining: 10.1s\n",
      "873:\tlearn: 0.2547585\ttest: 0.2674599\tbest: 0.2667528 (98)\ttotal: 1m 9s\tremaining: 10.1s\n",
      "874:\tlearn: 0.2547453\ttest: 0.2674556\tbest: 0.2667528 (98)\ttotal: 1m 9s\tremaining: 9.99s\n",
      "875:\tlearn: 0.2547298\ttest: 0.2674549\tbest: 0.2667528 (98)\ttotal: 1m 9s\tremaining: 9.91s\n",
      "876:\tlearn: 0.2547227\ttest: 0.2674601\tbest: 0.2667528 (98)\ttotal: 1m 10s\tremaining: 9.83s\n",
      "877:\tlearn: 0.2547137\ttest: 0.2674515\tbest: 0.2667528 (98)\ttotal: 1m 10s\tremaining: 9.74s\n",
      "878:\tlearn: 0.2547046\ttest: 0.2674560\tbest: 0.2667528 (98)\ttotal: 1m 10s\tremaining: 9.67s\n",
      "879:\tlearn: 0.2546929\ttest: 0.2674558\tbest: 0.2667528 (98)\ttotal: 1m 10s\tremaining: 9.59s\n",
      "880:\tlearn: 0.2546792\ttest: 0.2674610\tbest: 0.2667528 (98)\ttotal: 1m 10s\tremaining: 9.51s\n",
      "881:\tlearn: 0.2546676\ttest: 0.2674654\tbest: 0.2667528 (98)\ttotal: 1m 10s\tremaining: 9.43s\n",
      "882:\tlearn: 0.2546567\ttest: 0.2674615\tbest: 0.2667528 (98)\ttotal: 1m 10s\tremaining: 9.35s\n",
      "883:\tlearn: 0.2546365\ttest: 0.2674583\tbest: 0.2667528 (98)\ttotal: 1m 10s\tremaining: 9.26s\n",
      "884:\tlearn: 0.2546225\ttest: 0.2674571\tbest: 0.2667528 (98)\ttotal: 1m 10s\tremaining: 9.18s\n",
      "885:\tlearn: 0.2546135\ttest: 0.2674537\tbest: 0.2667528 (98)\ttotal: 1m 10s\tremaining: 9.1s\n",
      "886:\tlearn: 0.2545961\ttest: 0.2674488\tbest: 0.2667528 (98)\ttotal: 1m 10s\tremaining: 9.02s\n",
      "887:\tlearn: 0.2545893\ttest: 0.2674482\tbest: 0.2667528 (98)\ttotal: 1m 10s\tremaining: 8.94s\n",
      "888:\tlearn: 0.2545770\ttest: 0.2674526\tbest: 0.2667528 (98)\ttotal: 1m 10s\tremaining: 8.86s\n",
      "889:\tlearn: 0.2545730\ttest: 0.2674479\tbest: 0.2667528 (98)\ttotal: 1m 11s\tremaining: 8.78s\n",
      "890:\tlearn: 0.2545642\ttest: 0.2674473\tbest: 0.2667528 (98)\ttotal: 1m 11s\tremaining: 8.71s\n",
      "891:\tlearn: 0.2545577\ttest: 0.2674474\tbest: 0.2667528 (98)\ttotal: 1m 11s\tremaining: 8.63s\n",
      "892:\tlearn: 0.2545455\ttest: 0.2674580\tbest: 0.2667528 (98)\ttotal: 1m 11s\tremaining: 8.55s\n",
      "893:\tlearn: 0.2545296\ttest: 0.2674518\tbest: 0.2667528 (98)\ttotal: 1m 11s\tremaining: 8.47s\n",
      "894:\tlearn: 0.2545132\ttest: 0.2674535\tbest: 0.2667528 (98)\ttotal: 1m 11s\tremaining: 8.39s\n",
      "895:\tlearn: 0.2544989\ttest: 0.2674588\tbest: 0.2667528 (98)\ttotal: 1m 11s\tremaining: 8.31s\n",
      "896:\tlearn: 0.2544846\ttest: 0.2674632\tbest: 0.2667528 (98)\ttotal: 1m 11s\tremaining: 8.23s\n",
      "897:\tlearn: 0.2544828\ttest: 0.2674618\tbest: 0.2667528 (98)\ttotal: 1m 11s\tremaining: 8.15s\n",
      "898:\tlearn: 0.2544753\ttest: 0.2674573\tbest: 0.2667528 (98)\ttotal: 1m 11s\tremaining: 8.07s\n",
      "899:\tlearn: 0.2544667\ttest: 0.2674552\tbest: 0.2667528 (98)\ttotal: 1m 11s\tremaining: 7.99s\n",
      "900:\tlearn: 0.2544596\ttest: 0.2674618\tbest: 0.2667528 (98)\ttotal: 1m 12s\tremaining: 7.92s\n",
      "901:\tlearn: 0.2544509\ttest: 0.2674603\tbest: 0.2667528 (98)\ttotal: 1m 12s\tremaining: 7.84s\n",
      "902:\tlearn: 0.2544416\ttest: 0.2674660\tbest: 0.2667528 (98)\ttotal: 1m 12s\tremaining: 7.76s\n",
      "903:\tlearn: 0.2544355\ttest: 0.2674689\tbest: 0.2667528 (98)\ttotal: 1m 12s\tremaining: 7.68s\n",
      "904:\tlearn: 0.2544234\ttest: 0.2674735\tbest: 0.2667528 (98)\ttotal: 1m 12s\tremaining: 7.6s\n",
      "905:\tlearn: 0.2544119\ttest: 0.2674641\tbest: 0.2667528 (98)\ttotal: 1m 12s\tremaining: 7.52s\n",
      "906:\tlearn: 0.2543967\ttest: 0.2674754\tbest: 0.2667528 (98)\ttotal: 1m 12s\tremaining: 7.44s\n",
      "907:\tlearn: 0.2543791\ttest: 0.2674881\tbest: 0.2667528 (98)\ttotal: 1m 12s\tremaining: 7.36s\n",
      "908:\tlearn: 0.2543704\ttest: 0.2674890\tbest: 0.2667528 (98)\ttotal: 1m 12s\tremaining: 7.28s\n",
      "909:\tlearn: 0.2543632\ttest: 0.2675047\tbest: 0.2667528 (98)\ttotal: 1m 12s\tremaining: 7.2s\n",
      "910:\tlearn: 0.2543538\ttest: 0.2675061\tbest: 0.2667528 (98)\ttotal: 1m 12s\tremaining: 7.12s\n",
      "911:\tlearn: 0.2543464\ttest: 0.2675072\tbest: 0.2667528 (98)\ttotal: 1m 13s\tremaining: 7.04s\n",
      "912:\tlearn: 0.2543413\ttest: 0.2675049\tbest: 0.2667528 (98)\ttotal: 1m 13s\tremaining: 6.96s\n",
      "913:\tlearn: 0.2543349\ttest: 0.2674990\tbest: 0.2667528 (98)\ttotal: 1m 13s\tremaining: 6.88s\n",
      "914:\tlearn: 0.2543280\ttest: 0.2674951\tbest: 0.2667528 (98)\ttotal: 1m 13s\tremaining: 6.8s\n",
      "915:\tlearn: 0.2543142\ttest: 0.2674913\tbest: 0.2667528 (98)\ttotal: 1m 13s\tremaining: 6.72s\n",
      "916:\tlearn: 0.2543123\ttest: 0.2674909\tbest: 0.2667528 (98)\ttotal: 1m 13s\tremaining: 6.65s\n",
      "917:\tlearn: 0.2543057\ttest: 0.2674890\tbest: 0.2667528 (98)\ttotal: 1m 13s\tremaining: 6.57s\n",
      "918:\tlearn: 0.2542995\ttest: 0.2674950\tbest: 0.2667528 (98)\ttotal: 1m 13s\tremaining: 6.49s\n",
      "919:\tlearn: 0.2542966\ttest: 0.2674949\tbest: 0.2667528 (98)\ttotal: 1m 13s\tremaining: 6.41s\n",
      "920:\tlearn: 0.2542867\ttest: 0.2674971\tbest: 0.2667528 (98)\ttotal: 1m 13s\tremaining: 6.33s\n",
      "921:\tlearn: 0.2542826\ttest: 0.2674932\tbest: 0.2667528 (98)\ttotal: 1m 13s\tremaining: 6.25s\n",
      "922:\tlearn: 0.2542795\ttest: 0.2674955\tbest: 0.2667528 (98)\ttotal: 1m 13s\tremaining: 6.17s\n",
      "923:\tlearn: 0.2542709\ttest: 0.2674920\tbest: 0.2667528 (98)\ttotal: 1m 14s\tremaining: 6.09s\n",
      "924:\tlearn: 0.2542544\ttest: 0.2674928\tbest: 0.2667528 (98)\ttotal: 1m 14s\tremaining: 6.01s\n",
      "925:\tlearn: 0.2542437\ttest: 0.2674969\tbest: 0.2667528 (98)\ttotal: 1m 14s\tremaining: 5.93s\n",
      "926:\tlearn: 0.2542351\ttest: 0.2675024\tbest: 0.2667528 (98)\ttotal: 1m 14s\tremaining: 5.85s\n",
      "927:\tlearn: 0.2542276\ttest: 0.2675049\tbest: 0.2667528 (98)\ttotal: 1m 14s\tremaining: 5.77s\n",
      "928:\tlearn: 0.2542083\ttest: 0.2674988\tbest: 0.2667528 (98)\ttotal: 1m 14s\tremaining: 5.69s\n",
      "929:\tlearn: 0.2541999\ttest: 0.2674983\tbest: 0.2667528 (98)\ttotal: 1m 14s\tremaining: 5.61s\n",
      "930:\tlearn: 0.2541904\ttest: 0.2674948\tbest: 0.2667528 (98)\ttotal: 1m 14s\tremaining: 5.54s\n",
      "931:\tlearn: 0.2541878\ttest: 0.2674925\tbest: 0.2667528 (98)\ttotal: 1m 14s\tremaining: 5.46s\n",
      "932:\tlearn: 0.2541776\ttest: 0.2674949\tbest: 0.2667528 (98)\ttotal: 1m 14s\tremaining: 5.38s\n",
      "933:\tlearn: 0.2541675\ttest: 0.2674921\tbest: 0.2667528 (98)\ttotal: 1m 14s\tremaining: 5.3s\n"
     ]
    },
    {
     "name": "stdout",
     "output_type": "stream",
     "text": [
      "934:\tlearn: 0.2541554\ttest: 0.2674933\tbest: 0.2667528 (98)\ttotal: 1m 15s\tremaining: 5.22s\n",
      "935:\tlearn: 0.2541428\ttest: 0.2675055\tbest: 0.2667528 (98)\ttotal: 1m 15s\tremaining: 5.14s\n",
      "936:\tlearn: 0.2541375\ttest: 0.2675054\tbest: 0.2667528 (98)\ttotal: 1m 15s\tremaining: 5.06s\n",
      "937:\tlearn: 0.2541313\ttest: 0.2674993\tbest: 0.2667528 (98)\ttotal: 1m 15s\tremaining: 4.98s\n",
      "938:\tlearn: 0.2541234\ttest: 0.2675024\tbest: 0.2667528 (98)\ttotal: 1m 15s\tremaining: 4.9s\n",
      "939:\tlearn: 0.2541050\ttest: 0.2675016\tbest: 0.2667528 (98)\ttotal: 1m 15s\tremaining: 4.82s\n",
      "940:\tlearn: 0.2540992\ttest: 0.2675018\tbest: 0.2667528 (98)\ttotal: 1m 15s\tremaining: 4.74s\n",
      "941:\tlearn: 0.2540920\ttest: 0.2674964\tbest: 0.2667528 (98)\ttotal: 1m 15s\tremaining: 4.67s\n",
      "942:\tlearn: 0.2540847\ttest: 0.2675019\tbest: 0.2667528 (98)\ttotal: 1m 15s\tremaining: 4.59s\n",
      "943:\tlearn: 0.2540767\ttest: 0.2675027\tbest: 0.2667528 (98)\ttotal: 1m 15s\tremaining: 4.51s\n",
      "944:\tlearn: 0.2540739\ttest: 0.2674994\tbest: 0.2667528 (98)\ttotal: 1m 16s\tremaining: 4.43s\n",
      "945:\tlearn: 0.2540639\ttest: 0.2674983\tbest: 0.2667528 (98)\ttotal: 1m 16s\tremaining: 4.35s\n",
      "946:\tlearn: 0.2540581\ttest: 0.2674974\tbest: 0.2667528 (98)\ttotal: 1m 16s\tremaining: 4.27s\n",
      "947:\tlearn: 0.2540524\ttest: 0.2675007\tbest: 0.2667528 (98)\ttotal: 1m 16s\tremaining: 4.19s\n",
      "948:\tlearn: 0.2540419\ttest: 0.2675191\tbest: 0.2667528 (98)\ttotal: 1m 16s\tremaining: 4.11s\n",
      "949:\tlearn: 0.2540353\ttest: 0.2675297\tbest: 0.2667528 (98)\ttotal: 1m 16s\tremaining: 4.03s\n",
      "950:\tlearn: 0.2540232\ttest: 0.2675354\tbest: 0.2667528 (98)\ttotal: 1m 16s\tremaining: 3.95s\n",
      "951:\tlearn: 0.2540125\ttest: 0.2675304\tbest: 0.2667528 (98)\ttotal: 1m 16s\tremaining: 3.87s\n",
      "952:\tlearn: 0.2540017\ttest: 0.2675276\tbest: 0.2667528 (98)\ttotal: 1m 16s\tremaining: 3.79s\n",
      "953:\tlearn: 0.2539967\ttest: 0.2675262\tbest: 0.2667528 (98)\ttotal: 1m 17s\tremaining: 3.71s\n",
      "954:\tlearn: 0.2539825\ttest: 0.2675270\tbest: 0.2667528 (98)\ttotal: 1m 17s\tremaining: 3.63s\n",
      "955:\tlearn: 0.2539778\ttest: 0.2675284\tbest: 0.2667528 (98)\ttotal: 1m 17s\tremaining: 3.55s\n",
      "956:\tlearn: 0.2539670\ttest: 0.2675327\tbest: 0.2667528 (98)\ttotal: 1m 17s\tremaining: 3.47s\n",
      "957:\tlearn: 0.2539532\ttest: 0.2675322\tbest: 0.2667528 (98)\ttotal: 1m 17s\tremaining: 3.39s\n",
      "958:\tlearn: 0.2539504\ttest: 0.2675317\tbest: 0.2667528 (98)\ttotal: 1m 17s\tremaining: 3.31s\n",
      "959:\tlearn: 0.2539419\ttest: 0.2675345\tbest: 0.2667528 (98)\ttotal: 1m 17s\tremaining: 3.23s\n",
      "960:\tlearn: 0.2539301\ttest: 0.2675170\tbest: 0.2667528 (98)\ttotal: 1m 17s\tremaining: 3.15s\n",
      "961:\tlearn: 0.2539202\ttest: 0.2675130\tbest: 0.2667528 (98)\ttotal: 1m 17s\tremaining: 3.07s\n",
      "962:\tlearn: 0.2539056\ttest: 0.2675137\tbest: 0.2667528 (98)\ttotal: 1m 17s\tremaining: 2.99s\n",
      "963:\tlearn: 0.2538990\ttest: 0.2675115\tbest: 0.2667528 (98)\ttotal: 1m 17s\tremaining: 2.91s\n",
      "964:\tlearn: 0.2538961\ttest: 0.2675094\tbest: 0.2667528 (98)\ttotal: 1m 17s\tremaining: 2.83s\n",
      "965:\tlearn: 0.2538910\ttest: 0.2675129\tbest: 0.2667528 (98)\ttotal: 1m 18s\tremaining: 2.75s\n",
      "966:\tlearn: 0.2538878\ttest: 0.2675094\tbest: 0.2667528 (98)\ttotal: 1m 18s\tremaining: 2.66s\n",
      "967:\tlearn: 0.2538843\ttest: 0.2675097\tbest: 0.2667528 (98)\ttotal: 1m 18s\tremaining: 2.58s\n",
      "968:\tlearn: 0.2538790\ttest: 0.2675110\tbest: 0.2667528 (98)\ttotal: 1m 18s\tremaining: 2.5s\n",
      "969:\tlearn: 0.2538771\ttest: 0.2675010\tbest: 0.2667528 (98)\ttotal: 1m 18s\tremaining: 2.42s\n",
      "970:\tlearn: 0.2538674\ttest: 0.2675152\tbest: 0.2667528 (98)\ttotal: 1m 18s\tremaining: 2.34s\n",
      "971:\tlearn: 0.2538659\ttest: 0.2675160\tbest: 0.2667528 (98)\ttotal: 1m 18s\tremaining: 2.26s\n",
      "972:\tlearn: 0.2538527\ttest: 0.2675239\tbest: 0.2667528 (98)\ttotal: 1m 18s\tremaining: 2.18s\n",
      "973:\tlearn: 0.2538454\ttest: 0.2675248\tbest: 0.2667528 (98)\ttotal: 1m 18s\tremaining: 2.1s\n",
      "974:\tlearn: 0.2538278\ttest: 0.2675264\tbest: 0.2667528 (98)\ttotal: 1m 18s\tremaining: 2.02s\n",
      "975:\tlearn: 0.2538135\ttest: 0.2675245\tbest: 0.2667528 (98)\ttotal: 1m 18s\tremaining: 1.94s\n",
      "976:\tlearn: 0.2537980\ttest: 0.2675296\tbest: 0.2667528 (98)\ttotal: 1m 18s\tremaining: 1.86s\n",
      "977:\tlearn: 0.2537930\ttest: 0.2675318\tbest: 0.2667528 (98)\ttotal: 1m 18s\tremaining: 1.77s\n",
      "978:\tlearn: 0.2537916\ttest: 0.2675320\tbest: 0.2667528 (98)\ttotal: 1m 19s\tremaining: 1.7s\n",
      "979:\tlearn: 0.2537729\ttest: 0.2675306\tbest: 0.2667528 (98)\ttotal: 1m 19s\tremaining: 1.61s\n",
      "980:\tlearn: 0.2537609\ttest: 0.2675221\tbest: 0.2667528 (98)\ttotal: 1m 19s\tremaining: 1.53s\n",
      "981:\tlearn: 0.2537565\ttest: 0.2675227\tbest: 0.2667528 (98)\ttotal: 1m 19s\tremaining: 1.45s\n",
      "982:\tlearn: 0.2537481\ttest: 0.2675166\tbest: 0.2667528 (98)\ttotal: 1m 19s\tremaining: 1.37s\n",
      "983:\tlearn: 0.2537314\ttest: 0.2675125\tbest: 0.2667528 (98)\ttotal: 1m 19s\tremaining: 1.29s\n",
      "984:\tlearn: 0.2537230\ttest: 0.2675096\tbest: 0.2667528 (98)\ttotal: 1m 19s\tremaining: 1.21s\n",
      "985:\tlearn: 0.2537141\ttest: 0.2675089\tbest: 0.2667528 (98)\ttotal: 1m 19s\tremaining: 1.13s\n",
      "986:\tlearn: 0.2537031\ttest: 0.2675169\tbest: 0.2667528 (98)\ttotal: 1m 19s\tremaining: 1.05s\n",
      "987:\tlearn: 0.2536928\ttest: 0.2675183\tbest: 0.2667528 (98)\ttotal: 1m 19s\tremaining: 969ms\n",
      "988:\tlearn: 0.2536854\ttest: 0.2675201\tbest: 0.2667528 (98)\ttotal: 1m 19s\tremaining: 888ms\n",
      "989:\tlearn: 0.2536814\ttest: 0.2675262\tbest: 0.2667528 (98)\ttotal: 1m 19s\tremaining: 808ms\n",
      "990:\tlearn: 0.2536725\ttest: 0.2675354\tbest: 0.2667528 (98)\ttotal: 1m 20s\tremaining: 727ms\n",
      "991:\tlearn: 0.2536542\ttest: 0.2675306\tbest: 0.2667528 (98)\ttotal: 1m 20s\tremaining: 646ms\n",
      "992:\tlearn: 0.2536420\ttest: 0.2675289\tbest: 0.2667528 (98)\ttotal: 1m 20s\tremaining: 565ms\n",
      "993:\tlearn: 0.2536400\ttest: 0.2675272\tbest: 0.2667528 (98)\ttotal: 1m 20s\tremaining: 485ms\n",
      "994:\tlearn: 0.2536346\ttest: 0.2675217\tbest: 0.2667528 (98)\ttotal: 1m 20s\tremaining: 404ms\n",
      "995:\tlearn: 0.2536291\ttest: 0.2675233\tbest: 0.2667528 (98)\ttotal: 1m 20s\tremaining: 323ms\n",
      "996:\tlearn: 0.2536192\ttest: 0.2675239\tbest: 0.2667528 (98)\ttotal: 1m 20s\tremaining: 242ms\n",
      "997:\tlearn: 0.2536153\ttest: 0.2675285\tbest: 0.2667528 (98)\ttotal: 1m 20s\tremaining: 162ms\n",
      "998:\tlearn: 0.2536072\ttest: 0.2675264\tbest: 0.2667528 (98)\ttotal: 1m 20s\tremaining: 80.8ms\n",
      "999:\tlearn: 0.2535841\ttest: 0.2675144\tbest: 0.2667528 (98)\ttotal: 1m 20s\tremaining: 0us\n",
      "\n",
      "bestTest = 0.2667528136\n",
      "bestIteration = 98\n",
      "\n",
      "Shrink model to first 99 iterations.\n"
     ]
    },
    {
     "data": {
      "text/plain": [
       "<catboost.core.CatBoostClassifier at 0x7f83557f0790>"
      ]
     },
     "execution_count": 24,
     "metadata": {},
     "output_type": "execute_result"
    }
   ],
   "source": [
    "from catboost import CatBoostClassifier\n",
    "categories =['Gender','Driving_License', 'Region_Code', 'Previously_Insured', 'Vehicle_Age', 'Vehicle_Damage','Policy_Sales_Channel']\n",
    "cls_catboost = CatBoostClassifier()\n",
    "cls_catboost.fit(x_train, x_test, cat_features=categories, eval_set=(y_train, y_test),verbose=1)"
   ]
  },
  {
   "cell_type": "code",
   "execution_count": 35,
   "metadata": {},
   "outputs": [
    {
     "name": "stdout",
     "output_type": "stream",
     "text": [
      "Score: 0.8749180026763926\n"
     ]
    },
    {
     "data": {
      "text/plain": [
       "0.7417725912678196"
      ]
     },
     "execution_count": 35,
     "metadata": {},
     "output_type": "execute_result"
    }
   ],
   "source": [
    "from sklearn.metrics import roc_auc_score\n",
    "\n",
    "predictions = cls_catboost.predict(y_train)\n",
    "print(\"Score: {}\".format(cls_catboost.score(y_train, y_test)))\n",
    "roc_auc_score(predictions, np.array(y_test))"
   ]
  },
  {
   "cell_type": "code",
   "execution_count": 33,
   "metadata": {},
   "outputs": [
    {
     "data": {
      "text/plain": [
       "0.860665913738337"
      ]
     },
     "execution_count": 33,
     "metadata": {},
     "output_type": "execute_result"
    }
   ],
   "source": [
    "probs = cls_catboost.predict_proba(y_train)[:, 1]\n",
    "roc_auc_score(y_test, probs) ## This only gives probability of 1 or buying insurance"
   ]
  },
  {
   "cell_type": "code",
   "execution_count": null,
   "metadata": {},
   "outputs": [],
   "source": []
  },
  {
   "cell_type": "code",
   "execution_count": null,
   "metadata": {},
   "outputs": [],
   "source": []
  }
 ],
 "metadata": {
  "kernelspec": {
   "display_name": "Python 3.7.9 64-bit ('py37_ML': conda)",
   "language": "python",
   "name": "python37964bitpy37mlcondac05a46a85ef34d87a96777b4ab394e30"
  },
  "language_info": {
   "codemirror_mode": {
    "name": "ipython",
    "version": 3
   },
   "file_extension": ".py",
   "mimetype": "text/x-python",
   "name": "python",
   "nbconvert_exporter": "python",
   "pygments_lexer": "ipython3",
   "version": "3.7.9"
  }
 },
 "nbformat": 4,
 "nbformat_minor": 2
}
