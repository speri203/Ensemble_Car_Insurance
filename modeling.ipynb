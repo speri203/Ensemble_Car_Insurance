{
 "cells": [
  {
   "cell_type": "code",
   "execution_count": 18,
   "metadata": {},
   "outputs": [],
   "source": [
    "import numpy as np\n",
    "import pandas as pd\n",
    "import seaborn as sns\n",
    "import sklearn.ensemble as ens\n",
    "from sklearn.model_selection import train_test_split"
   ]
  },
  {
   "cell_type": "code",
   "execution_count": 19,
   "metadata": {},
   "outputs": [],
   "source": [
    "train = pd.read_csv(\"Datasets/train_cleaned_data.csv\")\n",
    "test = pd.read_csv('Datasets/test_cleaned_data.csv')"
   ]
  },
  {
   "cell_type": "code",
   "execution_count": 20,
   "metadata": {},
   "outputs": [
    {
     "output_type": "execute_result",
     "data": {
      "text/plain": "Unnamed: 0                int64\nid                        int64\nGender                    int64\nAge                       int64\nDriving_License           int64\nRegion_Code             float64\nPreviously_Insured        int64\nVehicle_Age               int64\nVehicle_Damage            int64\nAnnual_Premium          float64\nPolicy_Sales_Channel    float64\nVintage                   int64\nResponse                  int64\ndtype: object"
     },
     "metadata": {},
     "execution_count": 20
    }
   ],
   "source": [
    "train.dtypes"
   ]
  },
  {
   "cell_type": "code",
   "execution_count": 21,
   "metadata": {},
   "outputs": [
    {
     "output_type": "execute_result",
     "data": {
      "text/plain": "Unnamed: 0              int64\nid                      int64\nGender                  int64\nAge                     int64\nDriving_License         int64\nRegion_Code             int64\nPreviously_Insured      int64\nVehicle_Age             int64\nVehicle_Damage          int64\nAnnual_Premium          int64\nPolicy_Sales_Channel    int64\nVintage                 int64\nResponse                int64\ndtype: object"
     },
     "metadata": {},
     "execution_count": 21
    }
   ],
   "source": [
    "## Converting float64 dtypes to int64 so the data can be compatable with the models\n",
    "train['Policy_Sales_Channel'] = train['Policy_Sales_Channel'].astype('int64')\n",
    "train['Annual_Premium'] = train['Annual_Premium'].astype('int64')\n",
    "train['Region_Code'] = train['Region_Code'].astype('int64')\n",
    "train.dtypes"
   ]
  },
  {
   "cell_type": "code",
   "execution_count": 22,
   "metadata": {},
   "outputs": [],
   "source": [
    "## Extracting responses from the training dataset\n",
    "responses = train['Response']\n",
    "\n",
    "## Will be dropping id and responses from the training dataset\n",
    "train.drop(['Response', 'id', 'Unnamed: 0'], axis=1, inplace=True)"
   ]
  },
  {
   "cell_type": "code",
   "execution_count": 23,
   "metadata": {},
   "outputs": [],
   "source": [
    "## Splitting up the data using train_test_split with a shuffle added\n",
    "x_train, y_train, x_test, y_test = train_test_split(train, responses, test_size=0.1, random_state=42)"
   ]
  },
  {
   "cell_type": "code",
   "execution_count": 24,
   "metadata": {
    "tags": []
   },
   "outputs": [
    {
     "output_type": "stream",
     "name": "stdout",
     "text": "x_train length: 342998\nx_test length: 342998\ny_train length: 38111\ny_test length: 38111\n"
    }
   ],
   "source": [
    "print(\"x_train length: {}\\nx_test length: {}\\ny_train length: {}\\ny_test length: {}\".format(len(x_train), len(x_test), len(y_train), len(y_test)))"
   ]
  },
  {
   "cell_type": "code",
   "execution_count": 25,
   "metadata": {
    "tags": []
   },
   "outputs": [
    {
     "output_type": "stream",
     "name": "stdout",
     "text": "Iter       Train Loss   Remaining Time \n         1           0.7126            2.31m\n         2           0.6884            2.24m\n         3           0.6688            2.25m\n         4           0.6526            2.21m\n         5           0.6390            2.18m\n         6           0.6273            2.15m\n         7           0.6172            2.13m\n         8           0.6086            2.13m\n         9           0.6012            2.11m\n        10           0.5945            2.10m\n        20           0.5582            2.03m\n        30           0.5457            1.98m\n        40           0.5403            1.92m\n        50           0.5376            1.88m\n        60           0.5356            1.84m\n        70           0.5342            1.78m\n        80           0.5331            1.73m\n        90           0.5322            1.68m\n       100           0.5315            1.63m\n       200           0.5279            1.09m\n       300           0.5260           32.55s\n       400           0.5245            0.00s\n"
    },
    {
     "output_type": "execute_result",
     "data": {
      "text/plain": "GradientBoostingClassifier(n_estimators=400, random_state=2, verbose=1)"
     },
     "metadata": {},
     "execution_count": 25
    }
   ],
   "source": [
    "from sklearn.ensemble import GradientBoostingClassifier\n",
    "\n",
    "clf = GradientBoostingClassifier(random_state=2, verbose=1, n_estimators=400)\n",
    "clf.fit(x_train, x_test)"
   ]
  },
  {
   "cell_type": "code",
   "execution_count": 26,
   "metadata": {
    "tags": []
   },
   "outputs": [
    {
     "output_type": "stream",
     "name": "stdout",
     "text": "[0 0 0 0 0 0 0 0 0 0 0 0 0 0 0 0 0 0 0 0 0 0 0 0 0 0 0 0 0 0 0 0 0 0 0 0 0\n 0 0 0 0 0 0 0 0 0 0 0 0 0 0 0 0 0 0 0 0 0 0 0 0 0 0 0 0 0 0 0 0 0 0 0 0 0\n 0 0 0 0 0 0 0 0 0 0 0 0 0 0 0 0 0 0 0 0 0 0 0 0 0 0 0 0 0 0 0 0 0 0 0 0 0\n 0 0 0 0 0 0 0 0 0 0 0 0 0 0 0 0 0 0 0 0 0 0 0 0 0 0 0 0 0 0 0 0 0 0 0 0 0\n 0 0 0 0 0 0 0 0 0 0 0 0 0 0 0 0 0 0 0 0 0 0 0 0 0 0 0 0 0 0 0 0 0 0 0 0 0\n 0 0 0 0 0 0 0 0 0 0 0 0 0 0 0]\n[0 0 0 0 0 0 0 0 0 1 0 0 0 0 0 0 0 0 0 1 0 0 0 0 0 0 0 0 0 0 0 0 0 1 0 1 0\n 0 0 1 0 1 0 1 0 0 0 0 0 0 0 0 0 0 0 0 0 0 0 0 0 0 0 1 0 0 0 0 0 1 0 0 0 0\n 0 1 0 0 0 1 0 1 0 0 0 0 0 0 0 0 0 0 0 0 1 0 0 0 0 0 0 0 0 0 0 0 0 0 0 0 1\n 0 0 0 1 0 0 1 0 0 0 0 1 0 0 0 0 0 0 0 0 0 0 0 0 0 1 0 0 0 0 0 0 0 0 0 1 0\n 0 1 0 0 0 0 0 0 0 0 0 0 0 0 0 0 1 0 0 1 0 0 0 1 0 1 0 0 0 0 0 0 0 0 0 0 0\n 0 0 0 1 0 0 1 0 1 0 0 0 0 0 0]\n"
    }
   ],
   "source": [
    "prediction = clf.predict(y_train[:200])\n",
    "actual = y_test[:200]\n",
    "print(\"{}\\n{}\".format(prediction, np.array(actual)))"
   ]
  },
  {
   "cell_type": "code",
   "execution_count": 27,
   "metadata": {
    "tags": []
   },
   "outputs": [
    {
     "output_type": "stream",
     "name": "stdout",
     "text": "Score: 0.8747343286715121\n"
    },
    {
     "output_type": "execute_result",
     "data": {
      "text/plain": "0.7130274666529549"
     },
     "metadata": {},
     "execution_count": 27
    }
   ],
   "source": [
    "from sklearn.metrics import roc_auc_score\n",
    "predictions = clf.predict(y_train)\n",
    "print(\"Score: {}\".format(clf.score(y_train, y_test)))\n",
    "roc_auc_score(predictions, np.array(y_test))"
   ]
  },
  {
   "cell_type": "code",
   "execution_count": 28,
   "metadata": {},
   "outputs": [
    {
     "output_type": "execute_result",
     "data": {
      "text/plain": "AdaBoostClassifier(n_estimators=400)"
     },
     "metadata": {},
     "execution_count": 28
    }
   ],
   "source": [
    "from sklearn.tree import DecisionTreeClassifier #DecisionTreeClassifier reduced accuracy, so wont use\n",
    "clf_adaboost = AdaBoostClassifier(n_estimators=400, random_state=2)\n",
    "clf_adaboost.fit(x_train, x_test)"
   ]
  },
  {
   "cell_type": "code",
   "execution_count": 29,
   "metadata": {
    "tags": []
   },
   "outputs": [
    {
     "output_type": "stream",
     "name": "stdout",
     "text": "Score: 0.8744719372359686\n"
    },
    {
     "output_type": "execute_result",
     "data": {
      "text/plain": "0.6754409981372438"
     },
     "metadata": {},
     "execution_count": 29
    }
   ],
   "source": [
    "predictions = clf_adaboost.predict(y_train)\n",
    "print(\"Score: {}\".format(clf_adaboost.score(y_train, y_test)))\n",
    "roc_auc_score(predictions, np.array(y_test))"
   ]
  },
  {
   "cell_type": "code",
   "execution_count": 31,
   "metadata": {
    "tags": []
   },
   "outputs": [
    {
     "output_type": "stream",
     "name": "stderr",
     "text": "[Parallel(n_jobs=1)]: Using backend SequentialBackend with 1 concurrent workers.\n[Parallel(n_jobs=1)]: Done 400 out of 400 | elapsed:  3.3min finished\n"
    },
    {
     "output_type": "execute_result",
     "data": {
      "text/plain": "RandomForestClassifier(n_estimators=400, random_state=2, verbose=True)"
     },
     "metadata": {},
     "execution_count": 31
    }
   ],
   "source": [
    "from sklearn.ensemble import RandomForestClassifier\n",
    "cls_randomforest = RandomForestClassifier(n_estimators=400, criterion='gini', random_state=2, verbose=True)\n",
    "cls_randomforest.fit(x_train, x_test)"
   ]
  },
  {
   "cell_type": "code",
   "execution_count": 33,
   "metadata": {
    "tags": []
   },
   "outputs": [
    {
     "output_type": "stream",
     "name": "stderr",
     "text": "[Parallel(n_jobs=1)]: Using backend SequentialBackend with 1 concurrent workers.\n[Parallel(n_jobs=1)]: Done 400 out of 400 | elapsed:    4.7s finished\n[Parallel(n_jobs=1)]: Using backend SequentialBackend with 1 concurrent workers.\nScore: 0.8641074755319986\n[Parallel(n_jobs=1)]: Done 400 out of 400 | elapsed:    3.1s finished\n"
    },
    {
     "output_type": "execute_result",
     "data": {
      "text/plain": "0.6259202635157612"
     },
     "metadata": {},
     "execution_count": 33
    }
   ],
   "source": [
    "predictions = cls_randomforest.predict(y_train)\n",
    "print(\"Score: {}\".format(cls_randomforest.score(y_train, y_test)))\n",
    "roc_auc_score(predictions, np.array(y_test))"
   ]
  },
  {
   "cell_type": "code",
   "execution_count": 37,
   "metadata": {
    "tags": []
   },
   "outputs": [
    {
     "output_type": "stream",
     "name": "stderr",
     "text": "[Parallel(n_jobs=4)]: Using backend LokyBackend with 4 concurrent workers.\n[Parallel(n_jobs=4)]: Done   2 out of   4 | elapsed:  2.6min remaining:  2.6min\n[Parallel(n_jobs=4)]: Done   4 out of   4 | elapsed:  2.6min finished\n"
    },
    {
     "output_type": "execute_result",
     "data": {
      "text/plain": "BaggingClassifier(n_estimators=400, n_jobs=4, random_state=2, verbose=1)"
     },
     "metadata": {},
     "execution_count": 37
    }
   ],
   "source": [
    "from sklearn.ensemble import BaggingClassifier\n",
    "cls_bagging = BaggingClassifier(n_estimators=400, n_jobs=4, random_state=2, verbose=1)\n",
    "cls_bagging.fit(x_train, x_test)"
   ]
  },
  {
   "cell_type": "code",
   "execution_count": 38,
   "metadata": {
    "tags": []
   },
   "outputs": [
    {
     "output_type": "stream",
     "name": "stderr",
     "text": "[Parallel(n_jobs=4)]: Using backend LokyBackend with 4 concurrent workers.\n[Parallel(n_jobs=4)]: Done   2 out of   4 | elapsed:    4.1s remaining:    4.1s\n[Parallel(n_jobs=4)]: Done   4 out of   4 | elapsed:    5.2s finished\n[Parallel(n_jobs=4)]: Using backend LokyBackend with 4 concurrent workers.\n[Parallel(n_jobs=4)]: Done   2 out of   4 | elapsed:    5.8s remaining:    5.8s\nScore: 0.8619821049040959\n[Parallel(n_jobs=4)]: Done   4 out of   4 | elapsed:    6.3s finished\n"
    },
    {
     "output_type": "execute_result",
     "data": {
      "text/plain": "0.6209097947203638"
     },
     "metadata": {},
     "execution_count": 38
    }
   ],
   "source": [
    "predictions = cls_bagging.predict(y_train)\n",
    "print(\"Score: {}\".format(cls_bagging.score(y_train, y_test)))\n",
    "roc_auc_score(predictions, np.array(y_test))"
   ]
  },
  {
   "cell_type": "code",
   "execution_count": 41,
   "metadata": {
    "tags": []
   },
   "outputs": [
    {
     "output_type": "stream",
     "name": "stderr",
     "text": "[Parallel(n_jobs=1)]: Using backend SequentialBackend with 1 concurrent workers.\n[Parallel(n_jobs=1)]: Done 400 out of 400 | elapsed:  2.3min finished\n"
    },
    {
     "output_type": "execute_result",
     "data": {
      "text/plain": "ExtraTreesClassifier(n_estimators=400, random_state=2, verbose=True)"
     },
     "metadata": {},
     "execution_count": 41
    }
   ],
   "source": [
    "from sklearn.ensemble import ExtraTreesClassifier\n",
    "cls_extra = ExtraTreesClassifier(n_estimators=400, criterion='gini', random_state=2, verbose=True)\n",
    "cls_extra.fit(x_train, x_test)"
   ]
  },
  {
   "cell_type": "code",
   "execution_count": 42,
   "metadata": {
    "tags": []
   },
   "outputs": [
    {
     "output_type": "stream",
     "name": "stderr",
     "text": "[Parallel(n_jobs=1)]: Using backend SequentialBackend with 1 concurrent workers.\n[Parallel(n_jobs=1)]: Done 400 out of 400 | elapsed:   11.7s finished\n[Parallel(n_jobs=1)]: Using backend SequentialBackend with 1 concurrent workers.\nScore: 0.8598042559890845\n[Parallel(n_jobs=1)]: Done 400 out of 400 | elapsed:    4.3s finished\n"
    },
    {
     "output_type": "execute_result",
     "data": {
      "text/plain": "0.6238235648978123"
     },
     "metadata": {},
     "execution_count": 42
    }
   ],
   "source": [
    "predictions = cls_extra.predict(y_train)\n",
    "print(\"Score: {}\".format(cls_extra.score(y_train, y_test)))\n",
    "roc_auc_score(predictions, np.array(y_test))"
   ]
  },
  {
   "cell_type": "code",
   "execution_count": null,
   "metadata": {},
   "outputs": [],
   "source": []
  },
  {
   "cell_type": "code",
   "execution_count": null,
   "metadata": {},
   "outputs": [],
   "source": []
  },
  {
   "cell_type": "code",
   "execution_count": null,
   "metadata": {},
   "outputs": [],
   "source": []
  },
  {
   "cell_type": "code",
   "execution_count": null,
   "metadata": {},
   "outputs": [],
   "source": []
  },
  {
   "cell_type": "code",
   "execution_count": null,
   "metadata": {},
   "outputs": [],
   "source": []
  }
 ],
 "metadata": {
  "kernelspec": {
   "display_name": "Python 3.7.9 64-bit ('py37_ML': conda)",
   "language": "python",
   "name": "python37964bitpy37mlcondac05a46a85ef34d87a96777b4ab394e30"
  },
  "language_info": {
   "codemirror_mode": {
    "name": "ipython",
    "version": 3
   },
   "file_extension": ".py",
   "mimetype": "text/x-python",
   "name": "python",
   "nbconvert_exporter": "python",
   "pygments_lexer": "ipython3",
   "version": "3.7.9-final"
  }
 },
 "nbformat": 4,
 "nbformat_minor": 2
}