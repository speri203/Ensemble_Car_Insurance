{
 "cells": [
  {
   "cell_type": "code",
   "execution_count": 18,
   "metadata": {},
   "outputs": [],
   "source": [
    "import numpy as np\n",
    "import pandas as pd\n",
    "import seaborn as sns\n",
    "import sklearn.ensemble as ens\n",
    "from sklearn.model_selection import train_test_split"
   ]
  },
  {
   "cell_type": "code",
   "execution_count": 19,
   "metadata": {},
   "outputs": [],
   "source": [
    "train = pd.read_csv(\"Datasets/train_cleaned_data.csv\")\n",
    "test = pd.read_csv('Datasets/test_cleaned_data.csv')"
   ]
  },
  {
   "cell_type": "code",
   "execution_count": 20,
   "metadata": {},
   "outputs": [
    {
     "output_type": "execute_result",
     "data": {
      "text/plain": "Unnamed: 0                int64\nid                        int64\nGender                    int64\nAge                       int64\nDriving_License           int64\nRegion_Code             float64\nPreviously_Insured        int64\nVehicle_Age               int64\nVehicle_Damage            int64\nAnnual_Premium          float64\nPolicy_Sales_Channel    float64\nVintage                   int64\nResponse                  int64\ndtype: object"
     },
     "metadata": {},
     "execution_count": 20
    }
   ],
   "source": [
    "train.dtypes"
   ]
  },
  {
   "cell_type": "code",
   "execution_count": 21,
   "metadata": {},
   "outputs": [
    {
     "output_type": "execute_result",
     "data": {
      "text/plain": "Unnamed: 0              int64\nid                      int64\nGender                  int64\nAge                     int64\nDriving_License         int64\nRegion_Code             int64\nPreviously_Insured      int64\nVehicle_Age             int64\nVehicle_Damage          int64\nAnnual_Premium          int64\nPolicy_Sales_Channel    int64\nVintage                 int64\nResponse                int64\ndtype: object"
     },
     "metadata": {},
     "execution_count": 21
    }
   ],
   "source": [
    "## Converting float64 dtypes to int64 so the data can be compatable with the models\n",
    "train['Policy_Sales_Channel'] = train['Policy_Sales_Channel'].astype('int64')\n",
    "train['Annual_Premium'] = train['Annual_Premium'].astype('int64')\n",
    "train['Region_Code'] = train['Region_Code'].astype('int64')\n",
    "train.dtypes"
   ]
  },
  {
   "cell_type": "code",
   "execution_count": 22,
   "metadata": {},
   "outputs": [],
   "source": [
    "## Extracting responses from the training dataset\n",
    "responses = train['Response']\n",
    "\n",
    "## Will be dropping id and responses from the training dataset\n",
    "train.drop(['Response', 'id', 'Unnamed: 0'], axis=1, inplace=True)"
   ]
  },
  {
   "cell_type": "code",
   "execution_count": 23,
   "metadata": {},
   "outputs": [],
   "source": [
    "## Splitting up the data using train_test_split with a shuffle added\n",
    "x_train, y_train, x_test, y_test = train_test_split(train, responses, test_size=0.1, random_state=42)"
   ]
  },
  {
   "cell_type": "code",
   "execution_count": 24,
   "metadata": {
    "tags": []
   },
   "outputs": [
    {
     "output_type": "stream",
     "name": "stdout",
     "text": "x_train length: 342998\nx_test length: 342998\ny_train length: 38111\ny_test length: 38111\n"
    }
   ],
   "source": [
    "print(\"x_train length: {}\\nx_test length: {}\\ny_train length: {}\\ny_test length: {}\".format(len(x_train), len(x_test), len(y_train), len(y_test)))"
   ]
  },
  {
   "cell_type": "code",
   "execution_count": 25,
   "metadata": {
    "tags": []
   },
   "outputs": [
    {
     "output_type": "stream",
     "name": "stdout",
     "text": "Iter       Train Loss   Remaining Time \n         1           0.7126            2.31m\n         2           0.6884            2.24m\n         3           0.6688            2.25m\n         4           0.6526            2.21m\n         5           0.6390            2.18m\n         6           0.6273            2.15m\n         7           0.6172            2.13m\n         8           0.6086            2.13m\n         9           0.6012            2.11m\n        10           0.5945            2.10m\n        20           0.5582            2.03m\n        30           0.5457            1.98m\n        40           0.5403            1.92m\n        50           0.5376            1.88m\n        60           0.5356            1.84m\n        70           0.5342            1.78m\n        80           0.5331            1.73m\n        90           0.5322            1.68m\n       100           0.5315            1.63m\n       200           0.5279            1.09m\n       300           0.5260           32.55s\n       400           0.5245            0.00s\n"
    },
    {
     "output_type": "execute_result",
     "data": {
      "text/plain": "GradientBoostingClassifier(n_estimators=400, random_state=2, verbose=1)"
     },
     "metadata": {},
     "execution_count": 25
    }
   ],
   "source": [
    "from sklearn.ensemble import GradientBoostingClassifier\n",
    "\n",
    "clf = GradientBoostingClassifier(random_state=2, verbose=1, n_estimators=400)\n",
    "clf.fit(x_train, x_test)"
   ]
  },
  {
   "cell_type": "code",
   "execution_count": 26,
   "metadata": {
    "tags": []
   },
   "outputs": [
    {
     "output_type": "stream",
     "name": "stdout",
     "text": "[0 0 0 0 0 0 0 0 0 0 0 0 0 0 0 0 0 0 0 0 0 0 0 0 0 0 0 0 0 0 0 0 0 0 0 0 0\n 0 0 0 0 0 0 0 0 0 0 0 0 0 0 0 0 0 0 0 0 0 0 0 0 0 0 0 0 0 0 0 0 0 0 0 0 0\n 0 0 0 0 0 0 0 0 0 0 0 0 0 0 0 0 0 0 0 0 0 0 0 0 0 0 0 0 0 0 0 0 0 0 0 0 0\n 0 0 0 0 0 0 0 0 0 0 0 0 0 0 0 0 0 0 0 0 0 0 0 0 0 0 0 0 0 0 0 0 0 0 0 0 0\n 0 0 0 0 0 0 0 0 0 0 0 0 0 0 0 0 0 0 0 0 0 0 0 0 0 0 0 0 0 0 0 0 0 0 0 0 0\n 0 0 0 0 0 0 0 0 0 0 0 0 0 0 0]\n[0 0 0 0 0 0 0 0 0 1 0 0 0 0 0 0 0 0 0 1 0 0 0 0 0 0 0 0 0 0 0 0 0 1 0 1 0\n 0 0 1 0 1 0 1 0 0 0 0 0 0 0 0 0 0 0 0 0 0 0 0 0 0 0 1 0 0 0 0 0 1 0 0 0 0\n 0 1 0 0 0 1 0 1 0 0 0 0 0 0 0 0 0 0 0 0 1 0 0 0 0 0 0 0 0 0 0 0 0 0 0 0 1\n 0 0 0 1 0 0 1 0 0 0 0 1 0 0 0 0 0 0 0 0 0 0 0 0 0 1 0 0 0 0 0 0 0 0 0 1 0\n 0 1 0 0 0 0 0 0 0 0 0 0 0 0 0 0 1 0 0 1 0 0 0 1 0 1 0 0 0 0 0 0 0 0 0 0 0\n 0 0 0 1 0 0 1 0 1 0 0 0 0 0 0]\n"
    }
   ],
   "source": [
    "prediction = clf.predict(y_train[:200])\n",
    "actual = y_test[:200]\n",
    "print(\"{}\\n{}\".format(prediction, np.array(actual)))"
   ]
  },
  {
   "cell_type": "code",
   "execution_count": 27,
   "metadata": {
    "tags": []
   },
   "outputs": [
    {
     "output_type": "stream",
     "name": "stdout",
     "text": "Score: 0.8747343286715121\n"
    },
    {
     "output_type": "execute_result",
     "data": {
      "text/plain": "0.7130274666529549"
     },
     "metadata": {},
     "execution_count": 27
    }
   ],
   "source": [
    "from sklearn.metrics import roc_auc_score\n",
    "predictions = clf.predict(y_train)\n",
    "print(\"Score: {}\".format(clf.score(y_train, y_test)))\n",
    "roc_auc_score(predictions, np.array(y_test))"
   ]
  },
  {
   "cell_type": "code",
   "execution_count": 28,
   "metadata": {},
   "outputs": [
    {
     "output_type": "execute_result",
     "data": {
      "text/plain": "AdaBoostClassifier(n_estimators=400)"
     },
     "metadata": {},
     "execution_count": 28
    }
   ],
   "source": [
    "from sklearn.tree import DecisionTreeClassifier\n",
    "clf_adaboost = AdaBoostClassifier(n_estimators=400)\n",
    "clf_adaboost.fit(x_train, x_test)"
   ]
  },
  {
   "cell_type": "code",
   "execution_count": 29,
   "metadata": {
    "tags": []
   },
   "outputs": [
    {
     "output_type": "stream",
     "name": "stdout",
     "text": "Score: 0.8744719372359686\n"
    },
    {
     "output_type": "execute_result",
     "data": {
      "text/plain": "0.6754409981372438"
     },
     "metadata": {},
     "execution_count": 29
    }
   ],
   "source": [
    "from sklearn.metrics import roc_auc_score\n",
    "predictions = clf_adaboost.predict(y_train)\n",
    "print(\"Score: {}\".format(clf_adaboost.score(y_train, y_test)))\n",
    "roc_auc_score(predictions, np.array(y_test))"
   ]
  }
 ],
 "metadata": {
  "kernelspec": {
   "display_name": "Python 3.7.9 64-bit ('py37_ML': conda)",
   "language": "python",
   "name": "python37964bitpy37mlcondac05a46a85ef34d87a96777b4ab394e30"
  },
  "language_info": {
   "codemirror_mode": {
    "name": "ipython",
    "version": 3
   },
   "file_extension": ".py",
   "mimetype": "text/x-python",
   "name": "python",
   "nbconvert_exporter": "python",
   "pygments_lexer": "ipython3",
   "version": "3.7.9-final"
  }
 },
 "nbformat": 4,
 "nbformat_minor": 2
}