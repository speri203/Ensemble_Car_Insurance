{
 "metadata": {
  "language_info": {
   "codemirror_mode": {
    "name": "ipython",
    "version": 3
   },
   "file_extension": ".py",
   "mimetype": "text/x-python",
   "name": "python",
   "nbconvert_exporter": "python",
   "pygments_lexer": "ipython3",
   "version": "3.7.9-final"
  },
  "orig_nbformat": 2,
  "kernelspec": {
   "name": "python_defaultSpec_1600557158952",
   "display_name": "Python 3.7.9 64-bit ('py37_ML': conda)"
  }
 },
 "nbformat": 4,
 "nbformat_minor": 2,
 "cells": [
  {
   "cell_type": "code",
   "execution_count": 42,
   "metadata": {},
   "outputs": [],
   "source": [
    "import numpy as np\n",
    "import pandas as pd\n",
    "import seaborn as sns\n",
    "import sklearn.ensemble as ens\n",
    "from sklearn.model_selection import train_test_split"
   ]
  },
  {
   "cell_type": "code",
   "execution_count": 43,
   "metadata": {},
   "outputs": [],
   "source": [
    "train = pd.read_csv(\"Datasets/train_cleaned_data.csv\")\n",
    "test = pd.read_csv('Datasets/test_cleaned_data.csv')"
   ]
  },
  {
   "cell_type": "code",
   "execution_count": 44,
   "metadata": {},
   "outputs": [
    {
     "output_type": "execute_result",
     "data": {
      "text/plain": "Unnamed: 0                int64\nid                        int64\nGender                    int64\nAge                       int64\nDriving_License           int64\nRegion_Code             float64\nPreviously_Insured        int64\nVehicle_Age               int64\nVehicle_Damage            int64\nAnnual_Premium          float64\nPolicy_Sales_Channel    float64\nVintage                   int64\nResponse                  int64\ndtype: object"
     },
     "metadata": {},
     "execution_count": 44
    }
   ],
   "source": [
    "train.dtypes"
   ]
  },
  {
   "cell_type": "code",
   "execution_count": 50,
   "metadata": {},
   "outputs": [
    {
     "output_type": "execute_result",
     "data": {
      "text/plain": "Unnamed: 0              int64\nid                      int64\nGender                  int64\nAge                     int64\nDriving_License         int64\nRegion_Code             int64\nPreviously_Insured      int64\nVehicle_Age             int64\nVehicle_Damage          int64\nAnnual_Premium          int64\nPolicy_Sales_Channel    int64\nVintage                 int64\nResponse                int64\ndtype: object"
     },
     "metadata": {},
     "execution_count": 50
    }
   ],
   "source": [
    "## Converting float64 dtypes to int64 so the data can be compatable with the models\n",
    "train['Policy_Sales_Channel'] = train['Policy_Sales_Channel'].astype('int64')\n",
    "train['Annual_Premium'] = train['Annual_Premium'].astype('int64')\n",
    "train['Region_Code'] = train['Region_Code'].astype('int64')\n",
    "train.dtypes"
   ]
  },
  {
   "cell_type": "code",
   "execution_count": 51,
   "metadata": {},
   "outputs": [],
   "source": [
    "## Extracting responses from the training dataset\n",
    "responses = train['Response']\n",
    "\n",
    "## Will be dropping id and responses from the training dataset\n",
    "train.drop(['Response', 'id', 'Unnamed: 0'], axis=1, inplace=True)"
   ]
  },
  {
   "cell_type": "code",
   "execution_count": 52,
   "metadata": {},
   "outputs": [],
   "source": [
    "## Splitting up the data using train_test_split with a shuffle added\n",
    "x_train, y_train, x_test, y_test = train_test_split(train, responses, test_size=0.1, random_state=42)"
   ]
  },
  {
   "cell_type": "code",
   "execution_count": 57,
   "metadata": {
    "tags": []
   },
   "outputs": [
    {
     "output_type": "stream",
     "name": "stdout",
     "text": "273483    0\n371246    0\n90689     0\n94809     0\n50505     0\n         ..\n259178    0\n365838    0\n131932    0\n146867    0\n121958    1\nName: Response, Length: 342998, dtype: int64\n"
    }
   ],
   "source": [
    "print(x_test)"
   ]
  },
  {
   "cell_type": "code",
   "execution_count": 58,
   "metadata": {},
   "outputs": [],
   "source": [
    "## Firstly will try to predict with SVM model\n",
    "from sklearn import svm\n",
    "\n",
    "clf = svm.SVC(random_state=2)\n",
    "clf.fit(x_train, x_test, verbose=True)"
   ]
  },
  {
   "cell_type": "code",
   "execution_count": null,
   "metadata": {},
   "outputs": [],
   "source": []
  },
  {
   "cell_type": "code",
   "execution_count": null,
   "metadata": {},
   "outputs": [],
   "source": []
  },
  {
   "cell_type": "code",
   "execution_count": null,
   "metadata": {},
   "outputs": [],
   "source": []
  },
  {
   "cell_type": "code",
   "execution_count": null,
   "metadata": {},
   "outputs": [],
   "source": []
  },
  {
   "cell_type": "code",
   "execution_count": null,
   "metadata": {},
   "outputs": [],
   "source": []
  },
  {
   "cell_type": "code",
   "execution_count": null,
   "metadata": {},
   "outputs": [],
   "source": []
  },
  {
   "cell_type": "code",
   "execution_count": null,
   "metadata": {},
   "outputs": [],
   "source": []
  },
  {
   "cell_type": "code",
   "execution_count": null,
   "metadata": {},
   "outputs": [],
   "source": []
  },
  {
   "cell_type": "code",
   "execution_count": null,
   "metadata": {},
   "outputs": [],
   "source": []
  },
  {
   "cell_type": "code",
   "execution_count": null,
   "metadata": {},
   "outputs": [],
   "source": []
  },
  {
   "cell_type": "code",
   "execution_count": null,
   "metadata": {},
   "outputs": [],
   "source": []
  }
 ]
}