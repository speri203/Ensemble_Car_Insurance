{
 "metadata": {
  "language_info": {
   "codemirror_mode": {
    "name": "ipython",
    "version": 3
   },
   "file_extension": ".py",
   "mimetype": "text/x-python",
   "name": "python",
   "nbconvert_exporter": "python",
   "pygments_lexer": "ipython3",
   "version": "3.7.9-final"
  },
  "orig_nbformat": 2,
  "kernelspec": {
   "name": "python37964bitpy37mlcondac05a46a85ef34d87a96777b4ab394e30",
   "display_name": "Python 3.7.9 64-bit ('py37_ML': conda)"
  }
 },
 "nbformat": 4,
 "nbformat_minor": 2,
 "cells": [
  {
   "cell_type": "code",
   "execution_count": 12,
   "metadata": {},
   "outputs": [],
   "source": [
    "import numpy as np\n",
    "import pandas as pd\n",
    "import matplotlib.pyplot as plt\n",
    "import seaborn as sb\n",
    "sb.set()"
   ]
  },
  {
   "cell_type": "code",
   "execution_count": 13,
   "metadata": {},
   "outputs": [
    {
     "output_type": "execute_result",
     "data": {
      "text/plain": "                  id            Age  Driving_License    Region_Code  \\\ncount  381109.000000  381109.000000    381109.000000  381109.000000   \nmean   190555.000000      38.822584         0.997869      26.388807   \nstd    110016.836208      15.511611         0.046110      13.229888   \nmin         1.000000      20.000000         0.000000       0.000000   \n25%     95278.000000      25.000000         1.000000      15.000000   \n50%    190555.000000      36.000000         1.000000      28.000000   \n75%    285832.000000      49.000000         1.000000      35.000000   \nmax    381109.000000      85.000000         1.000000      52.000000   \n\n       Previously_Insured  Annual_Premium  Policy_Sales_Channel  \\\ncount       381109.000000   381109.000000         381109.000000   \nmean             0.458210    30564.389581            112.034295   \nstd              0.498251    17213.155057             54.203995   \nmin              0.000000     2630.000000              1.000000   \n25%              0.000000    24405.000000             29.000000   \n50%              0.000000    31669.000000            133.000000   \n75%              1.000000    39400.000000            152.000000   \nmax              1.000000   540165.000000            163.000000   \n\n             Vintage       Response  \ncount  381109.000000  381109.000000  \nmean      154.347397       0.122563  \nstd        83.671304       0.327936  \nmin        10.000000       0.000000  \n25%        82.000000       0.000000  \n50%       154.000000       0.000000  \n75%       227.000000       0.000000  \nmax       299.000000       1.000000  ",
      "text/html": "<div>\n<style scoped>\n    .dataframe tbody tr th:only-of-type {\n        vertical-align: middle;\n    }\n\n    .dataframe tbody tr th {\n        vertical-align: top;\n    }\n\n    .dataframe thead th {\n        text-align: right;\n    }\n</style>\n<table border=\"1\" class=\"dataframe\">\n  <thead>\n    <tr style=\"text-align: right;\">\n      <th></th>\n      <th>id</th>\n      <th>Age</th>\n      <th>Driving_License</th>\n      <th>Region_Code</th>\n      <th>Previously_Insured</th>\n      <th>Annual_Premium</th>\n      <th>Policy_Sales_Channel</th>\n      <th>Vintage</th>\n      <th>Response</th>\n    </tr>\n  </thead>\n  <tbody>\n    <tr>\n      <th>count</th>\n      <td>381109.000000</td>\n      <td>381109.000000</td>\n      <td>381109.000000</td>\n      <td>381109.000000</td>\n      <td>381109.000000</td>\n      <td>381109.000000</td>\n      <td>381109.000000</td>\n      <td>381109.000000</td>\n      <td>381109.000000</td>\n    </tr>\n    <tr>\n      <th>mean</th>\n      <td>190555.000000</td>\n      <td>38.822584</td>\n      <td>0.997869</td>\n      <td>26.388807</td>\n      <td>0.458210</td>\n      <td>30564.389581</td>\n      <td>112.034295</td>\n      <td>154.347397</td>\n      <td>0.122563</td>\n    </tr>\n    <tr>\n      <th>std</th>\n      <td>110016.836208</td>\n      <td>15.511611</td>\n      <td>0.046110</td>\n      <td>13.229888</td>\n      <td>0.498251</td>\n      <td>17213.155057</td>\n      <td>54.203995</td>\n      <td>83.671304</td>\n      <td>0.327936</td>\n    </tr>\n    <tr>\n      <th>min</th>\n      <td>1.000000</td>\n      <td>20.000000</td>\n      <td>0.000000</td>\n      <td>0.000000</td>\n      <td>0.000000</td>\n      <td>2630.000000</td>\n      <td>1.000000</td>\n      <td>10.000000</td>\n      <td>0.000000</td>\n    </tr>\n    <tr>\n      <th>25%</th>\n      <td>95278.000000</td>\n      <td>25.000000</td>\n      <td>1.000000</td>\n      <td>15.000000</td>\n      <td>0.000000</td>\n      <td>24405.000000</td>\n      <td>29.000000</td>\n      <td>82.000000</td>\n      <td>0.000000</td>\n    </tr>\n    <tr>\n      <th>50%</th>\n      <td>190555.000000</td>\n      <td>36.000000</td>\n      <td>1.000000</td>\n      <td>28.000000</td>\n      <td>0.000000</td>\n      <td>31669.000000</td>\n      <td>133.000000</td>\n      <td>154.000000</td>\n      <td>0.000000</td>\n    </tr>\n    <tr>\n      <th>75%</th>\n      <td>285832.000000</td>\n      <td>49.000000</td>\n      <td>1.000000</td>\n      <td>35.000000</td>\n      <td>1.000000</td>\n      <td>39400.000000</td>\n      <td>152.000000</td>\n      <td>227.000000</td>\n      <td>0.000000</td>\n    </tr>\n    <tr>\n      <th>max</th>\n      <td>381109.000000</td>\n      <td>85.000000</td>\n      <td>1.000000</td>\n      <td>52.000000</td>\n      <td>1.000000</td>\n      <td>540165.000000</td>\n      <td>163.000000</td>\n      <td>299.000000</td>\n      <td>1.000000</td>\n    </tr>\n  </tbody>\n</table>\n</div>"
     },
     "metadata": {},
     "execution_count": 13
    }
   ],
   "source": [
    "df = pd.read_csv('Datasets/train.csv')\n",
    "df_test = pd.read_csv('Datasets/test.csv')\n",
    "df.describe()"
   ]
  },
  {
   "cell_type": "code",
   "execution_count": 14,
   "metadata": {},
   "outputs": [
    {
     "output_type": "execute_result",
     "data": {
      "text/plain": "   id  Gender  Age  Driving_License  Region_Code  Previously_Insured  \\\n0   1    Male   44                1         28.0                   0   \n1   2    Male   76                1          3.0                   0   \n2   3    Male   47                1         28.0                   0   \n3   4    Male   21                1         11.0                   1   \n4   5  Female   29                1         41.0                   1   \n\n  Vehicle_Age Vehicle_Damage  Annual_Premium  Policy_Sales_Channel  Vintage  \\\n0   > 2 Years            Yes         40454.0                  26.0      217   \n1    1-2 Year             No         33536.0                  26.0      183   \n2   > 2 Years            Yes         38294.0                  26.0       27   \n3    < 1 Year             No         28619.0                 152.0      203   \n4    < 1 Year             No         27496.0                 152.0       39   \n\n   Response  \n0         1  \n1         0  \n2         1  \n3         0  \n4         0  ",
      "text/html": "<div>\n<style scoped>\n    .dataframe tbody tr th:only-of-type {\n        vertical-align: middle;\n    }\n\n    .dataframe tbody tr th {\n        vertical-align: top;\n    }\n\n    .dataframe thead th {\n        text-align: right;\n    }\n</style>\n<table border=\"1\" class=\"dataframe\">\n  <thead>\n    <tr style=\"text-align: right;\">\n      <th></th>\n      <th>id</th>\n      <th>Gender</th>\n      <th>Age</th>\n      <th>Driving_License</th>\n      <th>Region_Code</th>\n      <th>Previously_Insured</th>\n      <th>Vehicle_Age</th>\n      <th>Vehicle_Damage</th>\n      <th>Annual_Premium</th>\n      <th>Policy_Sales_Channel</th>\n      <th>Vintage</th>\n      <th>Response</th>\n    </tr>\n  </thead>\n  <tbody>\n    <tr>\n      <th>0</th>\n      <td>1</td>\n      <td>Male</td>\n      <td>44</td>\n      <td>1</td>\n      <td>28.0</td>\n      <td>0</td>\n      <td>&gt; 2 Years</td>\n      <td>Yes</td>\n      <td>40454.0</td>\n      <td>26.0</td>\n      <td>217</td>\n      <td>1</td>\n    </tr>\n    <tr>\n      <th>1</th>\n      <td>2</td>\n      <td>Male</td>\n      <td>76</td>\n      <td>1</td>\n      <td>3.0</td>\n      <td>0</td>\n      <td>1-2 Year</td>\n      <td>No</td>\n      <td>33536.0</td>\n      <td>26.0</td>\n      <td>183</td>\n      <td>0</td>\n    </tr>\n    <tr>\n      <th>2</th>\n      <td>3</td>\n      <td>Male</td>\n      <td>47</td>\n      <td>1</td>\n      <td>28.0</td>\n      <td>0</td>\n      <td>&gt; 2 Years</td>\n      <td>Yes</td>\n      <td>38294.0</td>\n      <td>26.0</td>\n      <td>27</td>\n      <td>1</td>\n    </tr>\n    <tr>\n      <th>3</th>\n      <td>4</td>\n      <td>Male</td>\n      <td>21</td>\n      <td>1</td>\n      <td>11.0</td>\n      <td>1</td>\n      <td>&lt; 1 Year</td>\n      <td>No</td>\n      <td>28619.0</td>\n      <td>152.0</td>\n      <td>203</td>\n      <td>0</td>\n    </tr>\n    <tr>\n      <th>4</th>\n      <td>5</td>\n      <td>Female</td>\n      <td>29</td>\n      <td>1</td>\n      <td>41.0</td>\n      <td>1</td>\n      <td>&lt; 1 Year</td>\n      <td>No</td>\n      <td>27496.0</td>\n      <td>152.0</td>\n      <td>39</td>\n      <td>0</td>\n    </tr>\n  </tbody>\n</table>\n</div>"
     },
     "metadata": {},
     "execution_count": 14
    }
   ],
   "source": [
    "df.head()"
   ]
  },
  {
   "cell_type": "code",
   "execution_count": 15,
   "metadata": {},
   "outputs": [],
   "source": [
    "## Vehicle_Age is represented in inequality format, this can be mapped to the following\n",
    "## < 1 = 0\n",
    "## 1-2 = 1\n",
    "## > 2 = 2\n",
    "## Cleaning Training set\n",
    "df.Vehicle_Age = df.Vehicle_Age.apply(lambda x: 2 if x == '> 2 Years' else (1 if x == '1-2 Year' else 0))\n",
    "df.Vehicle_Damage = df.Vehicle_Damage.apply(lambda x: 1 if x == 'Yes' else 0)\n",
    "df.Gender = df.Gender.apply(lambda x: 1 if x == 'Male' else 0)\n",
    "## Cleaning Testing set\n",
    "df_test.Vehicle_Age = df_test.Vehicle_Age.apply(lambda x: 2 if x == '> 2 Years' else (1 if x == '1-2 Year' else 0))\n",
    "df_test.Vehicle_Damage = df_test.Vehicle_Damage.apply(lambda x: 1 if x == 'Yes' else 0)\n",
    "df_test.Gender = df.Gender.apply(lambda x: 1 if x == 'Male' else 0)\n"
   ]
  },
  {
   "cell_type": "code",
   "execution_count": 16,
   "metadata": {},
   "outputs": [
    {
     "output_type": "execute_result",
     "data": {
      "text/plain": "       id  Gender  Age  Driving_License  Region_Code  Previously_Insured  \\\n0  381110       0   25                1         11.0                   1   \n1  381111       0   40                1         28.0                   0   \n2  381112       0   47                1         28.0                   0   \n3  381113       0   24                1         27.0                   1   \n4  381114       0   27                1         28.0                   1   \n\n   Vehicle_Age  Vehicle_Damage  Annual_Premium  Policy_Sales_Channel  Vintage  \n0            0               0         35786.0                 152.0       53  \n1            1               1         33762.0                   7.0      111  \n2            1               1         40050.0                 124.0      199  \n3            0               1         37356.0                 152.0      187  \n4            0               0         59097.0                 152.0      297  ",
      "text/html": "<div>\n<style scoped>\n    .dataframe tbody tr th:only-of-type {\n        vertical-align: middle;\n    }\n\n    .dataframe tbody tr th {\n        vertical-align: top;\n    }\n\n    .dataframe thead th {\n        text-align: right;\n    }\n</style>\n<table border=\"1\" class=\"dataframe\">\n  <thead>\n    <tr style=\"text-align: right;\">\n      <th></th>\n      <th>id</th>\n      <th>Gender</th>\n      <th>Age</th>\n      <th>Driving_License</th>\n      <th>Region_Code</th>\n      <th>Previously_Insured</th>\n      <th>Vehicle_Age</th>\n      <th>Vehicle_Damage</th>\n      <th>Annual_Premium</th>\n      <th>Policy_Sales_Channel</th>\n      <th>Vintage</th>\n    </tr>\n  </thead>\n  <tbody>\n    <tr>\n      <th>0</th>\n      <td>381110</td>\n      <td>0</td>\n      <td>25</td>\n      <td>1</td>\n      <td>11.0</td>\n      <td>1</td>\n      <td>0</td>\n      <td>0</td>\n      <td>35786.0</td>\n      <td>152.0</td>\n      <td>53</td>\n    </tr>\n    <tr>\n      <th>1</th>\n      <td>381111</td>\n      <td>0</td>\n      <td>40</td>\n      <td>1</td>\n      <td>28.0</td>\n      <td>0</td>\n      <td>1</td>\n      <td>1</td>\n      <td>33762.0</td>\n      <td>7.0</td>\n      <td>111</td>\n    </tr>\n    <tr>\n      <th>2</th>\n      <td>381112</td>\n      <td>0</td>\n      <td>47</td>\n      <td>1</td>\n      <td>28.0</td>\n      <td>0</td>\n      <td>1</td>\n      <td>1</td>\n      <td>40050.0</td>\n      <td>124.0</td>\n      <td>199</td>\n    </tr>\n    <tr>\n      <th>3</th>\n      <td>381113</td>\n      <td>0</td>\n      <td>24</td>\n      <td>1</td>\n      <td>27.0</td>\n      <td>1</td>\n      <td>0</td>\n      <td>1</td>\n      <td>37356.0</td>\n      <td>152.0</td>\n      <td>187</td>\n    </tr>\n    <tr>\n      <th>4</th>\n      <td>381114</td>\n      <td>0</td>\n      <td>27</td>\n      <td>1</td>\n      <td>28.0</td>\n      <td>1</td>\n      <td>0</td>\n      <td>0</td>\n      <td>59097.0</td>\n      <td>152.0</td>\n      <td>297</td>\n    </tr>\n  </tbody>\n</table>\n</div>"
     },
     "metadata": {},
     "execution_count": 16
    }
   ],
   "source": [
    "df_test.head()"
   ]
  },
  {
   "cell_type": "code",
   "execution_count": 17,
   "metadata": {},
   "outputs": [
    {
     "output_type": "execute_result",
     "data": {
      "text/plain": "Index(['id', 'Gender', 'Age', 'Driving_License', 'Region_Code',\n       'Previously_Insured', 'Vehicle_Age', 'Vehicle_Damage', 'Annual_Premium',\n       'Policy_Sales_Channel', 'Vintage', 'Response'],\n      dtype='object')"
     },
     "metadata": {},
     "execution_count": 17
    }
   ],
   "source": [
    "df.columns"
   ]
  },
  {
   "cell_type": "code",
   "execution_count": 18,
   "metadata": {},
   "outputs": [],
   "source": [
    "## No further cleaning will be done. The Gender and Vehicle_Damage columns will be encoded before being fed into the model \n",
    "df.to_csv('Datasets/train_cleaned_data.csv')\n",
    "df_test.to_csv('Datasets/test_cleaned_data.csv')"
   ]
  }
 ]
}